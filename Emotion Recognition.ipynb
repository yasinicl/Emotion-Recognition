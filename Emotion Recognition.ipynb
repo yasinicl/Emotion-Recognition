{
 "cells": [
  {
   "cell_type": "code",
   "execution_count": 105,
   "metadata": {},
   "outputs": [],
   "source": [
    "import pandas as pd\n",
    "import numpy as np\n",
    "\n",
    "\n",
    "\n"
   ]
  },
  {
   "cell_type": "code",
   "execution_count": 106,
   "metadata": {},
   "outputs": [],
   "source": [
    "import matplotlib.pyplot as plt \n",
    "import seaborn as sns "
   ]
  },
  {
   "cell_type": "code",
   "execution_count": 107,
   "metadata": {},
   "outputs": [],
   "source": [
    "import neattext.functions as nfx"
   ]
  },
  {
   "cell_type": "code",
   "execution_count": null,
   "metadata": {},
   "outputs": [],
   "source": []
  },
  {
   "cell_type": "code",
   "execution_count": 108,
   "metadata": {},
   "outputs": [],
   "source": [
    "# df_train = pd.read_csv('data_train.csv')\n",
    "#df_test = pd.read_csv('data_test.csv')\n",
    "\n",
    "#X_train = df_train.Text\n",
    "#X_test = df_test.Text\n",
    "\n",
    "#y_train = df_train.Emotion\n",
    "#y_test = df_test.Emotion\n",
    "\n",
    "#class_names = ['joy', 'sadness', 'anger', 'neutral', 'fear']\n",
    "#df = pd.concat([df_train, df_test])\n",
    "\n",
    "#print('size of training set: %s' % (len(df_train['Text'])))\n",
    "#print('size of validation set: %s' % (len(df_test['Text'])))\n",
    "#print(df.Emotion.value_counts())\n",
    "\n",
    "#df.head()\n",
    "#df=pd.read_csv('dataset/tweet_emotions.csv')\n",
    "\n",
    "#df=pd.read_csv('merged.csv')\n",
    "df=pd.read_csv('dataset/isear.csv')\n",
    "#df=pd.read_csv('dataset/emotion-stimulus.csv')\n",
    "#df=pd.read_csv('dataset/dailydialog.csv')"
   ]
  },
  {
   "cell_type": "code",
   "execution_count": null,
   "metadata": {},
   "outputs": [],
   "source": [
    "\n"
   ]
  },
  {
   "cell_type": "code",
   "execution_count": 109,
   "metadata": {},
   "outputs": [
    {
     "data": {
      "text/html": [
       "<div>\n",
       "<style scoped>\n",
       "    .dataframe tbody tr th:only-of-type {\n",
       "        vertical-align: middle;\n",
       "    }\n",
       "\n",
       "    .dataframe tbody tr th {\n",
       "        vertical-align: top;\n",
       "    }\n",
       "\n",
       "    .dataframe thead th {\n",
       "        text-align: right;\n",
       "    }\n",
       "</style>\n",
       "<table border=\"1\" class=\"dataframe\">\n",
       "  <thead>\n",
       "    <tr style=\"text-align: right;\">\n",
       "      <th></th>\n",
       "      <th>Emotion</th>\n",
       "      <th>Text</th>\n",
       "    </tr>\n",
       "  </thead>\n",
       "  <tbody>\n",
       "    <tr>\n",
       "      <th>0</th>\n",
       "      <td>joy</td>\n",
       "      <td>During the period of falling in love, each tim...</td>\n",
       "    </tr>\n",
       "    <tr>\n",
       "      <th>1</th>\n",
       "      <td>fear</td>\n",
       "      <td>When I was involved in a traffic accident.</td>\n",
       "    </tr>\n",
       "    <tr>\n",
       "      <th>2</th>\n",
       "      <td>anger</td>\n",
       "      <td>When I was driving home after  several days of...</td>\n",
       "    </tr>\n",
       "    <tr>\n",
       "      <th>3</th>\n",
       "      <td>sadness</td>\n",
       "      <td>When I lost the person who meant the most to me.</td>\n",
       "    </tr>\n",
       "    <tr>\n",
       "      <th>4</th>\n",
       "      <td>disgust</td>\n",
       "      <td>The time I knocked a deer down - the sight of ...</td>\n",
       "    </tr>\n",
       "  </tbody>\n",
       "</table>\n",
       "</div>"
      ],
      "text/plain": [
       "   Emotion                                               Text\n",
       "0      joy  During the period of falling in love, each tim...\n",
       "1     fear         When I was involved in a traffic accident.\n",
       "2    anger  When I was driving home after  several days of...\n",
       "3  sadness  When I lost the person who meant the most to me. \n",
       "4  disgust  The time I knocked a deer down - the sight of ..."
      ]
     },
     "execution_count": 109,
     "metadata": {},
     "output_type": "execute_result"
    }
   ],
   "source": [
    "df.head()"
   ]
  },
  {
   "cell_type": "code",
   "execution_count": null,
   "metadata": {},
   "outputs": [],
   "source": []
  },
  {
   "cell_type": "code",
   "execution_count": 110,
   "metadata": {},
   "outputs": [
    {
     "data": {
      "text/plain": [
       "(7473, 2)"
      ]
     },
     "execution_count": 110,
     "metadata": {},
     "output_type": "execute_result"
    }
   ],
   "source": [
    "df.shape"
   ]
  },
  {
   "cell_type": "code",
   "execution_count": 111,
   "metadata": {},
   "outputs": [
    {
     "data": {
      "text/plain": [
       "Emotion    object\n",
       "Text       object\n",
       "dtype: object"
      ]
     },
     "execution_count": 111,
     "metadata": {},
     "output_type": "execute_result"
    }
   ],
   "source": [
    "df.dtypes"
   ]
  },
  {
   "cell_type": "code",
   "execution_count": 112,
   "metadata": {},
   "outputs": [
    {
     "data": {
      "text/plain": [
       "Emotion    0\n",
       "Text       0\n",
       "dtype: int64"
      ]
     },
     "execution_count": 112,
     "metadata": {},
     "output_type": "execute_result"
    }
   ],
   "source": [
    "df.isnull().sum()"
   ]
  },
  {
   "cell_type": "code",
   "execution_count": null,
   "metadata": {},
   "outputs": [],
   "source": []
  },
  {
   "cell_type": "code",
   "execution_count": 113,
   "metadata": {},
   "outputs": [
    {
     "data": {
      "text/plain": [
       "joy        1081\n",
       "fear       1081\n",
       "anger      1071\n",
       "sadness    1067\n",
       "disgust    1067\n",
       "shame      1054\n",
       "guilt      1052\n",
       "Name: Emotion, dtype: int64"
      ]
     },
     "execution_count": 113,
     "metadata": {},
     "output_type": "execute_result"
    }
   ],
   "source": [
    "#value count of emotions\n",
    "df['Emotion'].value_counts()"
   ]
  },
  {
   "cell_type": "code",
   "execution_count": 114,
   "metadata": {},
   "outputs": [],
   "source": [
    "#plt.figure(figsize=(15,5))\n",
    "#sns.countplot(x='Emotion',data=df)\n",
    "#plt.show"
   ]
  },
  {
   "cell_type": "code",
   "execution_count": null,
   "metadata": {},
   "outputs": [],
   "source": [
    "\n"
   ]
  },
  {
   "cell_type": "code",
   "execution_count": 115,
   "metadata": {},
   "outputs": [],
   "source": [
    "#Sentiment Analysis\n",
    "#from textblob import TextBlob"
   ]
  },
  {
   "cell_type": "code",
   "execution_count": 116,
   "metadata": {},
   "outputs": [],
   "source": [
    "#def get_sentiment(text):\n",
    "  #  blob =TextBlob(text)\n",
    "  #  sentiment= blob.sentiment.polarity\n",
    "  #  if sentiment >0:\n",
    "   #     result='Positive'\n",
    "   # elif sentiment <0:\n",
    "   #     result ='Negative'\n",
    "  #  else:\n",
    "     #   result=\"Neutral\"\n",
    "  #  return result"
   ]
  },
  {
   "cell_type": "code",
   "execution_count": 117,
   "metadata": {},
   "outputs": [],
   "source": [
    "#testing \n",
    "#get_sentiment(\"I love coding\")"
   ]
  },
  {
   "cell_type": "code",
   "execution_count": 118,
   "metadata": {},
   "outputs": [],
   "source": [
    "#df['Sentiment']=df['Text'].apply(get_sentiment)"
   ]
  },
  {
   "cell_type": "code",
   "execution_count": 119,
   "metadata": {},
   "outputs": [],
   "source": [
    "#df.head()"
   ]
  },
  {
   "cell_type": "code",
   "execution_count": 120,
   "metadata": {},
   "outputs": [],
   "source": [
    "#Comparing Emotion and Sentiments\n",
    "#df.groupby(['Emotion','Sentiment']).size()"
   ]
  },
  {
   "cell_type": "code",
   "execution_count": 121,
   "metadata": {},
   "outputs": [],
   "source": [
    "#df.groupby(['Emotion','Sentiment']).size().plot(kind='bar')"
   ]
  },
  {
   "cell_type": "code",
   "execution_count": 122,
   "metadata": {},
   "outputs": [],
   "source": [
    "#sns.catplot(x='Emotion',hue='Sentiment',data=df, kind='count', aspect=1.5)"
   ]
  },
  {
   "cell_type": "code",
   "execution_count": 123,
   "metadata": {},
   "outputs": [],
   "source": [
    "#Text Cleaning\n"
   ]
  },
  {
   "cell_type": "code",
   "execution_count": 124,
   "metadata": {},
   "outputs": [
    {
     "data": {
      "text/plain": [
       "['BTC_ADDRESS_REGEX',\n",
       " 'CURRENCY_REGEX',\n",
       " 'CURRENCY_SYMB_REGEX',\n",
       " 'Counter',\n",
       " 'DATE_REGEX',\n",
       " 'EMAIL_REGEX',\n",
       " 'EMOJI_REGEX',\n",
       " 'HASTAG_REGEX',\n",
       " 'MASTERCard_REGEX',\n",
       " 'MD5_SHA_REGEX',\n",
       " 'MOST_COMMON_PUNCT_REGEX',\n",
       " 'NUMBERS_REGEX',\n",
       " 'PHONE_REGEX',\n",
       " 'PoBOX_REGEX',\n",
       " 'SPECIAL_CHARACTERS_REGEX',\n",
       " 'STOPWORDS',\n",
       " 'STOPWORDS_de',\n",
       " 'STOPWORDS_en',\n",
       " 'STOPWORDS_es',\n",
       " 'STOPWORDS_fr',\n",
       " 'STOPWORDS_ru',\n",
       " 'STOPWORDS_yo',\n",
       " 'STREET_ADDRESS_REGEX',\n",
       " 'TextFrame',\n",
       " 'URL_PATTERN',\n",
       " 'USER_HANDLES_REGEX',\n",
       " 'VISACard_REGEX',\n",
       " '__builtins__',\n",
       " '__cached__',\n",
       " '__doc__',\n",
       " '__file__',\n",
       " '__generate_text',\n",
       " '__loader__',\n",
       " '__name__',\n",
       " '__numbers_dict',\n",
       " '__package__',\n",
       " '__spec__',\n",
       " '_lex_richness_herdan',\n",
       " '_lex_richness_maas_ttr',\n",
       " 'clean_text',\n",
       " 'defaultdict',\n",
       " 'digit2words',\n",
       " 'extract_btc_address',\n",
       " 'extract_currencies',\n",
       " 'extract_currency_symbols',\n",
       " 'extract_dates',\n",
       " 'extract_emails',\n",
       " 'extract_emojis',\n",
       " 'extract_hashtags',\n",
       " 'extract_html_tags',\n",
       " 'extract_mastercard_addr',\n",
       " 'extract_md5sha',\n",
       " 'extract_numbers',\n",
       " 'extract_pattern',\n",
       " 'extract_phone_numbers',\n",
       " 'extract_postoffice_box',\n",
       " 'extract_shortwords',\n",
       " 'extract_special_characters',\n",
       " 'extract_stopwords',\n",
       " 'extract_street_address',\n",
       " 'extract_terms_in_bracket',\n",
       " 'extract_urls',\n",
       " 'extract_userhandles',\n",
       " 'extract_visacard_addr',\n",
       " 'fix_contractions',\n",
       " 'generate_sentence',\n",
       " 'hamming_distance',\n",
       " 'inverse_df',\n",
       " 'lexical_richness',\n",
       " 'markov_chain',\n",
       " 'math',\n",
       " 'nlargest',\n",
       " 'normalize',\n",
       " 'num2words',\n",
       " 'random',\n",
       " 're',\n",
       " 'read_txt',\n",
       " 'remove_bad_quotes',\n",
       " 'remove_btc_address',\n",
       " 'remove_currencies',\n",
       " 'remove_currency_symbols',\n",
       " 'remove_custom_pattern',\n",
       " 'remove_custom_words',\n",
       " 'remove_dates',\n",
       " 'remove_emails',\n",
       " 'remove_emojis',\n",
       " 'remove_hashtags',\n",
       " 'remove_html_tags',\n",
       " 'remove_mastercard_addr',\n",
       " 'remove_md5sha',\n",
       " 'remove_multiple_spaces',\n",
       " 'remove_non_ascii',\n",
       " 'remove_numbers',\n",
       " 'remove_phone_numbers',\n",
       " 'remove_postoffice_box',\n",
       " 'remove_puncts',\n",
       " 'remove_punctuations',\n",
       " 'remove_shortwords',\n",
       " 'remove_special_characters',\n",
       " 'remove_stopwords',\n",
       " 'remove_street_address',\n",
       " 'remove_terms_in_bracket',\n",
       " 'remove_urls',\n",
       " 'remove_userhandles',\n",
       " 'remove_visacard_addr',\n",
       " 'replace_bad_quotes',\n",
       " 'replace_currencies',\n",
       " 'replace_currency_symbols',\n",
       " 'replace_dates',\n",
       " 'replace_emails',\n",
       " 'replace_emojis',\n",
       " 'replace_numbers',\n",
       " 'replace_phone_numbers',\n",
       " 'replace_special_characters',\n",
       " 'replace_term',\n",
       " 'replace_urls',\n",
       " 'string',\n",
       " 'term_freq',\n",
       " 'to_txt',\n",
       " 'word_freq',\n",
       " 'word_length_freq']"
      ]
     },
     "execution_count": 124,
     "metadata": {},
     "output_type": "execute_result"
    }
   ],
   "source": [
    "dir(nfx)"
   ]
  },
  {
   "cell_type": "code",
   "execution_count": 125,
   "metadata": {},
   "outputs": [],
   "source": [
    "df['Clean_Text']=df['Text'].apply(nfx.remove_special_characters)"
   ]
  },
  {
   "cell_type": "code",
   "execution_count": 126,
   "metadata": {},
   "outputs": [],
   "source": [
    "#df['Clean_Text']=df['content'].apply(nfx.remove_punctuations)"
   ]
  },
  {
   "cell_type": "code",
   "execution_count": 127,
   "metadata": {},
   "outputs": [
    {
     "data": {
      "text/html": [
       "<div>\n",
       "<style scoped>\n",
       "    .dataframe tbody tr th:only-of-type {\n",
       "        vertical-align: middle;\n",
       "    }\n",
       "\n",
       "    .dataframe tbody tr th {\n",
       "        vertical-align: top;\n",
       "    }\n",
       "\n",
       "    .dataframe thead th {\n",
       "        text-align: right;\n",
       "    }\n",
       "</style>\n",
       "<table border=\"1\" class=\"dataframe\">\n",
       "  <thead>\n",
       "    <tr style=\"text-align: right;\">\n",
       "      <th></th>\n",
       "      <th>Text</th>\n",
       "      <th>Clean_Text</th>\n",
       "    </tr>\n",
       "  </thead>\n",
       "  <tbody>\n",
       "    <tr>\n",
       "      <th>0</th>\n",
       "      <td>During the period of falling in love, each tim...</td>\n",
       "      <td>During the period of falling in love each time...</td>\n",
       "    </tr>\n",
       "    <tr>\n",
       "      <th>1</th>\n",
       "      <td>When I was involved in a traffic accident.</td>\n",
       "      <td>When I was involved in a traffic accident</td>\n",
       "    </tr>\n",
       "    <tr>\n",
       "      <th>2</th>\n",
       "      <td>When I was driving home after  several days of...</td>\n",
       "      <td>When I was driving home after  several days of...</td>\n",
       "    </tr>\n",
       "    <tr>\n",
       "      <th>3</th>\n",
       "      <td>When I lost the person who meant the most to me.</td>\n",
       "      <td>When I lost the person who meant the most to me</td>\n",
       "    </tr>\n",
       "    <tr>\n",
       "      <th>4</th>\n",
       "      <td>The time I knocked a deer down - the sight of ...</td>\n",
       "      <td>The time I knocked a deer down  the sight of t...</td>\n",
       "    </tr>\n",
       "    <tr>\n",
       "      <th>...</th>\n",
       "      <td>...</td>\n",
       "      <td>...</td>\n",
       "    </tr>\n",
       "    <tr>\n",
       "      <th>7468</th>\n",
       "      <td>Two years back someone invited me to be the tu...</td>\n",
       "      <td>Two years back someone invited me to be the tu...</td>\n",
       "    </tr>\n",
       "    <tr>\n",
       "      <th>7469</th>\n",
       "      <td>I had taken the responsibility to do something...</td>\n",
       "      <td>I had taken the responsibility to do something...</td>\n",
       "    </tr>\n",
       "    <tr>\n",
       "      <th>7470</th>\n",
       "      <td>I was at home and I heard a loud sound of spit...</td>\n",
       "      <td>I was at home and I heard a loud sound of spit...</td>\n",
       "    </tr>\n",
       "    <tr>\n",
       "      <th>7471</th>\n",
       "      <td>I did not do the homework that the teacher had...</td>\n",
       "      <td>I did not do the homework that the teacher had...</td>\n",
       "    </tr>\n",
       "    <tr>\n",
       "      <th>7472</th>\n",
       "      <td>I had shouted at my younger brother and he was...</td>\n",
       "      <td>I had shouted at my younger brother and he was...</td>\n",
       "    </tr>\n",
       "  </tbody>\n",
       "</table>\n",
       "<p>7473 rows × 2 columns</p>\n",
       "</div>"
      ],
      "text/plain": [
       "                                                   Text  \\\n",
       "0     During the period of falling in love, each tim...   \n",
       "1            When I was involved in a traffic accident.   \n",
       "2     When I was driving home after  several days of...   \n",
       "3     When I lost the person who meant the most to me.    \n",
       "4     The time I knocked a deer down - the sight of ...   \n",
       "...                                                 ...   \n",
       "7468  Two years back someone invited me to be the tu...   \n",
       "7469  I had taken the responsibility to do something...   \n",
       "7470  I was at home and I heard a loud sound of spit...   \n",
       "7471  I did not do the homework that the teacher had...   \n",
       "7472  I had shouted at my younger brother and he was...   \n",
       "\n",
       "                                             Clean_Text  \n",
       "0     During the period of falling in love each time...  \n",
       "1             When I was involved in a traffic accident  \n",
       "2     When I was driving home after  several days of...  \n",
       "3      When I lost the person who meant the most to me   \n",
       "4     The time I knocked a deer down  the sight of t...  \n",
       "...                                                 ...  \n",
       "7468  Two years back someone invited me to be the tu...  \n",
       "7469  I had taken the responsibility to do something...  \n",
       "7470  I was at home and I heard a loud sound of spit...  \n",
       "7471  I did not do the homework that the teacher had...  \n",
       "7472  I had shouted at my younger brother and he was...  \n",
       "\n",
       "[7473 rows x 2 columns]"
      ]
     },
     "execution_count": 127,
     "metadata": {},
     "output_type": "execute_result"
    }
   ],
   "source": [
    "df[['Text','Clean_Text']]"
   ]
  },
  {
   "cell_type": "code",
   "execution_count": 128,
   "metadata": {},
   "outputs": [
    {
     "data": {
      "text/plain": [
       "0       During the period of falling in love each time...\n",
       "1               When I was involved in a traffic accident\n",
       "2       When I was driving home after  several days of...\n",
       "3        When I lost the person who meant the most to me \n",
       "4       The time I knocked a deer down  the sight of t...\n",
       "                              ...                        \n",
       "7468    Two years back someone invited me to be the tu...\n",
       "7469    I had taken the responsibility to do something...\n",
       "7470    I was at home and I heard a loud sound of spit...\n",
       "7471    I did not do the homework that the teacher had...\n",
       "7472    I had shouted at my younger brother and he was...\n",
       "Name: Clean_Text, Length: 7473, dtype: object"
      ]
     },
     "execution_count": 128,
     "metadata": {},
     "output_type": "execute_result"
    }
   ],
   "source": [
    "df['Clean_Text']"
   ]
  },
  {
   "cell_type": "code",
   "execution_count": null,
   "metadata": {},
   "outputs": [],
   "source": []
  },
  {
   "cell_type": "code",
   "execution_count": 129,
   "metadata": {},
   "outputs": [],
   "source": [
    "# KEyword Extraction\n"
   ]
  },
  {
   "cell_type": "code",
   "execution_count": 130,
   "metadata": {},
   "outputs": [],
   "source": [
    "#from collections import Counter"
   ]
  },
  {
   "cell_type": "code",
   "execution_count": null,
   "metadata": {},
   "outputs": [],
   "source": []
  },
  {
   "cell_type": "code",
   "execution_count": 131,
   "metadata": {},
   "outputs": [],
   "source": [
    "#def extract_keywords(text,num=50):\n",
    "  #  tokens=[tok for tok in text.split()]\n",
    "   # most_common_tokens =Counter(tokens).most_common(num)\n",
    "   # return dict(most_common_tokens)"
   ]
  },
  {
   "cell_type": "code",
   "execution_count": null,
   "metadata": {},
   "outputs": [],
   "source": []
  },
  {
   "cell_type": "code",
   "execution_count": 132,
   "metadata": {},
   "outputs": [],
   "source": [
    "#list of emotions\n",
    "#emotion_list =df['Emotion'].unique().tolist()"
   ]
  },
  {
   "cell_type": "code",
   "execution_count": 133,
   "metadata": {},
   "outputs": [],
   "source": [
    "#emotion_list"
   ]
  },
  {
   "cell_type": "code",
   "execution_count": 134,
   "metadata": {},
   "outputs": [],
   "source": [
    "#joy_list=df[df['Emotion']=='joy']['Clean_Text'].tolist()"
   ]
  },
  {
   "cell_type": "code",
   "execution_count": null,
   "metadata": {},
   "outputs": [],
   "source": []
  },
  {
   "cell_type": "code",
   "execution_count": 135,
   "metadata": {},
   "outputs": [],
   "source": [
    "#joy_docx=''.join(joy_list)"
   ]
  },
  {
   "cell_type": "code",
   "execution_count": 136,
   "metadata": {},
   "outputs": [],
   "source": [
    "#joy_docx"
   ]
  },
  {
   "cell_type": "code",
   "execution_count": 137,
   "metadata": {},
   "outputs": [],
   "source": [
    "#keyword_joy=extract_keywords(joy_docx)"
   ]
  },
  {
   "cell_type": "code",
   "execution_count": 138,
   "metadata": {},
   "outputs": [],
   "source": [
    "#keyword_joy"
   ]
  },
  {
   "cell_type": "code",
   "execution_count": 139,
   "metadata": {},
   "outputs": [],
   "source": [
    "#def plot_most_common_words(mydict,emotion_name):\n",
    "  #  df_01 = pd.DataFrame(mydict.items(),columns=['token','count'])\n",
    "  #  plt.figure(figsize=(20,10))\n",
    "   # plt.title(\"Plot of {} Most Common Keywords\".format(emotion_name))\n",
    "  #  sns.barplot(x='token',y='count',data=df_01)\n",
    "  #  plt.xticks(rotation=45)\n",
    "    #plt.show()"
   ]
  },
  {
   "cell_type": "code",
   "execution_count": 140,
   "metadata": {},
   "outputs": [],
   "source": [
    "#plot_most_common_words(keyword_joy,\"joy\")"
   ]
  },
  {
   "cell_type": "code",
   "execution_count": 141,
   "metadata": {},
   "outputs": [],
   "source": [
    "##for sadness"
   ]
  },
  {
   "cell_type": "code",
   "execution_count": 142,
   "metadata": {},
   "outputs": [],
   "source": [
    "#sadness_list=df[df['Emotion']=='sadness']['Clean_Text'].tolist()\n",
    "#documnet creation\n",
    "#sadness_docx=''.join(joy_list)\n",
    "#keyeord extravtion\n",
    "#keyword_sadness=extract_keywords(sadness_docx)"
   ]
  },
  {
   "cell_type": "code",
   "execution_count": 143,
   "metadata": {},
   "outputs": [],
   "source": [
    "#plot_most_common_words(keyword_sadness,\"sadness\")"
   ]
  },
  {
   "cell_type": "code",
   "execution_count": 144,
   "metadata": {},
   "outputs": [],
   "source": [
    "#Machine Learning\n"
   ]
  },
  {
   "cell_type": "code",
   "execution_count": 145,
   "metadata": {},
   "outputs": [],
   "source": [
    "from sklearn.neighbors import KNeighborsClassifier\n",
    "from sklearn.ensemble import RandomForestClassifier\n",
    "from sklearn.svm import SVC\n",
    "from sklearn import svm\n",
    "#import lightgbm as lgb\n",
    "from sklearn.metrics import classification_report,confusion_matrix,plot_confusion_matrix,accuracy_score,matthews_corrcoef,f1_score,precision_score, recall_score\n",
    "from sklearn.tree import DecisionTreeClassifier\n",
    "from sklearn.discriminant_analysis import LinearDiscriminantAnalysis\n",
    "from sklearn.neighbors import KNeighborsClassifier\n",
    "from sklearn.naive_bayes import GaussianNB\n",
    "from sklearn.linear_model import LogisticRegression, SGDClassifier\n",
    "\n",
    "import seaborn as sns\n",
    "from sklearn.ensemble import RandomForestClassifier\n",
    "from sklearn.preprocessing import StandardScaler\n",
    "from sklearn.preprocessing import LabelEncoder\n",
    "#import xgboost as xgb\n",
    "#Vectorizer\n",
    "from sklearn.feature_extraction.text import CountVectorizer,TfidfVectorizer\n",
    "from sklearn.naive_bayes import MultinomialNB"
   ]
  },
  {
   "cell_type": "code",
   "execution_count": 146,
   "metadata": {},
   "outputs": [],
   "source": [
    " from sklearn.model_selection import StratifiedKFold\n",
    "folds= StratifiedKFold(n_splits=10,shuffle=True,random_state=42)"
   ]
  },
  {
   "cell_type": "code",
   "execution_count": 147,
   "metadata": {},
   "outputs": [],
   "source": [
    "#from sklearn.model_selection import train_test_split"
   ]
  },
  {
   "cell_type": "code",
   "execution_count": 148,
   "metadata": {},
   "outputs": [],
   "source": [
    "## Features Building"
   ]
  },
  {
   "cell_type": "code",
   "execution_count": 149,
   "metadata": {},
   "outputs": [],
   "source": [
    "Xfeatures=df['Clean_Text']\n",
    "ylabels=df['Emotion']"
   ]
  },
  {
   "cell_type": "code",
   "execution_count": 150,
   "metadata": {},
   "outputs": [
    {
     "data": {
      "text/plain": [
       "0       During the period of falling in love each time...\n",
       "1               When I was involved in a traffic accident\n",
       "2       When I was driving home after  several days of...\n",
       "3        When I lost the person who meant the most to me \n",
       "4       The time I knocked a deer down  the sight of t...\n",
       "                              ...                        \n",
       "7468    Two years back someone invited me to be the tu...\n",
       "7469    I had taken the responsibility to do something...\n",
       "7470    I was at home and I heard a loud sound of spit...\n",
       "7471    I did not do the homework that the teacher had...\n",
       "7472    I had shouted at my younger brother and he was...\n",
       "Name: Clean_Text, Length: 7473, dtype: object"
      ]
     },
     "execution_count": 150,
     "metadata": {},
     "output_type": "execute_result"
    }
   ],
   "source": [
    "Xfeatures"
   ]
  },
  {
   "cell_type": "code",
   "execution_count": 151,
   "metadata": {},
   "outputs": [],
   "source": [
    "#Vectorizer\n",
    "#cv=CountVectorizer()\n",
    "cv=TfidfVectorizer()\n",
    "X=cv.fit_transform(Xfeatures)"
   ]
  },
  {
   "cell_type": "code",
   "execution_count": 152,
   "metadata": {
    "scrolled": true
   },
   "outputs": [
    {
     "data": {
      "text/plain": [
       "['000',\n",
       " '10',\n",
       " '100',\n",
       " '1000',\n",
       " '1011',\n",
       " '102',\n",
       " '10t',\n",
       " '10th',\n",
       " '10year',\n",
       " '10yrs',\n",
       " '11',\n",
       " '110',\n",
       " '110kmh',\n",
       " '1130',\n",
       " '11months',\n",
       " '11th',\n",
       " '12',\n",
       " '120',\n",
       " '1200',\n",
       " '1230',\n",
       " '1283',\n",
       " '12th',\n",
       " '12yearold',\n",
       " '13',\n",
       " '1314',\n",
       " '13th',\n",
       " '14',\n",
       " '140',\n",
       " '1400',\n",
       " '15',\n",
       " '150',\n",
       " '1500',\n",
       " '1516',\n",
       " '16',\n",
       " '16year',\n",
       " '16yearold',\n",
       " '17',\n",
       " '18',\n",
       " '180',\n",
       " '18th',\n",
       " '19',\n",
       " '1960',\n",
       " '1966',\n",
       " '1968',\n",
       " '1972',\n",
       " '1975',\n",
       " '1976',\n",
       " '1977',\n",
       " '1978',\n",
       " '1979',\n",
       " '1980',\n",
       " '1982',\n",
       " '1983',\n",
       " '19831984',\n",
       " '1984',\n",
       " '1985',\n",
       " '1a',\n",
       " '1bs',\n",
       " '1st',\n",
       " '20',\n",
       " '200',\n",
       " '2000',\n",
       " '20000',\n",
       " '2035',\n",
       " '20s',\n",
       " '20th',\n",
       " '21',\n",
       " '210',\n",
       " '2130',\n",
       " '21st',\n",
       " '22',\n",
       " '22nd',\n",
       " '23',\n",
       " '230',\n",
       " '2300',\n",
       " '24',\n",
       " '24th',\n",
       " '25th',\n",
       " '26',\n",
       " '263',\n",
       " '28th',\n",
       " '2a',\n",
       " '2c',\n",
       " '2nd',\n",
       " '30',\n",
       " '300',\n",
       " '3000',\n",
       " '30s',\n",
       " '30th',\n",
       " '31',\n",
       " '312',\n",
       " '31st',\n",
       " '330',\n",
       " '34',\n",
       " '35',\n",
       " '380',\n",
       " '3rd',\n",
       " '3s',\n",
       " '40',\n",
       " '400',\n",
       " '4050',\n",
       " '430',\n",
       " '45',\n",
       " '49er',\n",
       " '49ers',\n",
       " '4letter',\n",
       " '4s',\n",
       " '4th5th',\n",
       " '50',\n",
       " '500',\n",
       " '50p',\n",
       " '51',\n",
       " '510',\n",
       " '53',\n",
       " '56',\n",
       " '57',\n",
       " '5b',\n",
       " '5c',\n",
       " '5s',\n",
       " '5th',\n",
       " '60',\n",
       " '600',\n",
       " '612',\n",
       " '62',\n",
       " '630',\n",
       " '67',\n",
       " '68',\n",
       " '6th',\n",
       " '70',\n",
       " '700',\n",
       " '70th',\n",
       " '715',\n",
       " '720',\n",
       " '78',\n",
       " '79',\n",
       " '7th',\n",
       " '80',\n",
       " '800',\n",
       " '810',\n",
       " '84',\n",
       " '8pm',\n",
       " '8week',\n",
       " '9000',\n",
       " '910',\n",
       " '93010',\n",
       " '95',\n",
       " '9th',\n",
       " 'aa',\n",
       " 'abandoned',\n",
       " 'abdomen',\n",
       " 'abdominal',\n",
       " 'abhorred',\n",
       " 'abhorrent',\n",
       " 'abilities',\n",
       " 'ability',\n",
       " 'able',\n",
       " 'abnormal',\n",
       " 'abominable',\n",
       " 'aboriginal',\n",
       " 'aborted',\n",
       " 'abortion',\n",
       " 'about',\n",
       " 'above',\n",
       " 'aboveboard',\n",
       " 'abroad',\n",
       " 'abrupt',\n",
       " 'abruptely',\n",
       " 'abruptly',\n",
       " 'absailing',\n",
       " 'abscence',\n",
       " 'absence',\n",
       " 'absent',\n",
       " 'absentminded',\n",
       " 'absentmindedness',\n",
       " 'absolutely',\n",
       " 'absurd',\n",
       " 'abuse',\n",
       " 'abused',\n",
       " 'abusing',\n",
       " 'abusive',\n",
       " 'abut',\n",
       " 'academic',\n",
       " 'academically',\n",
       " 'academics',\n",
       " 'academy',\n",
       " 'acccouting',\n",
       " 'accelerating',\n",
       " 'accent',\n",
       " 'accentance',\n",
       " 'accept',\n",
       " 'acceptable',\n",
       " 'acceptance',\n",
       " 'accepted',\n",
       " 'accepting',\n",
       " 'acceptted',\n",
       " 'accident',\n",
       " 'accidentally',\n",
       " 'accidentaly',\n",
       " 'accidently',\n",
       " 'accidents',\n",
       " 'accomodation',\n",
       " 'accompanied',\n",
       " 'accompany',\n",
       " 'accompanying',\n",
       " 'accomplish',\n",
       " 'accomplished',\n",
       " 'accomplishing',\n",
       " 'accomplishment',\n",
       " 'accorded',\n",
       " 'according',\n",
       " 'accosted',\n",
       " 'account',\n",
       " 'accounting',\n",
       " 'accounts',\n",
       " 'accquaintances',\n",
       " 'accquainted',\n",
       " 'accquired',\n",
       " 'accquiring',\n",
       " 'accredited',\n",
       " 'accrediting',\n",
       " 'accumulated',\n",
       " 'accurately',\n",
       " 'accusations',\n",
       " 'accused',\n",
       " 'accusers',\n",
       " 'accuses',\n",
       " 'ache',\n",
       " 'achieve',\n",
       " 'achieved',\n",
       " 'achievement',\n",
       " 'achieving',\n",
       " 'achievment',\n",
       " 'acknowledge',\n",
       " 'acknowledging',\n",
       " 'acquaintace',\n",
       " 'acquaintance',\n",
       " 'acquaintanced',\n",
       " 'acquaintances',\n",
       " 'acquainted',\n",
       " 'acquaintences',\n",
       " 'acquaplanned',\n",
       " 'acquiring',\n",
       " 'across',\n",
       " 'act',\n",
       " 'acted',\n",
       " 'acting',\n",
       " 'action',\n",
       " 'actions',\n",
       " 'actioon',\n",
       " 'active',\n",
       " 'activities',\n",
       " 'activity',\n",
       " 'actor',\n",
       " 'actors',\n",
       " 'actress',\n",
       " 'acts',\n",
       " 'actual',\n",
       " 'actually',\n",
       " 'adapt',\n",
       " 'add',\n",
       " 'added',\n",
       " 'addiction',\n",
       " 'addicts',\n",
       " 'addition',\n",
       " 'additional',\n",
       " 'additonal',\n",
       " 'address',\n",
       " 'addressed',\n",
       " 'adepts',\n",
       " 'adequate',\n",
       " 'adequately',\n",
       " 'adheres',\n",
       " 'adjacent',\n",
       " 'adjective',\n",
       " 'adjoining',\n",
       " 'adjust',\n",
       " 'adjusted',\n",
       " 'adked',\n",
       " 'administration',\n",
       " 'administrative',\n",
       " 'admire',\n",
       " 'admired',\n",
       " 'admiring',\n",
       " 'admission',\n",
       " 'admist',\n",
       " 'admit',\n",
       " 'admited',\n",
       " 'admittance',\n",
       " 'admitted',\n",
       " 'admonished',\n",
       " 'adolescence',\n",
       " 'adolescent',\n",
       " 'adopted',\n",
       " 'adopting',\n",
       " 'adore',\n",
       " 'adored',\n",
       " 'adresses',\n",
       " 'adult',\n",
       " 'adultery',\n",
       " 'adults',\n",
       " 'advance',\n",
       " 'advanced',\n",
       " 'advances',\n",
       " 'advantage',\n",
       " 'adventure',\n",
       " 'adventures',\n",
       " 'adverse',\n",
       " 'advertisement',\n",
       " 'advice',\n",
       " 'advices',\n",
       " 'advise',\n",
       " 'advised',\n",
       " 'advisor',\n",
       " 'affair',\n",
       " 'affairs',\n",
       " 'affect',\n",
       " 'affected',\n",
       " 'affection',\n",
       " 'affectionate',\n",
       " 'affects',\n",
       " 'affluence',\n",
       " 'affluent',\n",
       " 'afford',\n",
       " 'afforded',\n",
       " 'afraid',\n",
       " 'africa',\n",
       " 'african',\n",
       " 'aftaid',\n",
       " 'after',\n",
       " 'afternoon',\n",
       " 'afternoons',\n",
       " 'afterwards',\n",
       " 'afthur',\n",
       " 'again',\n",
       " 'against',\n",
       " 'againt',\n",
       " 'age',\n",
       " 'aged',\n",
       " 'agency',\n",
       " 'ages',\n",
       " 'aggressed',\n",
       " 'aggression',\n",
       " 'aggressions',\n",
       " 'aggressive',\n",
       " 'aggressively',\n",
       " 'aggrssion',\n",
       " 'agitation',\n",
       " 'ago',\n",
       " 'agreable',\n",
       " 'agree',\n",
       " 'agreed',\n",
       " 'agreeing',\n",
       " 'agreement',\n",
       " 'agreements',\n",
       " 'agressive',\n",
       " 'agricultural',\n",
       " 'ahead',\n",
       " 'ai',\n",
       " 'aid',\n",
       " 'aida',\n",
       " 'aids',\n",
       " 'aidshomosexuality',\n",
       " 'aims',\n",
       " 'air',\n",
       " 'aircraft',\n",
       " 'aired',\n",
       " 'airplane',\n",
       " 'airport',\n",
       " 'aisle',\n",
       " 'akin',\n",
       " 'al',\n",
       " 'alameda',\n",
       " 'alarm',\n",
       " 'alcohol',\n",
       " 'alcoholic',\n",
       " 'alcoholics',\n",
       " 'alcool',\n",
       " 'alert',\n",
       " 'alien',\n",
       " 'alienating',\n",
       " 'alike',\n",
       " 'alimony',\n",
       " 'alive',\n",
       " 'all',\n",
       " 'allergic',\n",
       " 'alley',\n",
       " 'allocated',\n",
       " 'alloted',\n",
       " 'allotted',\n",
       " 'allow',\n",
       " 'allowance',\n",
       " 'allowances',\n",
       " 'allowed',\n",
       " 'allowing',\n",
       " 'allright',\n",
       " 'allusions',\n",
       " 'almanach',\n",
       " 'almonds',\n",
       " 'almost',\n",
       " 'alone',\n",
       " 'along',\n",
       " 'aloud',\n",
       " 'alowed',\n",
       " 'already',\n",
       " 'alright',\n",
       " 'alsatians',\n",
       " 'also',\n",
       " 'alternative',\n",
       " 'although',\n",
       " 'altough',\n",
       " 'always',\n",
       " 'am',\n",
       " 'amazed',\n",
       " 'ambition',\n",
       " 'ambitions',\n",
       " 'ambivalent',\n",
       " 'ambulants',\n",
       " 'america',\n",
       " 'american',\n",
       " 'americans',\n",
       " 'amerika',\n",
       " 'amicable',\n",
       " 'amidophen',\n",
       " 'amnesty',\n",
       " 'amok',\n",
       " 'among',\n",
       " 'amongst',\n",
       " 'amount',\n",
       " 'amounts',\n",
       " 'amsterdam',\n",
       " 'amt',\n",
       " 'amused',\n",
       " 'amusement',\n",
       " 'amusing',\n",
       " 'an',\n",
       " 'anaemia',\n",
       " 'anaesthesia',\n",
       " 'analysis',\n",
       " 'analyze',\n",
       " 'anasthesia',\n",
       " 'anatomy',\n",
       " 'anaunts',\n",
       " 'anbd',\n",
       " 'and',\n",
       " 'andor',\n",
       " 'anf',\n",
       " 'angeles',\n",
       " 'anger',\n",
       " 'angered',\n",
       " 'angers',\n",
       " 'angle',\n",
       " 'angrgy',\n",
       " 'angrily',\n",
       " 'angry',\n",
       " 'anguish',\n",
       " 'animal',\n",
       " 'animals',\n",
       " 'ankle',\n",
       " 'annd',\n",
       " 'anniversary',\n",
       " 'announced',\n",
       " 'announcement',\n",
       " 'annoyed',\n",
       " 'annoying',\n",
       " 'ano',\n",
       " 'another',\n",
       " 'anothers',\n",
       " 'answer',\n",
       " 'answered',\n",
       " 'answering',\n",
       " 'answers',\n",
       " 'antagonistic',\n",
       " 'anthony',\n",
       " 'anti',\n",
       " 'anticipate',\n",
       " 'anticipated',\n",
       " 'anticipation',\n",
       " 'anticipatory',\n",
       " 'antihygienically',\n",
       " 'antipornography',\n",
       " 'antique',\n",
       " 'ants',\n",
       " 'antthing',\n",
       " 'anxiety',\n",
       " 'anxious',\n",
       " 'any',\n",
       " 'anybody',\n",
       " 'anyhow',\n",
       " 'anyhting',\n",
       " 'anymore',\n",
       " 'anyone',\n",
       " 'anything',\n",
       " 'anythong',\n",
       " 'anyway',\n",
       " 'aotea',\n",
       " 'apart',\n",
       " 'apartheid',\n",
       " 'apartment',\n",
       " 'aphasia',\n",
       " 'apologetic',\n",
       " 'apologise',\n",
       " 'apologize',\n",
       " 'apologized',\n",
       " 'apologizing',\n",
       " 'apology',\n",
       " 'apoplectic',\n",
       " 'apparatus',\n",
       " 'apparent',\n",
       " 'appartment',\n",
       " 'appartments',\n",
       " 'appeal',\n",
       " 'appear',\n",
       " 'appearance',\n",
       " 'appearances',\n",
       " 'appeard',\n",
       " 'appeared',\n",
       " 'appearence',\n",
       " 'appearing',\n",
       " 'appears',\n",
       " 'appeased',\n",
       " 'appered',\n",
       " 'appetising',\n",
       " 'applainces',\n",
       " 'applauded',\n",
       " 'applause',\n",
       " 'apple',\n",
       " 'apples',\n",
       " 'applicable',\n",
       " 'application',\n",
       " 'applied',\n",
       " 'applies',\n",
       " 'apply',\n",
       " 'applying',\n",
       " 'appointed',\n",
       " 'appointment',\n",
       " 'appointments',\n",
       " 'appontment',\n",
       " 'appparently',\n",
       " 'appraching',\n",
       " 'appreciate',\n",
       " 'appreciated',\n",
       " 'apprehended',\n",
       " 'apprehensive',\n",
       " 'approach',\n",
       " 'approached',\n",
       " 'approaching',\n",
       " 'appropriate',\n",
       " 'appropriately',\n",
       " 'approval',\n",
       " 'approve',\n",
       " 'approved',\n",
       " 'approx',\n",
       " 'approximately',\n",
       " 'april',\n",
       " 'apron',\n",
       " 'aprox',\n",
       " 'apt',\n",
       " 'aquainted',\n",
       " 'aquarium',\n",
       " 'arbitrary',\n",
       " 'arcade',\n",
       " 'architecture',\n",
       " 'ardmore',\n",
       " 'are',\n",
       " 'area',\n",
       " 'areas',\n",
       " 'arena',\n",
       " 'arent',\n",
       " 'argue',\n",
       " 'argued',\n",
       " 'arguing',\n",
       " 'argument',\n",
       " 'argumentations',\n",
       " 'arguments',\n",
       " 'arisen',\n",
       " 'arithmetical',\n",
       " 'arm',\n",
       " 'armed',\n",
       " 'armor',\n",
       " 'armrest',\n",
       " 'arms',\n",
       " 'army',\n",
       " 'arnhems',\n",
       " 'arose',\n",
       " 'around',\n",
       " 'aroused',\n",
       " 'arrange',\n",
       " 'arranged',\n",
       " 'arrangements',\n",
       " 'arrest',\n",
       " 'arrested',\n",
       " 'arrival',\n",
       " 'arrive',\n",
       " 'arrived',\n",
       " 'arrives',\n",
       " 'arriving',\n",
       " 'arrogant',\n",
       " 'arse',\n",
       " 'arthur',\n",
       " 'arthurs',\n",
       " 'article',\n",
       " 'artistic',\n",
       " 'arts',\n",
       " 'as',\n",
       " 'asciatic',\n",
       " 'asfixiated',\n",
       " 'ashamad',\n",
       " 'ashamed',\n",
       " 'ashamesd',\n",
       " 'ashtray',\n",
       " 'asia',\n",
       " 'asian',\n",
       " 'asiatic',\n",
       " 'aside',\n",
       " 'ask',\n",
       " 'askad',\n",
       " 'asked',\n",
       " 'asking',\n",
       " 'asks',\n",
       " 'asleep',\n",
       " 'aspect',\n",
       " 'aspects',\n",
       " 'asphixia',\n",
       " 'aspirations',\n",
       " 'aspirins',\n",
       " 'assassination',\n",
       " 'assault',\n",
       " 'assaulted',\n",
       " 'assaulters',\n",
       " 'assaulting',\n",
       " 'assaults',\n",
       " 'assembly',\n",
       " 'assert',\n",
       " 'assertions',\n",
       " 'assessed',\n",
       " 'assessment',\n",
       " 'assign',\n",
       " 'assigned',\n",
       " 'assignment',\n",
       " 'assignments',\n",
       " 'assist',\n",
       " 'assistant',\n",
       " 'assistat',\n",
       " 'assisted',\n",
       " 'assisting',\n",
       " 'asskissing',\n",
       " 'associated',\n",
       " 'associates',\n",
       " 'associating',\n",
       " 'association',\n",
       " 'assulted',\n",
       " 'assume',\n",
       " 'assurance',\n",
       " 'assured',\n",
       " 'asthma',\n",
       " 'astrologycal',\n",
       " 'at',\n",
       " 'ate',\n",
       " 'athens',\n",
       " 'athletic',\n",
       " 'athletics',\n",
       " 'aticle',\n",
       " 'atmosphere',\n",
       " 'atrophyed',\n",
       " 'attack',\n",
       " 'attackad',\n",
       " 'attacked',\n",
       " 'attacking',\n",
       " 'attacks',\n",
       " 'attain',\n",
       " 'attainable',\n",
       " 'attained',\n",
       " 'attecked',\n",
       " 'attempt',\n",
       " 'attempted',\n",
       " 'attempting',\n",
       " 'attempts',\n",
       " 'attend',\n",
       " 'attendance',\n",
       " 'attendant',\n",
       " 'attendants',\n",
       " 'attended',\n",
       " 'attending',\n",
       " 'attention',\n",
       " 'attire',\n",
       " 'attitude',\n",
       " 'attitudes',\n",
       " 'attracted',\n",
       " 'attracting',\n",
       " 'attractive',\n",
       " 'attributes',\n",
       " 'auckland',\n",
       " 'audiece',\n",
       " 'audience',\n",
       " 'audiovisual',\n",
       " 'audition',\n",
       " 'auditorium',\n",
       " 'august',\n",
       " 'august1983',\n",
       " 'aunt',\n",
       " 'auntie',\n",
       " 'aunts',\n",
       " 'aunty',\n",
       " 'aupairgirl',\n",
       " 'australia',\n",
       " 'australian',\n",
       " 'austrian',\n",
       " 'authoritarian',\n",
       " 'authoritative',\n",
       " 'authorities',\n",
       " 'authority',\n",
       " 'authorized',\n",
       " 'auto',\n",
       " 'autonomous',\n",
       " 'autopilot',\n",
       " 'autumn',\n",
       " 'auxiliary',\n",
       " 'avail',\n",
       " 'available',\n",
       " 'avenue',\n",
       " 'average',\n",
       " 'aversion',\n",
       " 'aviator',\n",
       " 'avoid',\n",
       " 'avoided',\n",
       " 'avoiding',\n",
       " 'avoids',\n",
       " 'awaited',\n",
       " 'awake',\n",
       " 'awakened',\n",
       " 'award',\n",
       " 'awarded',\n",
       " 'aware',\n",
       " 'awareness',\n",
       " 'away',\n",
       " 'awful',\n",
       " 'awfully',\n",
       " 'awhile',\n",
       " 'awkward',\n",
       " 'awoke',\n",
       " 'axam',\n",
       " 'axcursion',\n",
       " 'axe',\n",
       " 'ba',\n",
       " 'babies',\n",
       " 'baby',\n",
       " 'babys',\n",
       " 'babysitter',\n",
       " 'babysitting',\n",
       " 'bacame',\n",
       " 'bacause',\n",
       " 'bach',\n",
       " 'bachelor',\n",
       " 'back',\n",
       " 'backdoor',\n",
       " 'backed',\n",
       " 'backgrounds',\n",
       " 'backward',\n",
       " 'backwards',\n",
       " 'backyard',\n",
       " 'bad',\n",
       " 'badly',\n",
       " 'badmannered',\n",
       " 'badminton',\n",
       " 'badness',\n",
       " 'bag',\n",
       " 'bago',\n",
       " 'bags',\n",
       " 'bahaviour',\n",
       " 'baked',\n",
       " 'balance',\n",
       " 'balcony',\n",
       " 'bald',\n",
       " 'ball',\n",
       " 'ballet',\n",
       " 'balloon',\n",
       " 'ballpointpen',\n",
       " 'balls',\n",
       " 'banana',\n",
       " 'band',\n",
       " 'banda',\n",
       " 'bandits',\n",
       " 'bands',\n",
       " 'bandwagon',\n",
       " 'banging',\n",
       " 'bank',\n",
       " 'bankrupt',\n",
       " 'banks',\n",
       " 'banned',\n",
       " 'banquet',\n",
       " 'baobab',\n",
       " 'baptised',\n",
       " 'baptism',\n",
       " 'baptized',\n",
       " 'bar',\n",
       " 'barbecue',\n",
       " 'barely',\n",
       " 'barged',\n",
       " 'bark',\n",
       " 'barked',\n",
       " 'barking',\n",
       " 'barley',\n",
       " 'barperson',\n",
       " 'barracks',\n",
       " 'barrel',\n",
       " 'barrier',\n",
       " 'bars',\n",
       " 'base',\n",
       " 'baseball',\n",
       " 'based',\n",
       " 'bash',\n",
       " 'basic',\n",
       " 'basically',\n",
       " 'basin',\n",
       " 'basis',\n",
       " 'basket',\n",
       " 'basketball',\n",
       " 'bath',\n",
       " 'bathed',\n",
       " 'bathing',\n",
       " 'bathroom',\n",
       " 'bathtub',\n",
       " 'battered',\n",
       " 'battle',\n",
       " 'baving',\n",
       " 'bawling',\n",
       " 'bay',\n",
       " 'bbq',\n",
       " 'be',\n",
       " 'beacause',\n",
       " 'beach',\n",
       " 'beam',\n",
       " 'bean',\n",
       " 'bear',\n",
       " 'bearers',\n",
       " 'bearing',\n",
       " 'bears',\n",
       " 'beast',\n",
       " 'beat',\n",
       " 'beated',\n",
       " 'beaten',\n",
       " 'beather',\n",
       " 'beating',\n",
       " 'beautiful',\n",
       " 'beauty',\n",
       " 'became',\n",
       " 'because',\n",
       " 'become',\n",
       " 'becoming',\n",
       " 'bed',\n",
       " 'bedding',\n",
       " 'bedridden',\n",
       " 'bedroom',\n",
       " 'beds',\n",
       " 'bedsheets',\n",
       " 'beeing',\n",
       " 'been',\n",
       " 'beer',\n",
       " 'beers',\n",
       " 'beetle',\n",
       " 'before',\n",
       " 'beforehand',\n",
       " 'beg',\n",
       " 'began',\n",
       " 'beggar',\n",
       " 'begged',\n",
       " 'begggar',\n",
       " 'begging',\n",
       " 'begin',\n",
       " 'beginer',\n",
       " 'begining',\n",
       " 'beginning',\n",
       " 'begun',\n",
       " 'behalf',\n",
       " 'behave',\n",
       " 'behaved',\n",
       " 'behaves',\n",
       " 'behaving',\n",
       " 'behavior',\n",
       " 'behavioral',\n",
       " 'behaviour',\n",
       " 'behind',\n",
       " 'behing',\n",
       " 'beijing',\n",
       " 'being',\n",
       " 'belching',\n",
       " 'belgium',\n",
       " 'belief',\n",
       " 'beliefs',\n",
       " 'believe',\n",
       " 'believed',\n",
       " 'believes',\n",
       " 'believing',\n",
       " 'belittled',\n",
       " 'bell',\n",
       " 'belogradchik',\n",
       " 'belong',\n",
       " 'belonged',\n",
       " 'belonging',\n",
       " 'belongings',\n",
       " 'beloved',\n",
       " 'below',\n",
       " 'belt',\n",
       " 'bench',\n",
       " 'benches',\n",
       " 'bend',\n",
       " 'bending',\n",
       " 'beneath',\n",
       " 'benefit',\n",
       " 'benidorm',\n",
       " 'benson',\n",
       " 'bent',\n",
       " 'berkeley',\n",
       " 'berlin',\n",
       " 'bertoluchis',\n",
       " 'beside',\n",
       " 'besides',\n",
       " 'best',\n",
       " 'bet',\n",
       " 'betel',\n",
       " 'betray',\n",
       " 'betrayed',\n",
       " 'betraying',\n",
       " 'bets',\n",
       " 'better',\n",
       " 'between',\n",
       " 'bewitch',\n",
       " 'bewitched',\n",
       " 'bey',\n",
       " 'beyond',\n",
       " 'bhopal',\n",
       " 'biarritz',\n",
       " 'bias',\n",
       " 'biased',\n",
       " 'bible',\n",
       " 'bictorian',\n",
       " 'bicycle',\n",
       " 'bicycleaccident',\n",
       " 'bicycling',\n",
       " 'bid',\n",
       " 'big',\n",
       " 'bigger',\n",
       " 'bike',\n",
       " 'biked',\n",
       " 'biking',\n",
       " 'bikini',\n",
       " 'bill',\n",
       " 'billiards',\n",
       " 'bills',\n",
       " 'bin',\n",
       " 'bins',\n",
       " 'biochemistry',\n",
       " 'biologic',\n",
       " 'biological',\n",
       " 'biology',\n",
       " 'bird',\n",
       " 'birdcage',\n",
       " 'birds',\n",
       " 'birdswans',\n",
       " 'birth',\n",
       " 'birthday',\n",
       " 'birthdays',\n",
       " 'birthray',\n",
       " 'biscuits',\n",
       " 'bisshop',\n",
       " 'bit',\n",
       " 'bitchiness',\n",
       " 'bitching',\n",
       " 'bitchy',\n",
       " 'bite',\n",
       " 'biting',\n",
       " 'bits',\n",
       " 'bitten',\n",
       " 'bitter',\n",
       " 'bitumen',\n",
       " 'bkoke',\n",
       " 'black',\n",
       " 'blackbeetle',\n",
       " 'blackboard',\n",
       " 'blackout',\n",
       " 'blacks',\n",
       " 'bladder',\n",
       " 'blade',\n",
       " 'blake',\n",
       " 'blame',\n",
       " 'blamed',\n",
       " 'blames',\n",
       " 'blaming',\n",
       " 'blank',\n",
       " 'blanket',\n",
       " 'blankets',\n",
       " 'blankness',\n",
       " 'blantyre',\n",
       " 'blatant',\n",
       " 'bled',\n",
       " 'bleeded',\n",
       " 'bleeding',\n",
       " 'blessed',\n",
       " 'blessful',\n",
       " 'blew',\n",
       " ...]"
      ]
     },
     "execution_count": 152,
     "metadata": {},
     "output_type": "execute_result"
    }
   ],
   "source": [
    "# Get Features by Name\n",
    "cv.get_feature_names()"
   ]
  },
  {
   "cell_type": "code",
   "execution_count": 153,
   "metadata": {},
   "outputs": [],
   "source": [
    "X=X.toarray()"
   ]
  },
  {
   "cell_type": "code",
   "execution_count": 154,
   "metadata": {},
   "outputs": [],
   "source": [
    "for train_index, test_index in folds.split(X,ylabels):\n",
    "    X_train,X_test, y_train,y_test = X[train_index],X[test_index],\\\n",
    "                                     ylabels[train_index],ylabels[test_index]"
   ]
  },
  {
   "cell_type": "code",
   "execution_count": 155,
   "metadata": {},
   "outputs": [
    {
     "data": {
      "text/plain": [
       "RandomForestClassifier(n_estimators=50)"
      ]
     },
     "execution_count": 155,
     "metadata": {},
     "output_type": "execute_result"
    }
   ],
   "source": [
    "#model = xgb.XGBClassifier()\n",
    "#model = SGDClassifier(loss='modified_huber', random_state=101)\n",
    "#model = LogisticRegression()\n",
    "#model = SVC()\n",
    "#, oob_score = True, n_jobs=1, random_state=101, max_features=None, min_samples_leaf=30) RANDOM FOREST\n",
    "model= RandomForestClassifier(n_estimators=50)\n",
    "\n",
    "#model = DecisionTreeClassifier(max_depth=10, random_state=101, max_features = None, min_samples_leaf = 15)\n",
    "#model = LinearDiscriminantAnalysis()\n",
    "#model = GaussianNB()\n",
    "#model = MultinomialNB()\n",
    "#model = lgb.LGBMClassifier(min_child_weight= 0.1,num_iterations=1000, max_bin = 200,min_split_gain= 0.01,max_depth= 100, num_leaves=110, learning_rate=0.01,verbosity= -1,)\n",
    "model.fit(X_train,y_train)\n"
   ]
  },
  {
   "cell_type": "code",
   "execution_count": 156,
   "metadata": {},
   "outputs": [
    {
     "data": {
      "text/plain": [
       "0.5809906291834003"
      ]
     },
     "execution_count": 156,
     "metadata": {},
     "output_type": "execute_result"
    }
   ],
   "source": [
    "model.score(X_test,y_test)"
   ]
  },
  {
   "cell_type": "code",
   "execution_count": 53,
   "metadata": {},
   "outputs": [],
   "source": [
    "#predictions\n",
    "y_pred_for_model=model.predict(X_test)"
   ]
  },
  {
   "cell_type": "code",
   "execution_count": 54,
   "metadata": {},
   "outputs": [
    {
     "data": {
      "text/plain": [
       "array(['happy', 'happy', 'happy', 'happy', 'happy', 'happy', 'happy',\n",
       "       'happy', 'happy', 'happy', 'happy', 'sad', 'happy', 'happy', 'sad',\n",
       "       'happy', 'happy', 'happy', 'happy', 'happy', 'happy', 'happy',\n",
       "       'happy', 'happy', 'happy', 'sad', 'sad', 'sad', 'sad', 'sad',\n",
       "       'sad', 'sad', 'sad', 'sad', 'sad', 'sad', 'surprise', 'surprise',\n",
       "       'surprise', 'sad', 'sad', 'sad', 'sad', 'fear', 'sad', 'happy',\n",
       "       'anger', 'sad', 'anger', 'anger', 'anger', 'sad', 'anger', 'anger',\n",
       "       'anger', 'anger', 'anger', 'anger', 'anger', 'anger', 'anger',\n",
       "       'anger', 'anger', 'anger', 'anger', 'fear', 'fear', 'fear', 'fear',\n",
       "       'fear', 'fear', 'fear', 'fear', 'fear', 'fear', 'fear', 'fear',\n",
       "       'sad', 'sad', 'sad', 'anger', 'sad', 'happy', 'happy', 'happy',\n",
       "       'happy', 'happy', 'happy', 'sad', 'happy', 'happy', 'happy',\n",
       "       'happy', 'happy', 'happy', 'happy', 'happy', 'happy', 'happy',\n",
       "       'happy', 'happy', 'happy', 'happy', 'happy', 'sad', 'sad', 'sad',\n",
       "       'sad', 'sad', 'sad', 'sad', 'sad', 'sad', 'sad', 'anger', 'sad',\n",
       "       'sad', 'sad', 'sad', 'sad', 'sad', 'sad', 'sad', 'sad', 'sad',\n",
       "       'sad', 'sad', 'sad', 'sad', 'sad', 'sad', 'sad', 'sad', 'sad',\n",
       "       'sad', 'anger', 'sad', 'sad', 'sad', 'sad', 'sad', 'sad', 'sad',\n",
       "       'sad', 'sad', 'sad', 'happy', 'sad', 'sad', 'sad', 'sad',\n",
       "       'surprise', 'surprise', 'surprise', 'surprise', 'surprise',\n",
       "       'surprise', 'surprise', 'anger', 'happy', 'surprise', 'sad', 'sad',\n",
       "       'surprise', 'sad', 'sad', 'sad', 'happy', 'sad', 'fear', 'sad',\n",
       "       'sad', 'anger', 'anger', 'sad', 'anger', 'anger', 'anger', 'anger',\n",
       "       'anger', 'anger', 'anger', 'anger', 'sad', 'anger', 'anger',\n",
       "       'anger', 'anger', 'anger', 'anger', 'anger', 'anger', 'anger',\n",
       "       'sad', 'anger', 'anger', 'anger', 'anger', 'anger', 'anger',\n",
       "       'anger', 'fear', 'fear', 'fear', 'fear', 'fear', 'fear', 'fear',\n",
       "       'fear', 'fear', 'fear', 'fear', 'fear', 'fear', 'fear', 'fear',\n",
       "       'fear', 'fear', 'fear', 'fear', 'fear', 'fear', 'fear', 'fear',\n",
       "       'fear', 'fear', 'fear', 'fear', 'fear', 'fear', 'fear', 'sad',\n",
       "       'sad', 'shame', 'shame', 'shame', 'shame', 'shame', 'anger', 'sad',\n",
       "       'fear'], dtype=object)"
      ]
     },
     "execution_count": 54,
     "metadata": {},
     "output_type": "execute_result"
    }
   ],
   "source": [
    "y_pred_for_model"
   ]
  },
  {
   "cell_type": "code",
   "execution_count": 55,
   "metadata": {},
   "outputs": [],
   "source": [
    "sample_text=['I love machine learning ']"
   ]
  },
  {
   "cell_type": "code",
   "execution_count": 56,
   "metadata": {},
   "outputs": [],
   "source": [
    "vect=cv.transform(sample_text).toarray()"
   ]
  },
  {
   "cell_type": "code",
   "execution_count": 57,
   "metadata": {},
   "outputs": [
    {
     "data": {
      "text/plain": [
       "array(['anger'], dtype=object)"
      ]
     },
     "execution_count": 57,
     "metadata": {},
     "output_type": "execute_result"
    }
   ],
   "source": [
    "model.predict(vect)"
   ]
  },
  {
   "cell_type": "code",
   "execution_count": 58,
   "metadata": {},
   "outputs": [
    {
     "data": {
      "text/plain": [
       "array([[0.26285976, 0.04942843, 0.14875212, 0.16711349, 0.22835861,\n",
       "        0.04866791, 0.09481968]])"
      ]
     },
     "execution_count": 58,
     "metadata": {},
     "output_type": "execute_result"
    }
   ],
   "source": [
    "#prediction probability\n",
    "model.predict_proba(vect)"
   ]
  },
  {
   "cell_type": "code",
   "execution_count": 59,
   "metadata": {},
   "outputs": [
    {
     "data": {
      "text/plain": [
       "array(['anger', 'disgust', 'fear', 'happy', 'sad', 'shame', 'surprise'],\n",
       "      dtype=object)"
      ]
     },
     "execution_count": 59,
     "metadata": {},
     "output_type": "execute_result"
    }
   ],
   "source": [
    "model.classes_"
   ]
  },
  {
   "cell_type": "code",
   "execution_count": 60,
   "metadata": {},
   "outputs": [
    {
     "data": {
      "text/plain": [
       "0.26285975776158693"
      ]
     },
     "execution_count": 60,
     "metadata": {},
     "output_type": "execute_result"
    }
   ],
   "source": [
    "np.max(model.predict_proba(vect))"
   ]
  },
  {
   "cell_type": "code",
   "execution_count": 61,
   "metadata": {},
   "outputs": [],
   "source": [
    "def predict_emotion(sample_text,model):\n",
    "    myvect=cv.transform(sample_text).toarray()\n",
    "    prediction= model.predict(myvect)\n",
    "    pred_proba=model.predict_proba(myvect)\n",
    "    pred_per_for_all= dict(zip(model.classes_,pred_proba[0]))\n",
    "    print(\"predicition:{}, Prediction Score:{}\".format(prediction[0],np.max(pred_proba)))\n",
    "   \n",
    "    return  pred_per_for_all"
   ]
  },
  {
   "cell_type": "code",
   "execution_count": null,
   "metadata": {},
   "outputs": [],
   "source": []
  },
  {
   "cell_type": "code",
   "execution_count": 62,
   "metadata": {},
   "outputs": [
    {
     "name": "stdout",
     "output_type": "stream",
     "text": [
      "predicition:anger, Prediction Score:0.26285975776158693\n"
     ]
    },
    {
     "data": {
      "text/plain": [
       "{'anger': 0.26285975776158693,\n",
       " 'disgust': 0.049428429686820555,\n",
       " 'fear': 0.14875211634561325,\n",
       " 'happy': 0.1671134930080697,\n",
       " 'sad': 0.22835861166764468,\n",
       " 'shame': 0.0486679069656225,\n",
       " 'surprise': 0.09481968456464224}"
      ]
     },
     "execution_count": 62,
     "metadata": {},
     "output_type": "execute_result"
    }
   ],
   "source": [
    "predict_emotion(sample_text,model)"
   ]
  },
  {
   "cell_type": "code",
   "execution_count": 63,
   "metadata": {},
   "outputs": [
    {
     "name": "stdout",
     "output_type": "stream",
     "text": [
      "predicition:anger, Prediction Score:0.256983886906425\n"
     ]
    },
    {
     "data": {
      "text/plain": [
       "{'anger': 0.256983886906425,\n",
       " 'disgust': 0.04666535534895029,\n",
       " 'fear': 0.1540203960202234,\n",
       " 'happy': 0.17909233855012502,\n",
       " 'sad': 0.211307981694765,\n",
       " 'shame': 0.05483103570699325,\n",
       " 'surprise': 0.09709900577251813}"
      ]
     },
     "execution_count": 63,
     "metadata": {},
     "output_type": "execute_result"
    }
   ],
   "source": [
    "predict_emotion([\"I hate Machine learning\"],model)"
   ]
  },
  {
   "cell_type": "code",
   "execution_count": 64,
   "metadata": {},
   "outputs": [
    {
     "name": "stdout",
     "output_type": "stream",
     "text": [
      "predicition:sad, Prediction Score:0.2644286763884168\n"
     ]
    },
    {
     "data": {
      "text/plain": [
       "{'anger': 0.22855862821959486,\n",
       " 'disgust': 0.04824044049288386,\n",
       " 'fear': 0.14252033143010628,\n",
       " 'happy': 0.1822585767118635,\n",
       " 'sad': 0.2644286763884168,\n",
       " 'shame': 0.052609241308902974,\n",
       " 'surprise': 0.08138410544823185}"
      ]
     },
     "execution_count": 64,
     "metadata": {},
     "output_type": "execute_result"
    }
   ],
   "source": [
    "predict_emotion([\"I love playing cricket\"],model)"
   ]
  },
  {
   "cell_type": "code",
   "execution_count": 65,
   "metadata": {},
   "outputs": [
    {
     "name": "stdout",
     "output_type": "stream",
     "text": [
      "predicition:sad, Prediction Score:0.3058161803939364\n"
     ]
    },
    {
     "data": {
      "text/plain": [
       "{'anger': 0.24847826358113173,\n",
       " 'disgust': 0.03551805322333852,\n",
       " 'fear': 0.11161243544460735,\n",
       " 'happy': 0.1742021059382818,\n",
       " 'sad': 0.3058161803939364,\n",
       " 'shame': 0.055557720318176254,\n",
       " 'surprise': 0.06881524110052803}"
      ]
     },
     "execution_count": 65,
     "metadata": {},
     "output_type": "execute_result"
    }
   ],
   "source": [
    "predict_emotion([\"i am afraid he will kill me\"],model)"
   ]
  },
  {
   "cell_type": "code",
   "execution_count": 66,
   "metadata": {},
   "outputs": [
    {
     "name": "stdout",
     "output_type": "stream",
     "text": [
      "              precision    recall  f1-score   support\n",
      "\n",
      "       anger       0.90      0.90      0.90        48\n",
      "     disgust       0.00      0.00      0.00        10\n",
      "        fear       0.93      1.00      0.97        42\n",
      "       happy       0.92      0.94      0.93        47\n",
      "         sad       0.66      0.95      0.78        58\n",
      "       shame       1.00      0.33      0.50        15\n",
      "    surprise       1.00      0.57      0.73        21\n",
      "\n",
      "    accuracy                           0.83       241\n",
      "   macro avg       0.77      0.67      0.69       241\n",
      "weighted avg       0.83      0.83      0.81       241\n",
      "\n"
     ]
    },
    {
     "name": "stderr",
     "output_type": "stream",
     "text": [
      "D:\\Anaconda\\lib\\site-packages\\sklearn\\metrics\\_classification.py:1248: UndefinedMetricWarning: Precision and F-score are ill-defined and being set to 0.0 in labels with no predicted samples. Use `zero_division` parameter to control this behavior.\n",
      "  _warn_prf(average, modifier, msg_start, len(result))\n",
      "D:\\Anaconda\\lib\\site-packages\\sklearn\\metrics\\_classification.py:1248: UndefinedMetricWarning: Precision and F-score are ill-defined and being set to 0.0 in labels with no predicted samples. Use `zero_division` parameter to control this behavior.\n",
      "  _warn_prf(average, modifier, msg_start, len(result))\n",
      "D:\\Anaconda\\lib\\site-packages\\sklearn\\metrics\\_classification.py:1248: UndefinedMetricWarning: Precision and F-score are ill-defined and being set to 0.0 in labels with no predicted samples. Use `zero_division` parameter to control this behavior.\n",
      "  _warn_prf(average, modifier, msg_start, len(result))\n"
     ]
    }
   ],
   "source": [
    "print(classification_report(y_test,y_pred_for_model))"
   ]
  },
  {
   "cell_type": "code",
   "execution_count": 67,
   "metadata": {},
   "outputs": [
    {
     "data": {
      "text/plain": [
       "array([[43,  0,  0,  0,  5,  0,  0],\n",
       "       [ 0,  0,  2,  1,  7,  0,  0],\n",
       "       [ 0,  0, 42,  0,  0,  0,  0],\n",
       "       [ 0,  0,  0, 44,  3,  0,  0],\n",
       "       [ 2,  0,  0,  1, 55,  0,  0],\n",
       "       [ 2,  0,  1,  0,  7,  5,  0],\n",
       "       [ 1,  0,  0,  2,  6,  0, 12]], dtype=int64)"
      ]
     },
     "execution_count": 67,
     "metadata": {},
     "output_type": "execute_result"
    }
   ],
   "source": [
    "confusion_matrix(y_test,y_pred_for_model)"
   ]
  },
  {
   "cell_type": "code",
   "execution_count": 68,
   "metadata": {},
   "outputs": [
    {
     "data": {
      "text/plain": [
       "<sklearn.metrics._plot.confusion_matrix.ConfusionMatrixDisplay at 0x1c974fa2bb0>"
      ]
     },
     "execution_count": 68,
     "metadata": {},
     "output_type": "execute_result"
    },
    {
     "data": {
      "image/png": "[encoded data removed]",
      "text/plain": [
       "<Figure size 432x288 with 2 Axes>"
      ]
     },
     "metadata": {
      "needs_background": "light"
     },
     "output_type": "display_data"
    }
   ],
   "source": [
    "plot_confusion_matrix(model,X_test,y_test)"
   ]
  },
  {
   "cell_type": "code",
   "execution_count": 77,
   "metadata": {},
   "outputs": [
    {
     "data": {
      "text/plain": [
       "0.9915410236350038"
      ]
     },
     "execution_count": 77,
     "metadata": {},
     "output_type": "execute_result"
    }
   ],
   "source": [
    "import sklearn.metrics as metrics\n",
    "from sklearn import metrics\n",
    "from sklearn.metrics import roc_auc_score\n",
    "\n",
    "y_pred = model.predict_proba(X_test)\n",
    "#preds = probs[:,1]\n",
    "\n",
    "roc_auc_score(y_test,y_pred,multi_class=\"ovr\")\n",
    "\n"
   ]
  },
  {
   "cell_type": "code",
   "execution_count": 75,
   "metadata": {},
   "outputs": [],
   "source": [
    "\n",
    "\n",
    "from scipy import interp\n",
    "import matplotlib.pyplot as plt\n",
    "from sklearn.metrics import roc_curve, auc\n",
    "# Learn to predict each class against the other\n",
    "\n",
    "new_label = ['sad','anger','happy','fear','surprise','shame','disgust']\n",
    "final_label = new_label\n",
    "new_class = 7\n",
    "\n",
    "y_pred_ravel = y_pred.ravel()\n",
    "lw = 2"
   ]
  },
  {
   "cell_type": "code",
   "execution_count": 80,
   "metadata": {},
   "outputs": [],
   "source": [
    "fpr = dict()\n",
    "tpr = dict()\n",
    "roc_auc = dict()\n",
    "\n",
    "for i in range(new_class):\n",
    "    fpr[i], tpr[i], _ = roc_curve(y_test[:,i], y_pred[:,i])\n",
    "    roc_auc[i] = auc(fpr[i], tpr[i])\n",
    "    \n",
    "#colors = cycle(['red', 'green','black'])\n",
    "colors = cycle(['red', 'green','black','blue', 'yellow','purple','orange'])\n",
    "for i, color in zip(range(new_class), colors):\n",
    "    plt.plot(fpr[i], tpr[i], color=color, lw=lw,\n",
    "             label='ROC curve of class {0}'''.format(final_label[i]))\n",
    "    \n",
    "\n",
    "plt.plot([0, 1], [0, 1], 'k--', lw=lw)\n",
    "plt.xlim([0, 1.0])\n",
    "plt.ylim([0.0, 1.05])\n",
    "plt.xlabel('False Positive Rate')\n",
    "plt.ylabel('True Positive Rate')\n",
    "plt.title('Receiver Operating Characteristic')\n",
    "plt.legend(loc=\"lower right\")\n",
    "plt.show()\n",
    "\n",
    "\n",
    "\n",
    "\n",
    "\n",
    "\n",
    "\n",
    "\n",
    "\n"
   ]
  },
  {
   "cell_type": "code",
   "execution_count": 81,
   "metadata": {},
   "outputs": [
    {
     "ename": "NameError",
     "evalue": "name 'dt_gini_score' is not defined",
     "output_type": "error",
     "traceback": [
      "\u001b[1;31m---------------------------------------------------------------------------\u001b[0m",
      "\u001b[1;31mNameError\u001b[0m                                 Traceback (most recent call last)",
      "\u001b[1;32m~\\AppData\\Local\\Temp/ipykernel_9664/631378691.py\u001b[0m in \u001b[0;36m<module>\u001b[1;34m\u001b[0m\n\u001b[1;32m----> 1\u001b[1;33m \u001b[0mplot_roc\u001b[0m\u001b[1;33m(\u001b[0m\u001b[0my_test\u001b[0m\u001b[1;33m,\u001b[0m \u001b[0mdt_gini_score\u001b[0m\u001b[1;33m)\u001b[0m\u001b[1;33m\u001b[0m\u001b[1;33m\u001b[0m\u001b[0m\n\u001b[0m",
      "\u001b[1;31mNameError\u001b[0m: name 'dt_gini_score' is not defined"
     ]
    }
   ],
   "source": []
  },
  {
   "cell_type": "code",
   "execution_count": null,
   "metadata": {},
   "outputs": [],
   "source": []
  }
 ],
 "metadata": {
  "kernelspec": {
   "display_name": "Python 3 (ipykernel)",
   "language": "python",
   "name": "python3"
  },
  "language_info": {
   "codemirror_mode": {
    "name": "ipython",
    "version": 3
   },
   "file_extension": ".py",
   "mimetype": "text/x-python",
   "name": "python",
   "nbconvert_exporter": "python",
   "pygments_lexer": "ipython3",
   "version": "3.9.7"
  }
 },
 "nbformat": 4,
 "nbformat_minor": 4
}
