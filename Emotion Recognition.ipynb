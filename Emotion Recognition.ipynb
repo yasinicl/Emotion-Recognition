{
 "cells": [
  {
   "cell_type": "code",
   "execution_count": 1,
   "metadata": {},
   "outputs": [],
   "source": [
    "import pandas as pd\n",
    "import numpy as np\n",
    "\n",
    "\n",
    "\n"
   ]
  },
  {
   "cell_type": "code",
   "execution_count": 2,
   "metadata": {},
   "outputs": [],
   "source": [
    "import matplotlib.pyplot as plt \n",
    "import seaborn as sns "
   ]
  },
  {
   "cell_type": "code",
   "execution_count": 3,
   "metadata": {},
   "outputs": [],
   "source": [
    "import neattext.functions as nfx"
   ]
  },
  {
   "cell_type": "code",
   "execution_count": null,
   "metadata": {},
   "outputs": [],
   "source": []
  },
  {
   "cell_type": "code",
   "execution_count": 4,
   "metadata": {},
   "outputs": [],
   "source": [
    "# df_train = pd.read_csv('data_train.csv')\n",
    "#df_test = pd.read_csv('data_test.csv')\n",
    "\n",
    "#X_train = df_train.Text\n",
    "#X_test = df_test.Text\n",
    "\n",
    "#y_train = df_train.Emotion\n",
    "#y_test = df_test.Emotion\n",
    "\n",
    "#class_names = ['joy', 'sadness', 'anger', 'neutral', 'fear']\n",
    "#df = pd.concat([df_train, df_test])\n",
    "\n",
    "#print('size of training set: %s' % (len(df_train['Text'])))\n",
    "#print('size of validation set: %s' % (len(df_test['Text'])))\n",
    "#print(df.Emotion.value_counts())\n",
    "\n",
    "#df.head()\n",
    "#df=pd.read_csv('dataset/tweet_emotions.csv')\n",
    "\n",
    "#df=pd.read_csv('merged.csv')\n",
    "#df=pd.read_csv('dataset/isear.csv')\n",
    "df=pd.read_csv('dataset/emotion-stimulus.csv')\n",
    "#df=pd.read_csv('dataset/dailydialog.csv')"
   ]
  },
  {
   "cell_type": "code",
   "execution_count": null,
   "metadata": {},
   "outputs": [],
   "source": [
    "\n"
   ]
  },
  {
   "cell_type": "code",
   "execution_count": 5,
   "metadata": {},
   "outputs": [
    {
     "data": {
      "text/html": [
       "<div>\n",
       "<style scoped>\n",
       "    .dataframe tbody tr th:only-of-type {\n",
       "        vertical-align: middle;\n",
       "    }\n",
       "\n",
       "    .dataframe tbody tr th {\n",
       "        vertical-align: top;\n",
       "    }\n",
       "\n",
       "    .dataframe thead th {\n",
       "        text-align: right;\n",
       "    }\n",
       "</style>\n",
       "<table border=\"1\" class=\"dataframe\">\n",
       "  <thead>\n",
       "    <tr style=\"text-align: right;\">\n",
       "      <th></th>\n",
       "      <th>Emotion</th>\n",
       "      <th>Text</th>\n",
       "    </tr>\n",
       "  </thead>\n",
       "  <tbody>\n",
       "    <tr>\n",
       "      <th>0</th>\n",
       "      <td>happy</td>\n",
       "      <td>I suppose I am happy being so ` tiny' ; it mea...</td>\n",
       "    </tr>\n",
       "    <tr>\n",
       "      <th>1</th>\n",
       "      <td>happy</td>\n",
       "      <td>Lennox has always truly wanted to fight for th...</td>\n",
       "    </tr>\n",
       "    <tr>\n",
       "      <th>2</th>\n",
       "      <td>happy</td>\n",
       "      <td>He was a professional musician now , still sen...</td>\n",
       "    </tr>\n",
       "    <tr>\n",
       "      <th>3</th>\n",
       "      <td>happy</td>\n",
       "      <td>Holmes is happy having the freedom of the hous...</td>\n",
       "    </tr>\n",
       "    <tr>\n",
       "      <th>4</th>\n",
       "      <td>happy</td>\n",
       "      <td>I had problems with tutors trying to encourage...</td>\n",
       "    </tr>\n",
       "  </tbody>\n",
       "</table>\n",
       "</div>"
      ],
      "text/plain": [
       "  Emotion                                               Text\n",
       "0   happy  I suppose I am happy being so ` tiny' ; it mea...\n",
       "1   happy  Lennox has always truly wanted to fight for th...\n",
       "2   happy  He was a professional musician now , still sen...\n",
       "3   happy  Holmes is happy having the freedom of the hous...\n",
       "4   happy  I had problems with tutors trying to encourage..."
      ]
     },
     "execution_count": 5,
     "metadata": {},
     "output_type": "execute_result"
    }
   ],
   "source": [
    "df.head()"
   ]
  },
  {
   "cell_type": "code",
   "execution_count": null,
   "metadata": {},
   "outputs": [],
   "source": []
  },
  {
   "cell_type": "code",
   "execution_count": 6,
   "metadata": {},
   "outputs": [
    {
     "data": {
      "text/plain": [
       "(2414, 2)"
      ]
     },
     "execution_count": 6,
     "metadata": {},
     "output_type": "execute_result"
    }
   ],
   "source": [
    "df.shape"
   ]
  },
  {
   "cell_type": "code",
   "execution_count": 7,
   "metadata": {},
   "outputs": [
    {
     "data": {
      "text/plain": [
       "Emotion    object\n",
       "Text       object\n",
       "dtype: object"
      ]
     },
     "execution_count": 7,
     "metadata": {},
     "output_type": "execute_result"
    }
   ],
   "source": [
    "df.dtypes"
   ]
  },
  {
   "cell_type": "code",
   "execution_count": 8,
   "metadata": {},
   "outputs": [
    {
     "data": {
      "text/plain": [
       "Emotion    0\n",
       "Text       0\n",
       "dtype: int64"
      ]
     },
     "execution_count": 8,
     "metadata": {},
     "output_type": "execute_result"
    }
   ],
   "source": [
    "df.isnull().sum()"
   ]
  },
  {
   "cell_type": "code",
   "execution_count": null,
   "metadata": {},
   "outputs": [],
   "source": []
  },
  {
   "cell_type": "code",
   "execution_count": 9,
   "metadata": {},
   "outputs": [
    {
     "data": {
      "text/plain": [
       "sad         575\n",
       "anger       483\n",
       "happy       479\n",
       "fear        423\n",
       "surprise    213\n",
       "shame       146\n",
       "disgust      95\n",
       "Name: Emotion, dtype: int64"
      ]
     },
     "execution_count": 9,
     "metadata": {},
     "output_type": "execute_result"
    }
   ],
   "source": [
    "#value count of emotions\n",
    "df['Emotion'].value_counts()"
   ]
  },
  {
   "cell_type": "code",
   "execution_count": 10,
   "metadata": {},
   "outputs": [],
   "source": [
    "#plt.figure(figsize=(15,5))\n",
    "#sns.countplot(x='Emotion',data=df)\n",
    "#plt.show"
   ]
  },
  {
   "cell_type": "code",
   "execution_count": null,
   "metadata": {},
   "outputs": [],
   "source": [
    "\n"
   ]
  },
  {
   "cell_type": "code",
   "execution_count": 11,
   "metadata": {},
   "outputs": [],
   "source": [
    "#Sentiment Analysis\n",
    "#from textblob import TextBlob"
   ]
  },
  {
   "cell_type": "code",
   "execution_count": 12,
   "metadata": {},
   "outputs": [],
   "source": [
    "#def get_sentiment(text):\n",
    "  #  blob =TextBlob(text)\n",
    "  #  sentiment= blob.sentiment.polarity\n",
    "  #  if sentiment >0:\n",
    "   #     result='Positive'\n",
    "   # elif sentiment <0:\n",
    "   #     result ='Negative'\n",
    "  #  else:\n",
    "     #   result=\"Neutral\"\n",
    "  #  return result"
   ]
  },
  {
   "cell_type": "code",
   "execution_count": 13,
   "metadata": {},
   "outputs": [],
   "source": [
    "#testing \n",
    "#get_sentiment(\"I love coding\")"
   ]
  },
  {
   "cell_type": "code",
   "execution_count": 14,
   "metadata": {},
   "outputs": [],
   "source": [
    "#df['Sentiment']=df['Text'].apply(get_sentiment)"
   ]
  },
  {
   "cell_type": "code",
   "execution_count": 15,
   "metadata": {},
   "outputs": [],
   "source": [
    "#df.head()"
   ]
  },
  {
   "cell_type": "code",
   "execution_count": 16,
   "metadata": {},
   "outputs": [],
   "source": [
    "#Comparing Emotion and Sentiments\n",
    "#df.groupby(['Emotion','Sentiment']).size()"
   ]
  },
  {
   "cell_type": "code",
   "execution_count": 17,
   "metadata": {},
   "outputs": [],
   "source": [
    "#df.groupby(['Emotion','Sentiment']).size().plot(kind='bar')"
   ]
  },
  {
   "cell_type": "code",
   "execution_count": 18,
   "metadata": {},
   "outputs": [],
   "source": [
    "#sns.catplot(x='Emotion',hue='Sentiment',data=df, kind='count', aspect=1.5)"
   ]
  },
  {
   "cell_type": "code",
   "execution_count": 19,
   "metadata": {},
   "outputs": [],
   "source": [
    "#Text Cleaning\n"
   ]
  },
  {
   "cell_type": "code",
   "execution_count": 20,
   "metadata": {},
   "outputs": [
    {
     "data": {
      "text/plain": [
       "['BTC_ADDRESS_REGEX',\n",
       " 'CURRENCY_REGEX',\n",
       " 'CURRENCY_SYMB_REGEX',\n",
       " 'Counter',\n",
       " 'DATE_REGEX',\n",
       " 'EMAIL_REGEX',\n",
       " 'EMOJI_REGEX',\n",
       " 'HASTAG_REGEX',\n",
       " 'MASTERCard_REGEX',\n",
       " 'MD5_SHA_REGEX',\n",
       " 'MOST_COMMON_PUNCT_REGEX',\n",
       " 'NUMBERS_REGEX',\n",
       " 'PHONE_REGEX',\n",
       " 'PoBOX_REGEX',\n",
       " 'SPECIAL_CHARACTERS_REGEX',\n",
       " 'STOPWORDS',\n",
       " 'STOPWORDS_de',\n",
       " 'STOPWORDS_en',\n",
       " 'STOPWORDS_es',\n",
       " 'STOPWORDS_fr',\n",
       " 'STOPWORDS_ru',\n",
       " 'STOPWORDS_yo',\n",
       " 'STREET_ADDRESS_REGEX',\n",
       " 'TextFrame',\n",
       " 'URL_PATTERN',\n",
       " 'USER_HANDLES_REGEX',\n",
       " 'VISACard_REGEX',\n",
       " '__builtins__',\n",
       " '__cached__',\n",
       " '__doc__',\n",
       " '__file__',\n",
       " '__generate_text',\n",
       " '__loader__',\n",
       " '__name__',\n",
       " '__numbers_dict',\n",
       " '__package__',\n",
       " '__spec__',\n",
       " '_lex_richness_herdan',\n",
       " '_lex_richness_maas_ttr',\n",
       " 'clean_text',\n",
       " 'defaultdict',\n",
       " 'digit2words',\n",
       " 'extract_btc_address',\n",
       " 'extract_currencies',\n",
       " 'extract_currency_symbols',\n",
       " 'extract_dates',\n",
       " 'extract_emails',\n",
       " 'extract_emojis',\n",
       " 'extract_hashtags',\n",
       " 'extract_html_tags',\n",
       " 'extract_mastercard_addr',\n",
       " 'extract_md5sha',\n",
       " 'extract_numbers',\n",
       " 'extract_pattern',\n",
       " 'extract_phone_numbers',\n",
       " 'extract_postoffice_box',\n",
       " 'extract_shortwords',\n",
       " 'extract_special_characters',\n",
       " 'extract_stopwords',\n",
       " 'extract_street_address',\n",
       " 'extract_terms_in_bracket',\n",
       " 'extract_urls',\n",
       " 'extract_userhandles',\n",
       " 'extract_visacard_addr',\n",
       " 'fix_contractions',\n",
       " 'generate_sentence',\n",
       " 'hamming_distance',\n",
       " 'inverse_df',\n",
       " 'lexical_richness',\n",
       " 'markov_chain',\n",
       " 'math',\n",
       " 'nlargest',\n",
       " 'normalize',\n",
       " 'num2words',\n",
       " 'random',\n",
       " 're',\n",
       " 'read_txt',\n",
       " 'remove_bad_quotes',\n",
       " 'remove_btc_address',\n",
       " 'remove_currencies',\n",
       " 'remove_currency_symbols',\n",
       " 'remove_custom_pattern',\n",
       " 'remove_custom_words',\n",
       " 'remove_dates',\n",
       " 'remove_emails',\n",
       " 'remove_emojis',\n",
       " 'remove_hashtags',\n",
       " 'remove_html_tags',\n",
       " 'remove_mastercard_addr',\n",
       " 'remove_md5sha',\n",
       " 'remove_multiple_spaces',\n",
       " 'remove_non_ascii',\n",
       " 'remove_numbers',\n",
       " 'remove_phone_numbers',\n",
       " 'remove_postoffice_box',\n",
       " 'remove_puncts',\n",
       " 'remove_punctuations',\n",
       " 'remove_shortwords',\n",
       " 'remove_special_characters',\n",
       " 'remove_stopwords',\n",
       " 'remove_street_address',\n",
       " 'remove_terms_in_bracket',\n",
       " 'remove_urls',\n",
       " 'remove_userhandles',\n",
       " 'remove_visacard_addr',\n",
       " 'replace_bad_quotes',\n",
       " 'replace_currencies',\n",
       " 'replace_currency_symbols',\n",
       " 'replace_dates',\n",
       " 'replace_emails',\n",
       " 'replace_emojis',\n",
       " 'replace_numbers',\n",
       " 'replace_phone_numbers',\n",
       " 'replace_special_characters',\n",
       " 'replace_term',\n",
       " 'replace_urls',\n",
       " 'string',\n",
       " 'term_freq',\n",
       " 'to_txt',\n",
       " 'word_freq',\n",
       " 'word_length_freq']"
      ]
     },
     "execution_count": 20,
     "metadata": {},
     "output_type": "execute_result"
    }
   ],
   "source": [
    "dir(nfx)"
   ]
  },
  {
   "cell_type": "code",
   "execution_count": 21,
   "metadata": {},
   "outputs": [],
   "source": [
    "df['Clean_Text']=df['Text'].apply(nfx.remove_special_characters)"
   ]
  },
  {
   "cell_type": "code",
   "execution_count": 22,
   "metadata": {},
   "outputs": [],
   "source": [
    "#df['Clean_Text']=df['content'].apply(nfx.remove_punctuations)"
   ]
  },
  {
   "cell_type": "code",
   "execution_count": 23,
   "metadata": {},
   "outputs": [
    {
     "data": {
      "text/html": [
       "<div>\n",
       "<style scoped>\n",
       "    .dataframe tbody tr th:only-of-type {\n",
       "        vertical-align: middle;\n",
       "    }\n",
       "\n",
       "    .dataframe tbody tr th {\n",
       "        vertical-align: top;\n",
       "    }\n",
       "\n",
       "    .dataframe thead th {\n",
       "        text-align: right;\n",
       "    }\n",
       "</style>\n",
       "<table border=\"1\" class=\"dataframe\">\n",
       "  <thead>\n",
       "    <tr style=\"text-align: right;\">\n",
       "      <th></th>\n",
       "      <th>Text</th>\n",
       "      <th>Clean_Text</th>\n",
       "    </tr>\n",
       "  </thead>\n",
       "  <tbody>\n",
       "    <tr>\n",
       "      <th>0</th>\n",
       "      <td>I suppose I am happy being so ` tiny' ; it mea...</td>\n",
       "      <td>I suppose I am happy being so  tiny  it means ...</td>\n",
       "    </tr>\n",
       "    <tr>\n",
       "      <th>1</th>\n",
       "      <td>Lennox has always truly wanted to fight for th...</td>\n",
       "      <td>Lennox has always truly wanted to fight for th...</td>\n",
       "    </tr>\n",
       "    <tr>\n",
       "      <th>2</th>\n",
       "      <td>He was a professional musician now , still sen...</td>\n",
       "      <td>He was a professional musician now  still sens...</td>\n",
       "    </tr>\n",
       "    <tr>\n",
       "      <th>3</th>\n",
       "      <td>Holmes is happy having the freedom of the hous...</td>\n",
       "      <td>Holmes is happy having the freedom of the hous...</td>\n",
       "    </tr>\n",
       "    <tr>\n",
       "      <th>4</th>\n",
       "      <td>I had problems with tutors trying to encourage...</td>\n",
       "      <td>I had problems with tutors trying to encourage...</td>\n",
       "    </tr>\n",
       "    <tr>\n",
       "      <th>...</th>\n",
       "      <td>...</td>\n",
       "      <td>...</td>\n",
       "    </tr>\n",
       "    <tr>\n",
       "      <th>2409</th>\n",
       "      <td>He gets real humiliated and has to leave .</td>\n",
       "      <td>He gets real humiliated and has to leave</td>\n",
       "    </tr>\n",
       "    <tr>\n",
       "      <th>2410</th>\n",
       "      <td>They aimed for higher status jobs and felt hum...</td>\n",
       "      <td>They aimed for higher status jobs and felt hum...</td>\n",
       "    </tr>\n",
       "    <tr>\n",
       "      <th>2411</th>\n",
       "      <td>He cursed his lack of self-control ; he knew t...</td>\n",
       "      <td>He cursed his lack of selfcontrol  he knew tha...</td>\n",
       "    </tr>\n",
       "    <tr>\n",
       "      <th>2412</th>\n",
       "      <td>Sometimes I've thought I 'll never forget wha...</td>\n",
       "      <td>Sometimes Ive thought I ll never forget what ...</td>\n",
       "    </tr>\n",
       "    <tr>\n",
       "      <th>2413</th>\n",
       "      <td>GRAHAM TAYLOR will defy the fury of a humiliat...</td>\n",
       "      <td>GRAHAM TAYLOR will defy the fury of a humiliat...</td>\n",
       "    </tr>\n",
       "  </tbody>\n",
       "</table>\n",
       "<p>2414 rows × 2 columns</p>\n",
       "</div>"
      ],
      "text/plain": [
       "                                                   Text  \\\n",
       "0     I suppose I am happy being so ` tiny' ; it mea...   \n",
       "1     Lennox has always truly wanted to fight for th...   \n",
       "2     He was a professional musician now , still sen...   \n",
       "3     Holmes is happy having the freedom of the hous...   \n",
       "4     I had problems with tutors trying to encourage...   \n",
       "...                                                 ...   \n",
       "2409        He gets real humiliated and has to leave .    \n",
       "2410  They aimed for higher status jobs and felt hum...   \n",
       "2411  He cursed his lack of self-control ; he knew t...   \n",
       "2412   Sometimes I've thought I 'll never forget wha...   \n",
       "2413  GRAHAM TAYLOR will defy the fury of a humiliat...   \n",
       "\n",
       "                                             Clean_Text  \n",
       "0     I suppose I am happy being so  tiny  it means ...  \n",
       "1     Lennox has always truly wanted to fight for th...  \n",
       "2     He was a professional musician now  still sens...  \n",
       "3     Holmes is happy having the freedom of the hous...  \n",
       "4     I had problems with tutors trying to encourage...  \n",
       "...                                                 ...  \n",
       "2409         He gets real humiliated and has to leave    \n",
       "2410  They aimed for higher status jobs and felt hum...  \n",
       "2411  He cursed his lack of selfcontrol  he knew tha...  \n",
       "2412   Sometimes Ive thought I ll never forget what ...  \n",
       "2413  GRAHAM TAYLOR will defy the fury of a humiliat...  \n",
       "\n",
       "[2414 rows x 2 columns]"
      ]
     },
     "execution_count": 23,
     "metadata": {},
     "output_type": "execute_result"
    }
   ],
   "source": [
    "df[['Text','Clean_Text']]"
   ]
  },
  {
   "cell_type": "code",
   "execution_count": 24,
   "metadata": {},
   "outputs": [
    {
     "data": {
      "text/plain": [
       "0       I suppose I am happy being so  tiny  it means ...\n",
       "1       Lennox has always truly wanted to fight for th...\n",
       "2       He was a professional musician now  still sens...\n",
       "3       Holmes is happy having the freedom of the hous...\n",
       "4       I had problems with tutors trying to encourage...\n",
       "                              ...                        \n",
       "2409           He gets real humiliated and has to leave  \n",
       "2410    They aimed for higher status jobs and felt hum...\n",
       "2411    He cursed his lack of selfcontrol  he knew tha...\n",
       "2412     Sometimes Ive thought I ll never forget what ...\n",
       "2413    GRAHAM TAYLOR will defy the fury of a humiliat...\n",
       "Name: Clean_Text, Length: 2414, dtype: object"
      ]
     },
     "execution_count": 24,
     "metadata": {},
     "output_type": "execute_result"
    }
   ],
   "source": [
    "df['Clean_Text']"
   ]
  },
  {
   "cell_type": "code",
   "execution_count": null,
   "metadata": {},
   "outputs": [],
   "source": []
  },
  {
   "cell_type": "code",
   "execution_count": 25,
   "metadata": {},
   "outputs": [],
   "source": [
    "# KEyword Extraction\n"
   ]
  },
  {
   "cell_type": "code",
   "execution_count": 26,
   "metadata": {},
   "outputs": [],
   "source": [
    "#from collections import Counter"
   ]
  },
  {
   "cell_type": "code",
   "execution_count": null,
   "metadata": {},
   "outputs": [],
   "source": []
  },
  {
   "cell_type": "code",
   "execution_count": 27,
   "metadata": {},
   "outputs": [],
   "source": [
    "#def extract_keywords(text,num=50):\n",
    "  #  tokens=[tok for tok in text.split()]\n",
    "   # most_common_tokens =Counter(tokens).most_common(num)\n",
    "   # return dict(most_common_tokens)"
   ]
  },
  {
   "cell_type": "code",
   "execution_count": null,
   "metadata": {},
   "outputs": [],
   "source": []
  },
  {
   "cell_type": "code",
   "execution_count": 28,
   "metadata": {},
   "outputs": [],
   "source": [
    "#list of emotions\n",
    "#emotion_list =df['Emotion'].unique().tolist()"
   ]
  },
  {
   "cell_type": "code",
   "execution_count": 29,
   "metadata": {},
   "outputs": [],
   "source": [
    "#emotion_list"
   ]
  },
  {
   "cell_type": "code",
   "execution_count": 30,
   "metadata": {},
   "outputs": [],
   "source": [
    "#joy_list=df[df['Emotion']=='joy']['Clean_Text'].tolist()"
   ]
  },
  {
   "cell_type": "code",
   "execution_count": null,
   "metadata": {},
   "outputs": [],
   "source": []
  },
  {
   "cell_type": "code",
   "execution_count": 31,
   "metadata": {},
   "outputs": [],
   "source": [
    "#joy_docx=''.join(joy_list)"
   ]
  },
  {
   "cell_type": "code",
   "execution_count": 32,
   "metadata": {},
   "outputs": [],
   "source": [
    "#joy_docx"
   ]
  },
  {
   "cell_type": "code",
   "execution_count": 33,
   "metadata": {},
   "outputs": [],
   "source": [
    "#keyword_joy=extract_keywords(joy_docx)"
   ]
  },
  {
   "cell_type": "code",
   "execution_count": 34,
   "metadata": {},
   "outputs": [],
   "source": [
    "#keyword_joy"
   ]
  },
  {
   "cell_type": "code",
   "execution_count": 35,
   "metadata": {},
   "outputs": [],
   "source": [
    "#def plot_most_common_words(mydict,emotion_name):\n",
    "  #  df_01 = pd.DataFrame(mydict.items(),columns=['token','count'])\n",
    "  #  plt.figure(figsize=(20,10))\n",
    "   # plt.title(\"Plot of {} Most Common Keywords\".format(emotion_name))\n",
    "  #  sns.barplot(x='token',y='count',data=df_01)\n",
    "  #  plt.xticks(rotation=45)\n",
    "    #plt.show()"
   ]
  },
  {
   "cell_type": "code",
   "execution_count": 36,
   "metadata": {},
   "outputs": [],
   "source": [
    "#plot_most_common_words(keyword_joy,\"joy\")"
   ]
  },
  {
   "cell_type": "code",
   "execution_count": 37,
   "metadata": {},
   "outputs": [],
   "source": [
    "##for sadness"
   ]
  },
  {
   "cell_type": "code",
   "execution_count": 38,
   "metadata": {},
   "outputs": [],
   "source": [
    "#sadness_list=df[df['Emotion']=='sadness']['Clean_Text'].tolist()\n",
    "#documnet creation\n",
    "#sadness_docx=''.join(joy_list)\n",
    "#keyeord extravtion\n",
    "#keyword_sadness=extract_keywords(sadness_docx)"
   ]
  },
  {
   "cell_type": "code",
   "execution_count": 39,
   "metadata": {},
   "outputs": [],
   "source": [
    "#plot_most_common_words(keyword_sadness,\"sadness\")"
   ]
  },
  {
   "cell_type": "code",
   "execution_count": 40,
   "metadata": {},
   "outputs": [],
   "source": [
    "#Machine Learning\n"
   ]
  },
  {
   "cell_type": "code",
   "execution_count": 41,
   "metadata": {},
   "outputs": [],
   "source": [
    "from sklearn.neighbors import KNeighborsClassifier\n",
    "from sklearn.ensemble import RandomForestClassifier\n",
    "from sklearn.svm import SVC\n",
    "from sklearn import svm\n",
    "#import lightgbm as lgb\n",
    "from sklearn.metrics import classification_report,confusion_matrix,plot_confusion_matrix,accuracy_score,matthews_corrcoef,f1_score,precision_score, recall_score\n",
    "from sklearn.tree import DecisionTreeClassifier\n",
    "from sklearn.discriminant_analysis import LinearDiscriminantAnalysis\n",
    "from sklearn.neighbors import KNeighborsClassifier\n",
    "from sklearn.naive_bayes import GaussianNB\n",
    "from sklearn.linear_model import LogisticRegression, SGDClassifier\n",
    "\n",
    "import seaborn as sns\n",
    "from sklearn.ensemble import RandomForestClassifier\n",
    "from sklearn.preprocessing import StandardScaler\n",
    "from sklearn.preprocessing import LabelEncoder\n",
    "#import xgboost as xgb\n",
    "#Vectorizer\n",
    "from sklearn.feature_extraction.text import CountVectorizer,TfidfVectorizer\n",
    "from sklearn.naive_bayes import MultinomialNB"
   ]
  },
  {
   "cell_type": "code",
   "execution_count": 42,
   "metadata": {},
   "outputs": [],
   "source": [
    " from sklearn.model_selection import StratifiedKFold\n",
    "folds= StratifiedKFold(n_splits=10,shuffle=True,random_state=42)"
   ]
  },
  {
   "cell_type": "code",
   "execution_count": 43,
   "metadata": {},
   "outputs": [],
   "source": [
    "#from sklearn.model_selection import train_test_split"
   ]
  },
  {
   "cell_type": "code",
   "execution_count": 44,
   "metadata": {},
   "outputs": [],
   "source": [
    "## Features Building"
   ]
  },
  {
   "cell_type": "code",
   "execution_count": 45,
   "metadata": {},
   "outputs": [],
   "source": [
    "Xfeatures=df['Clean_Text']\n",
    "ylabels=df['Emotion']"
   ]
  },
  {
   "cell_type": "code",
   "execution_count": 46,
   "metadata": {},
   "outputs": [
    {
     "data": {
      "text/plain": [
       "0       I suppose I am happy being so  tiny  it means ...\n",
       "1       Lennox has always truly wanted to fight for th...\n",
       "2       He was a professional musician now  still sens...\n",
       "3       Holmes is happy having the freedom of the hous...\n",
       "4       I had problems with tutors trying to encourage...\n",
       "                              ...                        \n",
       "2409           He gets real humiliated and has to leave  \n",
       "2410    They aimed for higher status jobs and felt hum...\n",
       "2411    He cursed his lack of selfcontrol  he knew tha...\n",
       "2412     Sometimes Ive thought I ll never forget what ...\n",
       "2413    GRAHAM TAYLOR will defy the fury of a humiliat...\n",
       "Name: Clean_Text, Length: 2414, dtype: object"
      ]
     },
     "execution_count": 46,
     "metadata": {},
     "output_type": "execute_result"
    }
   ],
   "source": [
    "Xfeatures"
   ]
  },
  {
   "cell_type": "code",
   "execution_count": 47,
   "metadata": {},
   "outputs": [],
   "source": [
    "#Vectorizer\n",
    "#cv=CountVectorizer()\n",
    "cv=TfidfVectorizer()\n",
    "X=cv.fit_transform(Xfeatures)"
   ]
  },
  {
   "cell_type": "code",
   "execution_count": 48,
   "metadata": {
    "scrolled": true
   },
   "outputs": [
    {
     "data": {
      "text/plain": [
       "['10',\n",
       " '100000',\n",
       " '1030',\n",
       " '11',\n",
       " '12',\n",
       " '122',\n",
       " '1230',\n",
       " '128600',\n",
       " '1295',\n",
       " '13',\n",
       " '15',\n",
       " '15yearold',\n",
       " '16yearold',\n",
       " '1741',\n",
       " '17th',\n",
       " '18',\n",
       " '187',\n",
       " '1878',\n",
       " '18years',\n",
       " '191523',\n",
       " '1917',\n",
       " '1926',\n",
       " '1929',\n",
       " '1930s',\n",
       " '1936',\n",
       " '1939',\n",
       " '1940s',\n",
       " '1956',\n",
       " '1960s',\n",
       " '1973',\n",
       " '1974',\n",
       " '1975',\n",
       " '1978',\n",
       " '1980',\n",
       " '1980s',\n",
       " '1984',\n",
       " '1986',\n",
       " '1987',\n",
       " '1989',\n",
       " '1991',\n",
       " '1992',\n",
       " '199394',\n",
       " '1997',\n",
       " '19th',\n",
       " '20000',\n",
       " '200000',\n",
       " '20th',\n",
       " '21',\n",
       " '2118',\n",
       " '218',\n",
       " '218000',\n",
       " '23',\n",
       " '23monthold',\n",
       " '23rd',\n",
       " '24',\n",
       " '28',\n",
       " '30',\n",
       " '31',\n",
       " '32',\n",
       " '33',\n",
       " '330000',\n",
       " '33yearold',\n",
       " '34',\n",
       " '35',\n",
       " '37574',\n",
       " '38',\n",
       " '40000',\n",
       " '403',\n",
       " '40th',\n",
       " '40yearold',\n",
       " '46',\n",
       " '48',\n",
       " '50',\n",
       " '50000',\n",
       " '500000',\n",
       " '55',\n",
       " '686',\n",
       " '70',\n",
       " '75th',\n",
       " '80s',\n",
       " '82ndminute',\n",
       " '9000',\n",
       " '95day',\n",
       " '9th',\n",
       " 'aaron',\n",
       " 'aback',\n",
       " 'abandoned',\n",
       " 'abandoning',\n",
       " 'abandonment',\n",
       " 'abd',\n",
       " 'abigail',\n",
       " 'abilities',\n",
       " 'ability',\n",
       " 'abjectly',\n",
       " 'able',\n",
       " 'aboard',\n",
       " 'abortion',\n",
       " 'about',\n",
       " 'above',\n",
       " 'abrupt',\n",
       " 'absence',\n",
       " 'absolute',\n",
       " 'absolutely',\n",
       " 'absurd',\n",
       " 'absurdly',\n",
       " 'abuse',\n",
       " 'abyssinia',\n",
       " 'academic',\n",
       " 'accept',\n",
       " 'accepted',\n",
       " 'access',\n",
       " 'accessible',\n",
       " 'accident',\n",
       " 'accidentally',\n",
       " 'accompanied',\n",
       " 'accompanies',\n",
       " 'accompany',\n",
       " 'accord',\n",
       " 'according',\n",
       " 'accordingly',\n",
       " 'account',\n",
       " 'accountants',\n",
       " 'accounting',\n",
       " 'accounts',\n",
       " 'accurately',\n",
       " 'accursed',\n",
       " 'accused',\n",
       " 'accusing',\n",
       " 'ace',\n",
       " 'ached',\n",
       " 'aches',\n",
       " 'achieve',\n",
       " 'achieved',\n",
       " 'achievements',\n",
       " 'acknowledge',\n",
       " 'acknowledged',\n",
       " 'acknowledging',\n",
       " 'acquiesced',\n",
       " 'acquire',\n",
       " 'acquired',\n",
       " 'acquisition',\n",
       " 'acquitted',\n",
       " 'across',\n",
       " 'act',\n",
       " 'acting',\n",
       " 'action',\n",
       " 'actions',\n",
       " 'activities',\n",
       " 'activity',\n",
       " 'actor',\n",
       " 'acts',\n",
       " 'actual',\n",
       " 'actually',\n",
       " 'acute',\n",
       " 'acutely',\n",
       " 'adam',\n",
       " 'adapt',\n",
       " 'add',\n",
       " 'added',\n",
       " 'adding',\n",
       " 'address',\n",
       " 'addressed',\n",
       " 'addressing',\n",
       " 'adequately',\n",
       " 'adjectival',\n",
       " 'administration',\n",
       " 'admiral',\n",
       " 'admiration',\n",
       " 'admiring',\n",
       " 'admit',\n",
       " 'admits',\n",
       " 'admitted',\n",
       " 'admitting',\n",
       " 'adolescents',\n",
       " 'adopt',\n",
       " 'adopted',\n",
       " 'adoring',\n",
       " 'adorns',\n",
       " 'ads',\n",
       " 'adult',\n",
       " 'adulthood',\n",
       " 'adults',\n",
       " 'advance',\n",
       " 'advantage',\n",
       " 'advantages',\n",
       " 'adventurous',\n",
       " 'advertisement',\n",
       " 'advertisements',\n",
       " 'advertisers',\n",
       " 'advice',\n",
       " 'advised',\n",
       " 'advisers',\n",
       " 'advocates',\n",
       " 'aea',\n",
       " 'affair',\n",
       " 'affairs',\n",
       " 'affected',\n",
       " 'affection',\n",
       " 'affluent',\n",
       " 'afforded',\n",
       " 'affront',\n",
       " 'affronted',\n",
       " 'aficionado',\n",
       " 'afraid',\n",
       " 'africa',\n",
       " 'africans',\n",
       " 'after',\n",
       " 'aftermath',\n",
       " 'afternoon',\n",
       " 'afterpulse',\n",
       " 'afterward',\n",
       " 'afterwards',\n",
       " 'again',\n",
       " 'against',\n",
       " 'agape',\n",
       " 'age',\n",
       " 'aged',\n",
       " 'agency',\n",
       " 'agent',\n",
       " 'agents',\n",
       " 'ages',\n",
       " 'aggie',\n",
       " 'aggressive',\n",
       " 'aggressiveness',\n",
       " 'agitated',\n",
       " 'agitation',\n",
       " 'aglow',\n",
       " 'agm',\n",
       " 'agnes',\n",
       " 'ago',\n",
       " 'agony',\n",
       " 'agoraphobic',\n",
       " 'agree',\n",
       " 'agreed',\n",
       " 'agreeing',\n",
       " 'agriculture',\n",
       " 'ah',\n",
       " 'ahead',\n",
       " 'ahmed',\n",
       " 'ai',\n",
       " 'aid',\n",
       " 'aimed',\n",
       " 'aiming',\n",
       " 'aims',\n",
       " 'air',\n",
       " 'aircraft',\n",
       " 'aires',\n",
       " 'airlines',\n",
       " 'airport',\n",
       " 'airsplitting',\n",
       " 'aisle',\n",
       " 'aisles',\n",
       " 'al',\n",
       " 'alain',\n",
       " 'alan',\n",
       " 'alarm',\n",
       " 'alarmed',\n",
       " 'albert',\n",
       " 'albums',\n",
       " 'alcohol',\n",
       " 'alcove',\n",
       " 'ald',\n",
       " 'aldridge',\n",
       " 'alert',\n",
       " 'alex',\n",
       " 'alexandra',\n",
       " 'alexei',\n",
       " 'alfed',\n",
       " 'alice',\n",
       " 'alien',\n",
       " 'alight',\n",
       " 'alike',\n",
       " 'alison',\n",
       " 'alive',\n",
       " 'all',\n",
       " 'allan',\n",
       " 'allconsuming',\n",
       " 'alleged',\n",
       " 'allegiance',\n",
       " 'alleging',\n",
       " 'allen',\n",
       " 'alleviate',\n",
       " 'allotted',\n",
       " 'allowed',\n",
       " 'allowing',\n",
       " 'almost',\n",
       " 'alone',\n",
       " 'along',\n",
       " 'already',\n",
       " 'also',\n",
       " 'altar',\n",
       " 'altering',\n",
       " 'alternative',\n",
       " 'alternatively',\n",
       " 'alternatives',\n",
       " 'althorp',\n",
       " 'although',\n",
       " 'altogether',\n",
       " 'always',\n",
       " 'am',\n",
       " 'amanda',\n",
       " 'amateurs',\n",
       " 'amazed',\n",
       " 'amazement',\n",
       " 'ambassador',\n",
       " 'ambition',\n",
       " 'ambulance',\n",
       " 'amelia',\n",
       " 'amendment',\n",
       " 'amends',\n",
       " 'america',\n",
       " 'american',\n",
       " 'americans',\n",
       " 'amid',\n",
       " 'amidst',\n",
       " 'among',\n",
       " 'amongst',\n",
       " 'amount',\n",
       " 'amphetamines',\n",
       " 'ample',\n",
       " 'amplifies',\n",
       " 'amuse',\n",
       " 'amused',\n",
       " 'amusement',\n",
       " 'amusing',\n",
       " 'an',\n",
       " 'ana',\n",
       " 'anaesthetic',\n",
       " 'analyse',\n",
       " 'analysis',\n",
       " 'anarchy',\n",
       " 'anc',\n",
       " 'and',\n",
       " 'andreotti',\n",
       " 'andrew',\n",
       " 'andrus',\n",
       " 'andy',\n",
       " 'angalo',\n",
       " 'anger',\n",
       " 'angled',\n",
       " 'angrily',\n",
       " 'angry',\n",
       " 'anguish',\n",
       " 'anguished',\n",
       " 'animal',\n",
       " 'animals',\n",
       " 'ann',\n",
       " 'anna',\n",
       " 'annabel',\n",
       " 'anne',\n",
       " 'annie',\n",
       " 'anniversary',\n",
       " 'annotating',\n",
       " 'announce',\n",
       " 'announced',\n",
       " 'announcement',\n",
       " 'announcing',\n",
       " 'annoyance',\n",
       " 'annoyed',\n",
       " 'annual',\n",
       " 'annus',\n",
       " 'anonymous',\n",
       " 'another',\n",
       " 'ans',\n",
       " 'answer',\n",
       " 'answered',\n",
       " 'anthony',\n",
       " 'antibolshevist',\n",
       " 'antics',\n",
       " 'antiflorio',\n",
       " 'antipathy',\n",
       " 'antiscience',\n",
       " 'antiscientific',\n",
       " 'antisemitism',\n",
       " 'antoinette',\n",
       " 'anxiety',\n",
       " 'anxious',\n",
       " 'anxiously',\n",
       " 'any',\n",
       " 'anybody',\n",
       " 'anyone',\n",
       " 'anything',\n",
       " 'anyway',\n",
       " 'anywhere',\n",
       " 'ap',\n",
       " 'apart',\n",
       " 'apartment',\n",
       " 'apartments',\n",
       " 'apathetic',\n",
       " 'apathy',\n",
       " 'aplin',\n",
       " 'apologetic',\n",
       " 'apology',\n",
       " 'apoplectic',\n",
       " 'apothecaries',\n",
       " 'appalled',\n",
       " 'appalling',\n",
       " 'apparent',\n",
       " 'apparently',\n",
       " 'appeal',\n",
       " 'appealed',\n",
       " 'appealing',\n",
       " 'appear',\n",
       " 'appearance',\n",
       " 'appeared',\n",
       " 'appears',\n",
       " 'applause',\n",
       " 'apples',\n",
       " 'applicants',\n",
       " 'applying',\n",
       " 'appointed',\n",
       " 'appointment',\n",
       " 'appreciate',\n",
       " 'appreciation',\n",
       " 'apprehension',\n",
       " 'apprehensive',\n",
       " 'approach',\n",
       " 'approached',\n",
       " 'approaching',\n",
       " 'appropriate',\n",
       " 'approval',\n",
       " 'april',\n",
       " 'apron',\n",
       " 'araminta',\n",
       " 'arcade',\n",
       " 'archbishop',\n",
       " 'architect',\n",
       " 'are',\n",
       " 'area',\n",
       " 'areas',\n",
       " 'arena',\n",
       " 'argue',\n",
       " 'arguing',\n",
       " 'argument',\n",
       " 'arguments',\n",
       " 'arid',\n",
       " 'aristophanes',\n",
       " 'arm',\n",
       " 'armed',\n",
       " 'armenian',\n",
       " 'arminian',\n",
       " 'armoury',\n",
       " 'arms',\n",
       " 'army',\n",
       " 'arnold',\n",
       " 'arose',\n",
       " 'around',\n",
       " 'aroused',\n",
       " 'arranged',\n",
       " 'arrangements',\n",
       " 'arrest',\n",
       " 'arrested',\n",
       " 'arrival',\n",
       " 'arrive',\n",
       " 'arrived',\n",
       " 'arriving',\n",
       " 'arrogance',\n",
       " 'arsenal',\n",
       " 'art',\n",
       " 'arthur',\n",
       " 'article',\n",
       " 'articles',\n",
       " 'articulate',\n",
       " 'artillery',\n",
       " 'artist',\n",
       " 'artists',\n",
       " 'arts',\n",
       " 'as',\n",
       " 'ashamed',\n",
       " 'ashi',\n",
       " 'ashley',\n",
       " 'asian',\n",
       " 'aside',\n",
       " 'ask',\n",
       " 'asked',\n",
       " 'asking',\n",
       " 'asleep',\n",
       " 'aslef',\n",
       " 'aspirations',\n",
       " 'assassination',\n",
       " 'assembled',\n",
       " 'assemblies',\n",
       " 'assignments',\n",
       " 'assistant',\n",
       " 'associated',\n",
       " 'associates',\n",
       " 'association',\n",
       " 'assortment',\n",
       " 'assume',\n",
       " 'assumed',\n",
       " 'assumption',\n",
       " 'assurances',\n",
       " 'assure',\n",
       " 'aston',\n",
       " 'astonished',\n",
       " 'astonishment',\n",
       " 'astounded',\n",
       " 'at',\n",
       " 'atheism',\n",
       " 'athelstan',\n",
       " 'atherton',\n",
       " 'athlete',\n",
       " 'athletically',\n",
       " 'atlantic',\n",
       " 'atmosphere',\n",
       " 'atom',\n",
       " 'atrocities',\n",
       " 'atrocity',\n",
       " 'attack',\n",
       " 'attacked',\n",
       " 'attacking',\n",
       " 'attacks',\n",
       " 'attempt',\n",
       " 'attempted',\n",
       " 'attempting',\n",
       " 'attempts',\n",
       " 'attend',\n",
       " 'attended',\n",
       " 'attention',\n",
       " 'attitude',\n",
       " 'attitudes',\n",
       " 'attracted',\n",
       " 'attractive',\n",
       " 'attributed',\n",
       " 'attuned',\n",
       " 'auburn',\n",
       " 'auction',\n",
       " 'audible',\n",
       " 'audience',\n",
       " 'audiences',\n",
       " 'auditorium',\n",
       " 'august',\n",
       " 'auguste',\n",
       " 'aunt',\n",
       " 'auntie',\n",
       " 'austere',\n",
       " 'australia',\n",
       " 'australian',\n",
       " 'author',\n",
       " 'authorities',\n",
       " 'authority',\n",
       " 'automatically',\n",
       " 'autonomy',\n",
       " 'autumn',\n",
       " 'avail',\n",
       " 'availability',\n",
       " 'avaricious',\n",
       " 'avidly',\n",
       " 'avoid',\n",
       " 'avoided',\n",
       " 'awake',\n",
       " 'awakened',\n",
       " 'awards',\n",
       " 'aware',\n",
       " 'away',\n",
       " 'awe',\n",
       " 'awed',\n",
       " 'awful',\n",
       " 'awkward',\n",
       " 'awoke',\n",
       " 'awry',\n",
       " 'axe',\n",
       " 'axed',\n",
       " 'aziz',\n",
       " 'babies',\n",
       " 'baboon',\n",
       " 'baby',\n",
       " 'back',\n",
       " 'backbenchers',\n",
       " 'backed',\n",
       " 'background',\n",
       " 'backs',\n",
       " 'backstage',\n",
       " 'backup',\n",
       " 'backward',\n",
       " 'backwards',\n",
       " 'bad',\n",
       " 'baddeley',\n",
       " 'badly',\n",
       " 'baffled',\n",
       " 'bag',\n",
       " 'bagshot',\n",
       " 'bailey',\n",
       " 'baked',\n",
       " 'baking',\n",
       " 'balcony',\n",
       " 'bald',\n",
       " 'ball',\n",
       " 'ballads',\n",
       " 'balladur',\n",
       " 'ballater',\n",
       " 'ballet',\n",
       " 'ballot',\n",
       " 'balm',\n",
       " 'ban',\n",
       " 'bananaskin',\n",
       " 'band',\n",
       " 'bandaged',\n",
       " 'bang',\n",
       " 'bangor',\n",
       " 'banishing',\n",
       " 'bank',\n",
       " 'bankers',\n",
       " 'bankrupt',\n",
       " 'banks',\n",
       " 'banned',\n",
       " 'bar',\n",
       " 'barbara',\n",
       " 'barbaric',\n",
       " 'barbarism',\n",
       " 'barbarossa',\n",
       " 'barbecue',\n",
       " 'bared',\n",
       " 'barely',\n",
       " 'baritone',\n",
       " 'bark',\n",
       " 'barked',\n",
       " 'barman',\n",
       " 'barraclough',\n",
       " 'barron',\n",
       " 'barrow',\n",
       " 'barry',\n",
       " 'bars',\n",
       " 'barth',\n",
       " 'baseball',\n",
       " 'based',\n",
       " 'basic',\n",
       " 'basically',\n",
       " 'basis',\n",
       " 'basket',\n",
       " 'baskets',\n",
       " 'basses',\n",
       " 'bassethound',\n",
       " 'bastide',\n",
       " 'bates',\n",
       " 'bathsheba',\n",
       " 'battering',\n",
       " 'battled',\n",
       " 'battles',\n",
       " 'batty',\n",
       " 'baxter',\n",
       " 'bbc',\n",
       " 'be',\n",
       " 'beach',\n",
       " 'beading',\n",
       " 'beaming',\n",
       " 'bean',\n",
       " 'beans',\n",
       " 'bear',\n",
       " 'bearable',\n",
       " 'beard',\n",
       " 'bearers',\n",
       " 'bearing',\n",
       " 'beastliness',\n",
       " 'beat',\n",
       " 'beaten',\n",
       " 'beatin',\n",
       " 'beautiful',\n",
       " 'beautifully',\n",
       " 'beauty',\n",
       " 'became',\n",
       " 'because',\n",
       " 'beckenham',\n",
       " 'become',\n",
       " 'becomes',\n",
       " 'becoming',\n",
       " 'bed',\n",
       " 'beddington',\n",
       " 'bedford',\n",
       " 'bedraggled',\n",
       " 'bedroom',\n",
       " 'beds',\n",
       " 'bedside',\n",
       " 'bedworth',\n",
       " 'beef',\n",
       " 'beehive',\n",
       " 'been',\n",
       " 'beer',\n",
       " 'before',\n",
       " 'began',\n",
       " 'begged',\n",
       " 'begin',\n",
       " 'beginning',\n",
       " 'begins',\n",
       " 'begum',\n",
       " 'begun',\n",
       " 'behalf',\n",
       " 'behaving',\n",
       " 'behaviour',\n",
       " 'behind',\n",
       " 'beijing',\n",
       " 'being',\n",
       " 'beirut',\n",
       " 'beleagured',\n",
       " 'belgrade',\n",
       " 'belied',\n",
       " 'believe',\n",
       " 'believed',\n",
       " 'believes',\n",
       " 'believing',\n",
       " 'belloc',\n",
       " 'bellybutton',\n",
       " 'belonging',\n",
       " 'beloved',\n",
       " 'below',\n",
       " 'belsen',\n",
       " 'belts',\n",
       " 'bemoaning',\n",
       " 'bemusement',\n",
       " 'bench',\n",
       " 'beneath',\n",
       " 'benedict',\n",
       " 'benefit',\n",
       " 'benefits',\n",
       " 'benjamin',\n",
       " 'bennett',\n",
       " 'benny',\n",
       " 'bent',\n",
       " 'bereaved',\n",
       " 'bereft',\n",
       " 'berlin',\n",
       " 'bernard',\n",
       " 'bernice',\n",
       " 'bert',\n",
       " 'berthon',\n",
       " 'beside',\n",
       " 'besides',\n",
       " 'besieged',\n",
       " 'best',\n",
       " 'bestiality',\n",
       " 'bestowing',\n",
       " 'bestselling',\n",
       " 'beth',\n",
       " 'betrayal',\n",
       " 'betrayed',\n",
       " 'better',\n",
       " 'betty',\n",
       " 'between',\n",
       " 'bevy',\n",
       " 'bewildered',\n",
       " 'bewilderment',\n",
       " 'bewley',\n",
       " 'beyond',\n",
       " 'bible',\n",
       " 'biblical',\n",
       " 'biddies',\n",
       " 'biddy',\n",
       " 'big',\n",
       " 'bigger',\n",
       " 'biggest',\n",
       " 'bilberrypicker',\n",
       " 'bildt',\n",
       " 'bill',\n",
       " 'billion',\n",
       " 'bills',\n",
       " 'billy',\n",
       " 'binoculars',\n",
       " 'bins',\n",
       " 'bird',\n",
       " 'birdlike',\n",
       " 'birds',\n",
       " 'birdwatcher',\n",
       " 'birth',\n",
       " 'birthday',\n",
       " 'births',\n",
       " 'bishop',\n",
       " 'bistro',\n",
       " 'bit',\n",
       " 'bitten',\n",
       " 'bitter',\n",
       " 'bitterly',\n",
       " 'bitterness',\n",
       " 'bizarre',\n",
       " 'black',\n",
       " 'blackberry',\n",
       " 'blackbird',\n",
       " 'blackburn',\n",
       " 'blackeyes',\n",
       " 'blackhaired',\n",
       " 'blacks',\n",
       " 'blacktie',\n",
       " 'blackwells',\n",
       " 'bladders',\n",
       " 'blade',\n",
       " 'blake',\n",
       " 'blame',\n",
       " 'blamed',\n",
       " 'blanc',\n",
       " 'blanche',\n",
       " 'bland',\n",
       " 'blank',\n",
       " 'blazed',\n",
       " 'blazing',\n",
       " 'bleak',\n",
       " 'bleated',\n",
       " 'bleating',\n",
       " 'bleeding',\n",
       " 'blended',\n",
       " 'blind',\n",
       " 'blindly',\n",
       " 'blinked',\n",
       " 'blinking',\n",
       " 'blocks',\n",
       " 'blood',\n",
       " 'bloodlust',\n",
       " 'bloody',\n",
       " 'blot',\n",
       " 'blow',\n",
       " 'blue',\n",
       " 'bluntly',\n",
       " 'blur',\n",
       " 'blush',\n",
       " 'blushed',\n",
       " 'blustered',\n",
       " 'blyton',\n",
       " 'bmw',\n",
       " 'boal',\n",
       " 'board',\n",
       " 'boarders',\n",
       " 'boat',\n",
       " 'bob',\n",
       " 'boban',\n",
       " 'bobbed',\n",
       " 'bobby',\n",
       " 'bodies',\n",
       " 'bodily',\n",
       " 'bodmin',\n",
       " 'body',\n",
       " 'bohemian',\n",
       " 'boiling',\n",
       " 'bold',\n",
       " 'bolovian',\n",
       " 'bolted',\n",
       " 'bomb',\n",
       " 'bombers',\n",
       " 'bonamy',\n",
       " 'bond',\n",
       " 'bonding',\n",
       " 'bonn',\n",
       " 'book',\n",
       " 'books',\n",
       " 'bookshelves',\n",
       " 'bookshop',\n",
       " 'boom',\n",
       " 'boost',\n",
       " 'booth',\n",
       " 'boots',\n",
       " 'border',\n",
       " 'bored',\n",
       " 'born',\n",
       " 'bosom',\n",
       " 'boss',\n",
       " 'botende',\n",
       " 'both',\n",
       " 'bother',\n",
       " 'boughtandpaidfor',\n",
       " 'bouilland',\n",
       " 'bounced',\n",
       " 'bouncer',\n",
       " 'bound',\n",
       " 'boundary',\n",
       " 'bounds',\n",
       " 'bowed',\n",
       " 'bowel',\n",
       " 'bower',\n",
       " 'bowl',\n",
       " 'bowler',\n",
       " 'box',\n",
       " 'boy',\n",
       " 'boyfriend',\n",
       " 'boyfriends',\n",
       " 'boyne',\n",
       " 'boys',\n",
       " 'bra',\n",
       " 'brabham',\n",
       " 'bracelet',\n",
       " 'brackenbury',\n",
       " 'brady',\n",
       " 'bragg',\n",
       " 'brake',\n",
       " 'branch',\n",
       " 'brand',\n",
       " 'branson',\n",
       " 'brass',\n",
       " 'brave',\n",
       " 'brazil',\n",
       " 'brazilian',\n",
       " 'breach',\n",
       " 'breached',\n",
       " 'break',\n",
       " 'breakdown',\n",
       " 'breakfast',\n",
       " 'breast',\n",
       " 'breath',\n",
       " 'breathed',\n",
       " 'breathing',\n",
       " 'breaths',\n",
       " 'breeches',\n",
       " 'breed',\n",
       " 'brian',\n",
       " 'briant',\n",
       " 'brief',\n",
       " 'briefly',\n",
       " 'bright',\n",
       " 'brightly',\n",
       " 'brightness',\n",
       " 'brighton',\n",
       " 'brilliant',\n",
       " 'brim',\n",
       " 'bring',\n",
       " 'bringing',\n",
       " 'brings',\n",
       " 'britain',\n",
       " 'british',\n",
       " 'britt',\n",
       " 'broadcasting',\n",
       " 'broadly',\n",
       " 'broke',\n",
       " 'broken',\n",
       " 'brokenhearted',\n",
       " 'brother',\n",
       " 'brothers',\n",
       " 'brought',\n",
       " 'brow',\n",
       " 'brown',\n",
       " 'brows',\n",
       " 'bruce',\n",
       " 'bruises',\n",
       " 'brussels',\n",
       " 'bryan',\n",
       " 'bsc',\n",
       " 'bubbled',\n",
       " 'buck',\n",
       " 'bucket',\n",
       " 'buddie',\n",
       " 'budget',\n",
       " 'buenos',\n",
       " 'buf',\n",
       " 'bugger',\n",
       " 'building',\n",
       " 'buildings',\n",
       " 'buildup',\n",
       " 'built',\n",
       " 'bull',\n",
       " 'bulldog',\n",
       " 'bullied',\n",
       " 'bullies',\n",
       " 'bullock',\n",
       " 'bum',\n",
       " 'bump',\n",
       " 'bumpkin',\n",
       " 'bundesbank',\n",
       " 'bundle',\n",
       " 'bunk',\n",
       " 'burden',\n",
       " 'burdens',\n",
       " 'bureaucracy',\n",
       " 'bureaucrat',\n",
       " 'burford',\n",
       " 'burglary',\n",
       " 'burgled',\n",
       " 'buried',\n",
       " 'burning',\n",
       " 'burnings',\n",
       " 'burst',\n",
       " 'burun',\n",
       " 'bus',\n",
       " 'bush',\n",
       " 'business',\n",
       " 'businessman',\n",
       " 'busking',\n",
       " 'bustup',\n",
       " 'busy',\n",
       " 'busyness',\n",
       " 'but',\n",
       " 'butcher',\n",
       " 'butchered',\n",
       " 'butterfly',\n",
       " 'buttons',\n",
       " 'butty',\n",
       " 'buy',\n",
       " 'buying',\n",
       " 'buzz',\n",
       " 'by',\n",
       " 'byng',\n",
       " 'byron',\n",
       " 'ca',\n",
       " 'caan',\n",
       " 'cab',\n",
       " 'cabals',\n",
       " 'cabbie',\n",
       " 'cabinet',\n",
       " 'cables',\n",
       " 'cacaphonous',\n",
       " 'cackled',\n",
       " 'cafe',\n",
       " 'cake',\n",
       " 'calculations',\n",
       " 'call',\n",
       " 'called',\n",
       " ...]"
      ]
     },
     "execution_count": 48,
     "metadata": {},
     "output_type": "execute_result"
    }
   ],
   "source": [
    "# Get Features by Name\n",
    "cv.get_feature_names()"
   ]
  },
  {
   "cell_type": "code",
   "execution_count": 49,
   "metadata": {},
   "outputs": [],
   "source": [
    "X=X.toarray()"
   ]
  },
  {
   "cell_type": "code",
   "execution_count": 50,
   "metadata": {},
   "outputs": [],
   "source": [
    "for train_index, test_index in folds.split(X,ylabels):\n",
    "    X_train,X_test, y_train,y_test = X[train_index],X[test_index],\\\n",
    "                                     ylabels[train_index],ylabels[test_index]"
   ]
  },
  {
   "cell_type": "code",
   "execution_count": 51,
   "metadata": {},
   "outputs": [
    {
     "data": {
      "text/plain": [
       "LogisticRegression()"
      ]
     },
     "execution_count": 51,
     "metadata": {},
     "output_type": "execute_result"
    }
   ],
   "source": [
    "#model = xgb.XGBClassifier()\n",
    "#model = SGDClassifier(loss='modified_huber', random_state=101)\n",
    "model = LogisticRegression()\n",
    "#model = SVC()\n",
    "#, oob_score = True, n_jobs=1, random_state=101, max_features=None, min_samples_leaf=30) RANDOM FOREST\n",
    "#model= RandomForestClassifier(n_estimators=50)\n",
    "\n",
    "#model = DecisionTreeClassifier(max_depth=10, random_state=101, max_features = None, min_samples_leaf = 15)\n",
    "#model = LinearDiscriminantAnalysis()\n",
    "#model = GaussianNB()\n",
    "#model = MultinomialNB()\n",
    "#model = lgb.LGBMClassifier(min_child_weight= 0.1,num_iterations=1000, max_bin = 200,min_split_gain= 0.01,max_depth= 100, num_leaves=110, learning_rate=0.01,verbosity= -1,)\n",
    "model.fit(X_train,y_train)\n"
   ]
  },
  {
   "cell_type": "code",
   "execution_count": 52,
   "metadata": {},
   "outputs": [
    {
     "data": {
      "text/plain": [
       "0.8340248962655602"
      ]
     },
     "execution_count": 52,
     "metadata": {},
     "output_type": "execute_result"
    }
   ],
   "source": [
    "model.score(X_test,y_test)"
   ]
  },
  {
   "cell_type": "code",
   "execution_count": 53,
   "metadata": {},
   "outputs": [],
   "source": [
    "#predictions\n",
    "y_pred_for_model=model.predict(X_test)"
   ]
  },
  {
   "cell_type": "code",
   "execution_count": 54,
   "metadata": {},
   "outputs": [
    {
     "data": {
      "text/plain": [
       "array(['happy', 'happy', 'happy', 'happy', 'happy', 'happy', 'happy',\n",
       "       'happy', 'happy', 'happy', 'happy', 'sad', 'happy', 'happy', 'sad',\n",
       "       'happy', 'happy', 'happy', 'happy', 'happy', 'happy', 'happy',\n",
       "       'happy', 'happy', 'happy', 'sad', 'sad', 'sad', 'sad', 'sad',\n",
       "       'sad', 'sad', 'sad', 'sad', 'sad', 'sad', 'surprise', 'surprise',\n",
       "       'surprise', 'sad', 'sad', 'sad', 'sad', 'fear', 'sad', 'happy',\n",
       "       'anger', 'sad', 'anger', 'anger', 'anger', 'sad', 'anger', 'anger',\n",
       "       'anger', 'anger', 'anger', 'anger', 'anger', 'anger', 'anger',\n",
       "       'anger', 'anger', 'anger', 'anger', 'fear', 'fear', 'fear', 'fear',\n",
       "       'fear', 'fear', 'fear', 'fear', 'fear', 'fear', 'fear', 'fear',\n",
       "       'sad', 'sad', 'sad', 'anger', 'sad', 'happy', 'happy', 'happy',\n",
       "       'happy', 'happy', 'happy', 'sad', 'happy', 'happy', 'happy',\n",
       "       'happy', 'happy', 'happy', 'happy', 'happy', 'happy', 'happy',\n",
       "       'happy', 'happy', 'happy', 'happy', 'happy', 'sad', 'sad', 'sad',\n",
       "       'sad', 'sad', 'sad', 'sad', 'sad', 'sad', 'sad', 'anger', 'sad',\n",
       "       'sad', 'sad', 'sad', 'sad', 'sad', 'sad', 'sad', 'sad', 'sad',\n",
       "       'sad', 'sad', 'sad', 'sad', 'sad', 'sad', 'sad', 'sad', 'sad',\n",
       "       'sad', 'anger', 'sad', 'sad', 'sad', 'sad', 'sad', 'sad', 'sad',\n",
       "       'sad', 'sad', 'sad', 'happy', 'sad', 'sad', 'sad', 'sad',\n",
       "       'surprise', 'surprise', 'surprise', 'surprise', 'surprise',\n",
       "       'surprise', 'surprise', 'anger', 'happy', 'surprise', 'sad', 'sad',\n",
       "       'surprise', 'sad', 'sad', 'sad', 'happy', 'sad', 'fear', 'sad',\n",
       "       'sad', 'anger', 'anger', 'sad', 'anger', 'anger', 'anger', 'anger',\n",
       "       'anger', 'anger', 'anger', 'anger', 'sad', 'anger', 'anger',\n",
       "       'anger', 'anger', 'anger', 'anger', 'anger', 'anger', 'anger',\n",
       "       'sad', 'anger', 'anger', 'anger', 'anger', 'anger', 'anger',\n",
       "       'anger', 'fear', 'fear', 'fear', 'fear', 'fear', 'fear', 'fear',\n",
       "       'fear', 'fear', 'fear', 'fear', 'fear', 'fear', 'fear', 'fear',\n",
       "       'fear', 'fear', 'fear', 'fear', 'fear', 'fear', 'fear', 'fear',\n",
       "       'fear', 'fear', 'fear', 'fear', 'fear', 'fear', 'fear', 'sad',\n",
       "       'sad', 'shame', 'shame', 'shame', 'shame', 'shame', 'anger', 'sad',\n",
       "       'fear'], dtype=object)"
      ]
     },
     "execution_count": 54,
     "metadata": {},
     "output_type": "execute_result"
    }
   ],
   "source": [
    "y_pred_for_model"
   ]
  },
  {
   "cell_type": "code",
   "execution_count": 55,
   "metadata": {},
   "outputs": [],
   "source": [
    "sample_text=['I love machine learning ']"
   ]
  },
  {
   "cell_type": "code",
   "execution_count": 56,
   "metadata": {},
   "outputs": [],
   "source": [
    "vect=cv.transform(sample_text).toarray()"
   ]
  },
  {
   "cell_type": "code",
   "execution_count": 57,
   "metadata": {},
   "outputs": [
    {
     "data": {
      "text/plain": [
       "array(['anger'], dtype=object)"
      ]
     },
     "execution_count": 57,
     "metadata": {},
     "output_type": "execute_result"
    }
   ],
   "source": [
    "model.predict(vect)"
   ]
  },
  {
   "cell_type": "code",
   "execution_count": 58,
   "metadata": {},
   "outputs": [
    {
     "data": {
      "text/plain": [
       "array([[0.26285976, 0.04942843, 0.14875212, 0.16711349, 0.22835861,\n",
       "        0.04866791, 0.09481968]])"
      ]
     },
     "execution_count": 58,
     "metadata": {},
     "output_type": "execute_result"
    }
   ],
   "source": [
    "#prediction probability\n",
    "model.predict_proba(vect)"
   ]
  },
  {
   "cell_type": "code",
   "execution_count": 59,
   "metadata": {},
   "outputs": [
    {
     "data": {
      "text/plain": [
       "array(['anger', 'disgust', 'fear', 'happy', 'sad', 'shame', 'surprise'],\n",
       "      dtype=object)"
      ]
     },
     "execution_count": 59,
     "metadata": {},
     "output_type": "execute_result"
    }
   ],
   "source": [
    "model.classes_"
   ]
  },
  {
   "cell_type": "code",
   "execution_count": 60,
   "metadata": {},
   "outputs": [
    {
     "data": {
      "text/plain": [
       "0.26285975776158693"
      ]
     },
     "execution_count": 60,
     "metadata": {},
     "output_type": "execute_result"
    }
   ],
   "source": [
    "np.max(model.predict_proba(vect))"
   ]
  },
  {
   "cell_type": "code",
   "execution_count": 61,
   "metadata": {},
   "outputs": [],
   "source": [
    "def predict_emotion(sample_text,model):\n",
    "    myvect=cv.transform(sample_text).toarray()\n",
    "    prediction= model.predict(myvect)\n",
    "    pred_proba=model.predict_proba(myvect)\n",
    "    pred_per_for_all= dict(zip(model.classes_,pred_proba[0]))\n",
    "    print(\"predicition:{}, Prediction Score:{}\".format(prediction[0],np.max(pred_proba)))\n",
    "   \n",
    "    return  pred_per_for_all"
   ]
  },
  {
   "cell_type": "code",
   "execution_count": null,
   "metadata": {},
   "outputs": [],
   "source": []
  },
  {
   "cell_type": "code",
   "execution_count": 62,
   "metadata": {},
   "outputs": [
    {
     "name": "stdout",
     "output_type": "stream",
     "text": [
      "predicition:anger, Prediction Score:0.26285975776158693\n"
     ]
    },
    {
     "data": {
      "text/plain": [
       "{'anger': 0.26285975776158693,\n",
       " 'disgust': 0.049428429686820555,\n",
       " 'fear': 0.14875211634561325,\n",
       " 'happy': 0.1671134930080697,\n",
       " 'sad': 0.22835861166764468,\n",
       " 'shame': 0.0486679069656225,\n",
       " 'surprise': 0.09481968456464224}"
      ]
     },
     "execution_count": 62,
     "metadata": {},
     "output_type": "execute_result"
    }
   ],
   "source": [
    "predict_emotion(sample_text,model)"
   ]
  },
  {
   "cell_type": "code",
   "execution_count": 63,
   "metadata": {},
   "outputs": [
    {
     "name": "stdout",
     "output_type": "stream",
     "text": [
      "predicition:anger, Prediction Score:0.256983886906425\n"
     ]
    },
    {
     "data": {
      "text/plain": [
       "{'anger': 0.256983886906425,\n",
       " 'disgust': 0.04666535534895029,\n",
       " 'fear': 0.1540203960202234,\n",
       " 'happy': 0.17909233855012502,\n",
       " 'sad': 0.211307981694765,\n",
       " 'shame': 0.05483103570699325,\n",
       " 'surprise': 0.09709900577251813}"
      ]
     },
     "execution_count": 63,
     "metadata": {},
     "output_type": "execute_result"
    }
   ],
   "source": [
    "predict_emotion([\"I hate Machine learning\"],model)"
   ]
  },
  {
   "cell_type": "code",
   "execution_count": 64,
   "metadata": {},
   "outputs": [
    {
     "name": "stdout",
     "output_type": "stream",
     "text": [
      "predicition:sad, Prediction Score:0.2644286763884168\n"
     ]
    },
    {
     "data": {
      "text/plain": [
       "{'anger': 0.22855862821959486,\n",
       " 'disgust': 0.04824044049288386,\n",
       " 'fear': 0.14252033143010628,\n",
       " 'happy': 0.1822585767118635,\n",
       " 'sad': 0.2644286763884168,\n",
       " 'shame': 0.052609241308902974,\n",
       " 'surprise': 0.08138410544823185}"
      ]
     },
     "execution_count": 64,
     "metadata": {},
     "output_type": "execute_result"
    }
   ],
   "source": [
    "predict_emotion([\"I love playing cricket\"],model)"
   ]
  },
  {
   "cell_type": "code",
   "execution_count": 65,
   "metadata": {},
   "outputs": [
    {
     "name": "stdout",
     "output_type": "stream",
     "text": [
      "predicition:sad, Prediction Score:0.3058161803939364\n"
     ]
    },
    {
     "data": {
      "text/plain": [
       "{'anger': 0.24847826358113173,\n",
       " 'disgust': 0.03551805322333852,\n",
       " 'fear': 0.11161243544460735,\n",
       " 'happy': 0.1742021059382818,\n",
       " 'sad': 0.3058161803939364,\n",
       " 'shame': 0.055557720318176254,\n",
       " 'surprise': 0.06881524110052803}"
      ]
     },
     "execution_count": 65,
     "metadata": {},
     "output_type": "execute_result"
    }
   ],
   "source": [
    "predict_emotion([\"i am afraid he will kill me\"],model)"
   ]
  },
  {
   "cell_type": "code",
   "execution_count": 66,
   "metadata": {},
   "outputs": [
    {
     "name": "stdout",
     "output_type": "stream",
     "text": [
      "              precision    recall  f1-score   support\n",
      "\n",
      "       anger       0.90      0.90      0.90        48\n",
      "     disgust       0.00      0.00      0.00        10\n",
      "        fear       0.93      1.00      0.97        42\n",
      "       happy       0.92      0.94      0.93        47\n",
      "         sad       0.66      0.95      0.78        58\n",
      "       shame       1.00      0.33      0.50        15\n",
      "    surprise       1.00      0.57      0.73        21\n",
      "\n",
      "    accuracy                           0.83       241\n",
      "   macro avg       0.77      0.67      0.69       241\n",
      "weighted avg       0.83      0.83      0.81       241\n",
      "\n"
     ]
    },
    {
     "name": "stderr",
     "output_type": "stream",
     "text": [
      "D:\\Anaconda\\lib\\site-packages\\sklearn\\metrics\\_classification.py:1248: UndefinedMetricWarning: Precision and F-score are ill-defined and being set to 0.0 in labels with no predicted samples. Use `zero_division` parameter to control this behavior.\n",
      "  _warn_prf(average, modifier, msg_start, len(result))\n",
      "D:\\Anaconda\\lib\\site-packages\\sklearn\\metrics\\_classification.py:1248: UndefinedMetricWarning: Precision and F-score are ill-defined and being set to 0.0 in labels with no predicted samples. Use `zero_division` parameter to control this behavior.\n",
      "  _warn_prf(average, modifier, msg_start, len(result))\n",
      "D:\\Anaconda\\lib\\site-packages\\sklearn\\metrics\\_classification.py:1248: UndefinedMetricWarning: Precision and F-score are ill-defined and being set to 0.0 in labels with no predicted samples. Use `zero_division` parameter to control this behavior.\n",
      "  _warn_prf(average, modifier, msg_start, len(result))\n"
     ]
    }
   ],
   "source": [
    "print(classification_report(y_test,y_pred_for_model))"
   ]
  },
  {
   "cell_type": "code",
   "execution_count": 67,
   "metadata": {},
   "outputs": [
    {
     "data": {
      "text/plain": [
       "array([[43,  0,  0,  0,  5,  0,  0],\n",
       "       [ 0,  0,  2,  1,  7,  0,  0],\n",
       "       [ 0,  0, 42,  0,  0,  0,  0],\n",
       "       [ 0,  0,  0, 44,  3,  0,  0],\n",
       "       [ 2,  0,  0,  1, 55,  0,  0],\n",
       "       [ 2,  0,  1,  0,  7,  5,  0],\n",
       "       [ 1,  0,  0,  2,  6,  0, 12]], dtype=int64)"
      ]
     },
     "execution_count": 67,
     "metadata": {},
     "output_type": "execute_result"
    }
   ],
   "source": [
    "confusion_matrix(y_test,y_pred_for_model)"
   ]
  },
  {
   "cell_type": "code",
   "execution_count": 68,
   "metadata": {},
   "outputs": [
    {
     "data": {
      "text/plain": [
       "<sklearn.metrics._plot.confusion_matrix.ConfusionMatrixDisplay at 0x1c974fa2bb0>"
      ]
     },
     "execution_count": 68,
     "metadata": {},
     "output_type": "execute_result"
    },
    {
     "data": {
      "image/png": "[encoded data removed]",
      "text/plain": [
       "<Figure size 432x288 with 2 Axes>"
      ]
     },
     "metadata": {
      "needs_background": "light"
     },
     "output_type": "display_data"
    }
   ],
   "source": [
    "plot_confusion_matrix(model,X_test,y_test)"
   ]
  },
  {
   "cell_type": "code",
   "execution_count": 77,
   "metadata": {},
   "outputs": [
    {
     "data": {
      "text/plain": [
       "0.9915410236350038"
      ]
     },
     "execution_count": 77,
     "metadata": {},
     "output_type": "execute_result"
    }
   ],
   "source": [
    "import sklearn.metrics as metrics\n",
    "from sklearn import metrics\n",
    "from sklearn.metrics import roc_auc_score\n",
    "\n",
    "y_pred = model.predict_proba(X_test)\n",
    "#preds = probs[:,1]\n",
    "\n",
    "roc_auc_score(y_test,y_pred,multi_class=\"ovr\")\n",
    "\n"
   ]
  },
  {
   "cell_type": "code",
   "execution_count": 75,
   "metadata": {},
   "outputs": [],
   "source": [
    "\n",
    "\n",
    "from scipy import interp\n",
    "import matplotlib.pyplot as plt\n",
    "from sklearn.metrics import roc_curve, auc\n",
    "# Learn to predict each class against the other\n",
    "\n",
    "new_label = ['sad','anger','happy','fear','surprise','shame','disgust']\n",
    "final_label = new_label\n",
    "new_class = 7\n",
    "\n",
    "y_pred_ravel = y_pred.ravel()\n",
    "lw = 2"
   ]
  },
  {
   "cell_type": "code",
   "execution_count": 80,
   "metadata": {},
   "outputs": [],
   "source": [
    "fpr = dict()\n",
    "tpr = dict()\n",
    "roc_auc = dict()\n",
    "\n",
    "for i in range(new_class):\n",
    "    fpr[i], tpr[i], _ = roc_curve(y_test[:,i], y_pred[:,i])\n",
    "    roc_auc[i] = auc(fpr[i], tpr[i])\n",
    "    \n",
    "#colors = cycle(['red', 'green','black'])\n",
    "colors = cycle(['red', 'green','black','blue', 'yellow','purple','orange'])\n",
    "for i, color in zip(range(new_class), colors):\n",
    "    plt.plot(fpr[i], tpr[i], color=color, lw=lw,\n",
    "             label='ROC curve of class {0}'''.format(final_label[i]))\n",
    "    \n",
    "\n",
    "plt.plot([0, 1], [0, 1], 'k--', lw=lw)\n",
    "plt.xlim([0, 1.0])\n",
    "plt.ylim([0.0, 1.05])\n",
    "plt.xlabel('False Positive Rate')\n",
    "plt.ylabel('True Positive Rate')\n",
    "plt.title('Receiver Operating Characteristic')\n",
    "plt.legend(loc=\"lower right\")\n",
    "plt.show()\n",
    "\n",
    "\n",
    "\n",
    "\n",
    "\n",
    "\n",
    "\n",
    "\n",
    "\n"
   ]
  },
  {
   "cell_type": "code",
   "execution_count": 81,
   "metadata": {},
   "outputs": [
    {
     "ename": "NameError",
     "evalue": "name 'dt_gini_score' is not defined",
     "output_type": "error",
     "traceback": [
      "\u001b[1;31m---------------------------------------------------------------------------\u001b[0m",
      "\u001b[1;31mNameError\u001b[0m                                 Traceback (most recent call last)",
      "\u001b[1;32m~\\AppData\\Local\\Temp/ipykernel_9664/631378691.py\u001b[0m in \u001b[0;36m<module>\u001b[1;34m\u001b[0m\n\u001b[1;32m----> 1\u001b[1;33m \u001b[0mplot_roc\u001b[0m\u001b[1;33m(\u001b[0m\u001b[0my_test\u001b[0m\u001b[1;33m,\u001b[0m \u001b[0mdt_gini_score\u001b[0m\u001b[1;33m)\u001b[0m\u001b[1;33m\u001b[0m\u001b[1;33m\u001b[0m\u001b[0m\n\u001b[0m",
      "\u001b[1;31mNameError\u001b[0m: name 'dt_gini_score' is not defined"
     ]
    }
   ],
   "source": []
  },
  {
   "cell_type": "code",
   "execution_count": null,
   "metadata": {},
   "outputs": [],
   "source": []
  }
 ],
 "metadata": {
  "kernelspec": {
   "display_name": "Python 3 (ipykernel)",
   "language": "python",
   "name": "python3"
  },
  "language_info": {
   "codemirror_mode": {
    "name": "ipython",
    "version": 3
   },
   "file_extension": ".py",
   "mimetype": "text/x-python",
   "name": "python",
   "nbconvert_exporter": "python",
   "pygments_lexer": "ipython3",
   "version": "3.9.7"
  }
 },
 "nbformat": 4,
 "nbformat_minor": 4
}
