{
 "cells": [
  {
   "cell_type": "code",
   "execution_count": 1,
   "metadata": {},
   "outputs": [],
   "source": [
    "import pandas as pd\n",
    "import numpy as np\n",
    "\n",
    "\n",
    "\n"
   ]
  },
  {
   "cell_type": "code",
   "execution_count": 2,
   "metadata": {},
   "outputs": [],
   "source": [
    "import matplotlib.pyplot as plt \n",
    "import seaborn as sns "
   ]
  },
  {
   "cell_type": "code",
   "execution_count": 3,
   "metadata": {},
   "outputs": [],
   "source": [
    "import neattext.functions as nfx"
   ]
  },
  {
   "cell_type": "code",
   "execution_count": null,
   "metadata": {},
   "outputs": [],
   "source": []
  },
  {
   "cell_type": "code",
   "execution_count": 5,
   "metadata": {},
   "outputs": [],
   "source": [
    "# df_train = pd.read_csv('data_train.csv')\n",
    "#df_test = pd.read_csv('data_test.csv')\n",
    "\n",
    "#X_train = df_train.Text\n",
    "#X_test = df_test.Text\n",
    "\n",
    "#y_train = df_train.Emotion\n",
    "#y_test = df_test.Emotion\n",
    "\n",
    "#class_names = ['joy', 'sadness', 'anger', 'neutral', 'fear']\n",
    "#df = pd.concat([df_train, df_test])\n",
    "\n",
    "#print('size of training set: %s' % (len(df_train['Text'])))\n",
    "#print('size of validation set: %s' % (len(df_test['Text'])))\n",
    "#print(df.Emotion.value_counts())\n",
    "\n",
    "#df.head()\n",
    "#df=pd.read_csv('dataset/tweet_emotions.csv')\n",
    "\n",
    "#df=pd.read_csv('merged.csv')\n",
    "#df=pd.read_csv('isear.csv')\n",
    "#df=pd.read_csv('emotion-stimulus.csv')\n",
    "df=pd.read_csv('dataset/dailydialog.csv')"
   ]
  },
  {
   "cell_type": "code",
   "execution_count": null,
   "metadata": {},
   "outputs": [],
   "source": [
    "\n"
   ]
  },
  {
   "cell_type": "code",
   "execution_count": 6,
   "metadata": {},
   "outputs": [
    {
     "data": {
      "text/html": [
       "<div>\n",
       "<style scoped>\n",
       "    .dataframe tbody tr th:only-of-type {\n",
       "        vertical-align: middle;\n",
       "    }\n",
       "\n",
       "    .dataframe tbody tr th {\n",
       "        vertical-align: top;\n",
       "    }\n",
       "\n",
       "    .dataframe thead th {\n",
       "        text-align: right;\n",
       "    }\n",
       "</style>\n",
       "<table border=\"1\" class=\"dataframe\">\n",
       "  <thead>\n",
       "    <tr style=\"text-align: right;\">\n",
       "      <th></th>\n",
       "      <th>Emotion</th>\n",
       "      <th>Text</th>\n",
       "    </tr>\n",
       "  </thead>\n",
       "  <tbody>\n",
       "    <tr>\n",
       "      <th>0</th>\n",
       "      <td>0</td>\n",
       "      <td>Say , Jim , how about going for a few beers af...</td>\n",
       "    </tr>\n",
       "    <tr>\n",
       "      <th>1</th>\n",
       "      <td>0</td>\n",
       "      <td>You know that is tempting but is really not g...</td>\n",
       "    </tr>\n",
       "    <tr>\n",
       "      <th>2</th>\n",
       "      <td>0</td>\n",
       "      <td>What do you mean ? It will help us to relax .</td>\n",
       "    </tr>\n",
       "    <tr>\n",
       "      <th>3</th>\n",
       "      <td>0</td>\n",
       "      <td>Do you really think so ? I don't . It will ju...</td>\n",
       "    </tr>\n",
       "    <tr>\n",
       "      <th>4</th>\n",
       "      <td>0</td>\n",
       "      <td>I guess you are right.But what shall we do ? ...</td>\n",
       "    </tr>\n",
       "  </tbody>\n",
       "</table>\n",
       "</div>"
      ],
      "text/plain": [
       "   Emotion                                               Text\n",
       "0        0  Say , Jim , how about going for a few beers af...\n",
       "1        0   You know that is tempting but is really not g...\n",
       "2        0     What do you mean ? It will help us to relax . \n",
       "3        0   Do you really think so ? I don't . It will ju...\n",
       "4        0   I guess you are right.But what shall we do ? ..."
      ]
     },
     "execution_count": 6,
     "metadata": {},
     "output_type": "execute_result"
    }
   ],
   "source": [
    "df.head()"
   ]
  },
  {
   "cell_type": "code",
   "execution_count": null,
   "metadata": {},
   "outputs": [],
   "source": []
  },
  {
   "cell_type": "code",
   "execution_count": 7,
   "metadata": {},
   "outputs": [
    {
     "data": {
      "text/plain": [
       "(102979, 2)"
      ]
     },
     "execution_count": 7,
     "metadata": {},
     "output_type": "execute_result"
    }
   ],
   "source": [
    "df.shape"
   ]
  },
  {
   "cell_type": "code",
   "execution_count": 8,
   "metadata": {},
   "outputs": [
    {
     "data": {
      "text/plain": [
       "Emotion     int64\n",
       "Text       object\n",
       "dtype: object"
      ]
     },
     "execution_count": 8,
     "metadata": {},
     "output_type": "execute_result"
    }
   ],
   "source": [
    "df.dtypes"
   ]
  },
  {
   "cell_type": "code",
   "execution_count": 9,
   "metadata": {},
   "outputs": [
    {
     "data": {
      "text/plain": [
       "Emotion    0\n",
       "Text       0\n",
       "dtype: int64"
      ]
     },
     "execution_count": 9,
     "metadata": {},
     "output_type": "execute_result"
    }
   ],
   "source": [
    "df.isnull().sum()"
   ]
  },
  {
   "cell_type": "code",
   "execution_count": null,
   "metadata": {},
   "outputs": [],
   "source": []
  },
  {
   "cell_type": "code",
   "execution_count": 11,
   "metadata": {},
   "outputs": [
    {
     "data": {
      "text/plain": [
       "0    85572\n",
       "4    12885\n",
       "6     1823\n",
       "5     1150\n",
       "1     1022\n",
       "2      353\n",
       "3      174\n",
       "Name: Emotion, dtype: int64"
      ]
     },
     "execution_count": 11,
     "metadata": {},
     "output_type": "execute_result"
    }
   ],
   "source": [
    "#value count of emotions\n",
    "df['Emotion'].value_counts()"
   ]
  },
  {
   "cell_type": "code",
   "execution_count": 12,
   "metadata": {},
   "outputs": [],
   "source": [
    "#plt.figure(figsize=(15,5))\n",
    "#sns.countplot(x='Emotion',data=df)\n",
    "#plt.show"
   ]
  },
  {
   "cell_type": "code",
   "execution_count": null,
   "metadata": {},
   "outputs": [],
   "source": [
    "\n"
   ]
  },
  {
   "cell_type": "code",
   "execution_count": 13,
   "metadata": {},
   "outputs": [],
   "source": [
    "#Sentiment Analysis\n",
    "#from textblob import TextBlob"
   ]
  },
  {
   "cell_type": "code",
   "execution_count": 14,
   "metadata": {},
   "outputs": [],
   "source": [
    "#def get_sentiment(text):\n",
    "  #  blob =TextBlob(text)\n",
    "  #  sentiment= blob.sentiment.polarity\n",
    "  #  if sentiment >0:\n",
    "   #     result='Positive'\n",
    "   # elif sentiment <0:\n",
    "   #     result ='Negative'\n",
    "  #  else:\n",
    "     #   result=\"Neutral\"\n",
    "  #  return result"
   ]
  },
  {
   "cell_type": "code",
   "execution_count": 15,
   "metadata": {},
   "outputs": [],
   "source": [
    "#testing \n",
    "#get_sentiment(\"I love coding\")"
   ]
  },
  {
   "cell_type": "code",
   "execution_count": 16,
   "metadata": {},
   "outputs": [],
   "source": [
    "#df['Sentiment']=df['Text'].apply(get_sentiment)"
   ]
  },
  {
   "cell_type": "code",
   "execution_count": 17,
   "metadata": {},
   "outputs": [],
   "source": [
    "#df.head()"
   ]
  },
  {
   "cell_type": "code",
   "execution_count": 18,
   "metadata": {},
   "outputs": [],
   "source": [
    "#Comparing Emotion and Sentiments\n",
    "#df.groupby(['Emotion','Sentiment']).size()"
   ]
  },
  {
   "cell_type": "code",
   "execution_count": 19,
   "metadata": {},
   "outputs": [],
   "source": [
    "#df.groupby(['Emotion','Sentiment']).size().plot(kind='bar')"
   ]
  },
  {
   "cell_type": "code",
   "execution_count": 20,
   "metadata": {},
   "outputs": [],
   "source": [
    "#sns.catplot(x='Emotion',hue='Sentiment',data=df, kind='count', aspect=1.5)"
   ]
  },
  {
   "cell_type": "code",
   "execution_count": 21,
   "metadata": {},
   "outputs": [],
   "source": [
    "#Text Cleaning\n"
   ]
  },
  {
   "cell_type": "code",
   "execution_count": 22,
   "metadata": {},
   "outputs": [
    {
     "data": {
      "text/plain": [
       "['BTC_ADDRESS_REGEX',\n",
       " 'CURRENCY_REGEX',\n",
       " 'CURRENCY_SYMB_REGEX',\n",
       " 'Counter',\n",
       " 'DATE_REGEX',\n",
       " 'EMAIL_REGEX',\n",
       " 'EMOJI_REGEX',\n",
       " 'HASTAG_REGEX',\n",
       " 'MASTERCard_REGEX',\n",
       " 'MD5_SHA_REGEX',\n",
       " 'MOST_COMMON_PUNCT_REGEX',\n",
       " 'NUMBERS_REGEX',\n",
       " 'PHONE_REGEX',\n",
       " 'PoBOX_REGEX',\n",
       " 'SPECIAL_CHARACTERS_REGEX',\n",
       " 'STOPWORDS',\n",
       " 'STOPWORDS_de',\n",
       " 'STOPWORDS_en',\n",
       " 'STOPWORDS_es',\n",
       " 'STOPWORDS_fr',\n",
       " 'STOPWORDS_ru',\n",
       " 'STOPWORDS_yo',\n",
       " 'STREET_ADDRESS_REGEX',\n",
       " 'TextFrame',\n",
       " 'URL_PATTERN',\n",
       " 'USER_HANDLES_REGEX',\n",
       " 'VISACard_REGEX',\n",
       " '__builtins__',\n",
       " '__cached__',\n",
       " '__doc__',\n",
       " '__file__',\n",
       " '__generate_text',\n",
       " '__loader__',\n",
       " '__name__',\n",
       " '__numbers_dict',\n",
       " '__package__',\n",
       " '__spec__',\n",
       " '_lex_richness_herdan',\n",
       " '_lex_richness_maas_ttr',\n",
       " 'clean_text',\n",
       " 'defaultdict',\n",
       " 'digit2words',\n",
       " 'extract_btc_address',\n",
       " 'extract_currencies',\n",
       " 'extract_currency_symbols',\n",
       " 'extract_dates',\n",
       " 'extract_emails',\n",
       " 'extract_emojis',\n",
       " 'extract_hashtags',\n",
       " 'extract_html_tags',\n",
       " 'extract_mastercard_addr',\n",
       " 'extract_md5sha',\n",
       " 'extract_numbers',\n",
       " 'extract_pattern',\n",
       " 'extract_phone_numbers',\n",
       " 'extract_postoffice_box',\n",
       " 'extract_shortwords',\n",
       " 'extract_special_characters',\n",
       " 'extract_stopwords',\n",
       " 'extract_street_address',\n",
       " 'extract_terms_in_bracket',\n",
       " 'extract_urls',\n",
       " 'extract_userhandles',\n",
       " 'extract_visacard_addr',\n",
       " 'fix_contractions',\n",
       " 'generate_sentence',\n",
       " 'hamming_distance',\n",
       " 'inverse_df',\n",
       " 'lexical_richness',\n",
       " 'markov_chain',\n",
       " 'math',\n",
       " 'nlargest',\n",
       " 'normalize',\n",
       " 'num2words',\n",
       " 'random',\n",
       " 're',\n",
       " 'read_txt',\n",
       " 'remove_bad_quotes',\n",
       " 'remove_btc_address',\n",
       " 'remove_currencies',\n",
       " 'remove_currency_symbols',\n",
       " 'remove_custom_pattern',\n",
       " 'remove_custom_words',\n",
       " 'remove_dates',\n",
       " 'remove_emails',\n",
       " 'remove_emojis',\n",
       " 'remove_hashtags',\n",
       " 'remove_html_tags',\n",
       " 'remove_mastercard_addr',\n",
       " 'remove_md5sha',\n",
       " 'remove_multiple_spaces',\n",
       " 'remove_non_ascii',\n",
       " 'remove_numbers',\n",
       " 'remove_phone_numbers',\n",
       " 'remove_postoffice_box',\n",
       " 'remove_puncts',\n",
       " 'remove_punctuations',\n",
       " 'remove_shortwords',\n",
       " 'remove_special_characters',\n",
       " 'remove_stopwords',\n",
       " 'remove_street_address',\n",
       " 'remove_terms_in_bracket',\n",
       " 'remove_urls',\n",
       " 'remove_userhandles',\n",
       " 'remove_visacard_addr',\n",
       " 'replace_bad_quotes',\n",
       " 'replace_currencies',\n",
       " 'replace_currency_symbols',\n",
       " 'replace_dates',\n",
       " 'replace_emails',\n",
       " 'replace_emojis',\n",
       " 'replace_numbers',\n",
       " 'replace_phone_numbers',\n",
       " 'replace_special_characters',\n",
       " 'replace_term',\n",
       " 'replace_urls',\n",
       " 'string',\n",
       " 'term_freq',\n",
       " 'to_txt',\n",
       " 'word_freq',\n",
       " 'word_length_freq']"
      ]
     },
     "execution_count": 22,
     "metadata": {},
     "output_type": "execute_result"
    }
   ],
   "source": [
    "dir(nfx)"
   ]
  },
  {
   "cell_type": "code",
   "execution_count": 26,
   "metadata": {},
   "outputs": [],
   "source": [
    "df['Clean_Text']=df['Text'].apply(nfx.remove_special_characters)"
   ]
  },
  {
   "cell_type": "code",
   "execution_count": 27,
   "metadata": {},
   "outputs": [],
   "source": [
    "#df['Clean_Text']=df['content'].apply(nfx.remove_punctuations)"
   ]
  },
  {
   "cell_type": "code",
   "execution_count": 29,
   "metadata": {},
   "outputs": [
    {
     "data": {
      "text/html": [
       "<div>\n",
       "<style scoped>\n",
       "    .dataframe tbody tr th:only-of-type {\n",
       "        vertical-align: middle;\n",
       "    }\n",
       "\n",
       "    .dataframe tbody tr th {\n",
       "        vertical-align: top;\n",
       "    }\n",
       "\n",
       "    .dataframe thead th {\n",
       "        text-align: right;\n",
       "    }\n",
       "</style>\n",
       "<table border=\"1\" class=\"dataframe\">\n",
       "  <thead>\n",
       "    <tr style=\"text-align: right;\">\n",
       "      <th></th>\n",
       "      <th>Text</th>\n",
       "      <th>Clean_Text</th>\n",
       "    </tr>\n",
       "  </thead>\n",
       "  <tbody>\n",
       "    <tr>\n",
       "      <th>0</th>\n",
       "      <td>Say , Jim , how about going for a few beers af...</td>\n",
       "      <td>Say  Jim  how about going for a few beers afte...</td>\n",
       "    </tr>\n",
       "    <tr>\n",
       "      <th>1</th>\n",
       "      <td>You know that is tempting but is really not g...</td>\n",
       "      <td>You know that is tempting but is really not g...</td>\n",
       "    </tr>\n",
       "    <tr>\n",
       "      <th>2</th>\n",
       "      <td>What do you mean ? It will help us to relax .</td>\n",
       "      <td>What do you mean  It will help us to relax</td>\n",
       "    </tr>\n",
       "    <tr>\n",
       "      <th>3</th>\n",
       "      <td>Do you really think so ? I don't . It will ju...</td>\n",
       "      <td>Do you really think so  I dont  It will just ...</td>\n",
       "    </tr>\n",
       "    <tr>\n",
       "      <th>4</th>\n",
       "      <td>I guess you are right.But what shall we do ? ...</td>\n",
       "      <td>I guess you are rightBut what shall we do  I ...</td>\n",
       "    </tr>\n",
       "    <tr>\n",
       "      <th>...</th>\n",
       "      <td>...</td>\n",
       "      <td>...</td>\n",
       "    </tr>\n",
       "    <tr>\n",
       "      <th>102974</th>\n",
       "      <td>Oh , it must be very precious . Is it breakab...</td>\n",
       "      <td>Oh  it must be very precious  Is it breakable</td>\n",
       "    </tr>\n",
       "    <tr>\n",
       "      <th>102975</th>\n",
       "      <td>No , if you take some care when you use them .</td>\n",
       "      <td>No  if you take some care when you use them</td>\n",
       "    </tr>\n",
       "    <tr>\n",
       "      <th>102976</th>\n",
       "      <td>How much is it ?</td>\n",
       "      <td>How much is it</td>\n",
       "    </tr>\n",
       "    <tr>\n",
       "      <th>102977</th>\n",
       "      <td>Two thousand .</td>\n",
       "      <td>Two thousand</td>\n",
       "    </tr>\n",
       "    <tr>\n",
       "      <th>102978</th>\n",
       "      <td>Oh , it is beyond my purse .</td>\n",
       "      <td>Oh  it is beyond my purse</td>\n",
       "    </tr>\n",
       "  </tbody>\n",
       "</table>\n",
       "<p>102979 rows × 2 columns</p>\n",
       "</div>"
      ],
      "text/plain": [
       "                                                     Text  \\\n",
       "0       Say , Jim , how about going for a few beers af...   \n",
       "1        You know that is tempting but is really not g...   \n",
       "2          What do you mean ? It will help us to relax .    \n",
       "3        Do you really think so ? I don't . It will ju...   \n",
       "4        I guess you are right.But what shall we do ? ...   \n",
       "...                                                   ...   \n",
       "102974   Oh , it must be very precious . Is it breakab...   \n",
       "102975    No , if you take some care when you use them .    \n",
       "102976                                  How much is it ?    \n",
       "102977                                    Two thousand .    \n",
       "102978                      Oh , it is beyond my purse .    \n",
       "\n",
       "                                               Clean_Text  \n",
       "0       Say  Jim  how about going for a few beers afte...  \n",
       "1        You know that is tempting but is really not g...  \n",
       "2            What do you mean  It will help us to relax    \n",
       "3        Do you really think so  I dont  It will just ...  \n",
       "4        I guess you are rightBut what shall we do  I ...  \n",
       "...                                                   ...  \n",
       "102974    Oh  it must be very precious  Is it breakable    \n",
       "102975      No  if you take some care when you use them    \n",
       "102976                                   How much is it    \n",
       "102977                                     Two thousand    \n",
       "102978                        Oh  it is beyond my purse    \n",
       "\n",
       "[102979 rows x 2 columns]"
      ]
     },
     "execution_count": 29,
     "metadata": {},
     "output_type": "execute_result"
    }
   ],
   "source": [
    "df[['Text','Clean_Text']]"
   ]
  },
  {
   "cell_type": "code",
   "execution_count": 30,
   "metadata": {},
   "outputs": [
    {
     "data": {
      "text/plain": [
       "0         Say  Jim  how about going for a few beers afte...\n",
       "1          You know that is tempting but is really not g...\n",
       "2              What do you mean  It will help us to relax  \n",
       "3          Do you really think so  I dont  It will just ...\n",
       "4          I guess you are rightBut what shall we do  I ...\n",
       "                                ...                        \n",
       "102974      Oh  it must be very precious  Is it breakable  \n",
       "102975        No  if you take some care when you use them  \n",
       "102976                                     How much is it  \n",
       "102977                                       Two thousand  \n",
       "102978                          Oh  it is beyond my purse  \n",
       "Name: Clean_Text, Length: 102979, dtype: object"
      ]
     },
     "execution_count": 30,
     "metadata": {},
     "output_type": "execute_result"
    }
   ],
   "source": [
    "df['Clean_Text']"
   ]
  },
  {
   "cell_type": "code",
   "execution_count": null,
   "metadata": {},
   "outputs": [],
   "source": []
  },
  {
   "cell_type": "code",
   "execution_count": 31,
   "metadata": {},
   "outputs": [],
   "source": [
    "# KEyword Extraction\n"
   ]
  },
  {
   "cell_type": "code",
   "execution_count": 32,
   "metadata": {},
   "outputs": [],
   "source": [
    "#from collections import Counter"
   ]
  },
  {
   "cell_type": "code",
   "execution_count": null,
   "metadata": {},
   "outputs": [],
   "source": []
  },
  {
   "cell_type": "code",
   "execution_count": 33,
   "metadata": {},
   "outputs": [],
   "source": [
    "#def extract_keywords(text,num=50):\n",
    "  #  tokens=[tok for tok in text.split()]\n",
    "   # most_common_tokens =Counter(tokens).most_common(num)\n",
    "   # return dict(most_common_tokens)"
   ]
  },
  {
   "cell_type": "code",
   "execution_count": null,
   "metadata": {},
   "outputs": [],
   "source": []
  },
  {
   "cell_type": "code",
   "execution_count": 34,
   "metadata": {},
   "outputs": [],
   "source": [
    "#list of emotions\n",
    "#emotion_list =df['Emotion'].unique().tolist()"
   ]
  },
  {
   "cell_type": "code",
   "execution_count": 35,
   "metadata": {},
   "outputs": [],
   "source": [
    "#emotion_list"
   ]
  },
  {
   "cell_type": "code",
   "execution_count": 36,
   "metadata": {},
   "outputs": [],
   "source": [
    "#joy_list=df[df['Emotion']=='joy']['Clean_Text'].tolist()"
   ]
  },
  {
   "cell_type": "code",
   "execution_count": null,
   "metadata": {},
   "outputs": [],
   "source": []
  },
  {
   "cell_type": "code",
   "execution_count": 37,
   "metadata": {},
   "outputs": [],
   "source": [
    "#joy_docx=''.join(joy_list)"
   ]
  },
  {
   "cell_type": "code",
   "execution_count": 38,
   "metadata": {},
   "outputs": [],
   "source": [
    "#joy_docx"
   ]
  },
  {
   "cell_type": "code",
   "execution_count": 39,
   "metadata": {},
   "outputs": [],
   "source": [
    "#keyword_joy=extract_keywords(joy_docx)"
   ]
  },
  {
   "cell_type": "code",
   "execution_count": 40,
   "metadata": {},
   "outputs": [],
   "source": [
    "#keyword_joy"
   ]
  },
  {
   "cell_type": "code",
   "execution_count": 41,
   "metadata": {},
   "outputs": [],
   "source": [
    "#def plot_most_common_words(mydict,emotion_name):\n",
    "  #  df_01 = pd.DataFrame(mydict.items(),columns=['token','count'])\n",
    "  #  plt.figure(figsize=(20,10))\n",
    "   # plt.title(\"Plot of {} Most Common Keywords\".format(emotion_name))\n",
    "  #  sns.barplot(x='token',y='count',data=df_01)\n",
    "  #  plt.xticks(rotation=45)\n",
    "    #plt.show()"
   ]
  },
  {
   "cell_type": "code",
   "execution_count": 42,
   "metadata": {},
   "outputs": [],
   "source": [
    "#plot_most_common_words(keyword_joy,\"joy\")"
   ]
  },
  {
   "cell_type": "code",
   "execution_count": 43,
   "metadata": {},
   "outputs": [],
   "source": [
    "##for sadness"
   ]
  },
  {
   "cell_type": "code",
   "execution_count": 44,
   "metadata": {},
   "outputs": [],
   "source": [
    "#sadness_list=df[df['Emotion']=='sadness']['Clean_Text'].tolist()\n",
    "#documnet creation\n",
    "#sadness_docx=''.join(joy_list)\n",
    "#keyeord extravtion\n",
    "#keyword_sadness=extract_keywords(sadness_docx)"
   ]
  },
  {
   "cell_type": "code",
   "execution_count": 45,
   "metadata": {},
   "outputs": [],
   "source": [
    "#plot_most_common_words(keyword_sadness,\"sadness\")"
   ]
  },
  {
   "cell_type": "code",
   "execution_count": 46,
   "metadata": {},
   "outputs": [],
   "source": [
    "#Machine Learning\n"
   ]
  },
  {
   "cell_type": "code",
   "execution_count": 47,
   "metadata": {},
   "outputs": [],
   "source": [
    "from sklearn.neighbors import KNeighborsClassifier\n",
    "from sklearn.ensemble import RandomForestClassifier\n",
    "from sklearn.svm import SVC\n",
    "from sklearn import svm\n",
    "#import lightgbm as lgb\n",
    "from sklearn.metrics import classification_report,confusion_matrix,plot_confusion_matrix,accuracy_score,matthews_corrcoef,f1_score,precision_score, recall_score\n",
    "from sklearn.tree import DecisionTreeClassifier\n",
    "from sklearn.discriminant_analysis import LinearDiscriminantAnalysis\n",
    "from sklearn.neighbors import KNeighborsClassifier\n",
    "from sklearn.naive_bayes import GaussianNB\n",
    "from sklearn.linear_model import LogisticRegression, SGDClassifier\n",
    "\n",
    "import seaborn as sns\n",
    "from sklearn.ensemble import RandomForestClassifier\n",
    "from sklearn.preprocessing import StandardScaler\n",
    "from sklearn.preprocessing import LabelEncoder\n",
    "#import xgboost as xgb\n",
    "#Vectorizer\n",
    "from sklearn.feature_extraction.text import CountVectorizer,TfidfVectorizer\n",
    "from sklearn.naive_bayes import MultinomialNB"
   ]
  },
  {
   "cell_type": "code",
   "execution_count": 48,
   "metadata": {},
   "outputs": [],
   "source": [
    " from sklearn.model_selection import StratifiedKFold\n",
    "folds= StratifiedKFold(n_splits=10,shuffle=True,random_state=42)"
   ]
  },
  {
   "cell_type": "code",
   "execution_count": 49,
   "metadata": {},
   "outputs": [],
   "source": [
    "#from sklearn.model_selection import train_test_split"
   ]
  },
  {
   "cell_type": "code",
   "execution_count": 47,
   "metadata": {},
   "outputs": [],
   "source": [
    "## Features Building"
   ]
  },
  {
   "cell_type": "code",
   "execution_count": 50,
   "metadata": {},
   "outputs": [],
   "source": [
    "Xfeatures=df['Clean_Text']\n",
    "ylabels=df['Emotion']"
   ]
  },
  {
   "cell_type": "code",
   "execution_count": 51,
   "metadata": {},
   "outputs": [
    {
     "data": {
      "text/plain": [
       "0         Say  Jim  how about going for a few beers afte...\n",
       "1          You know that is tempting but is really not g...\n",
       "2              What do you mean  It will help us to relax  \n",
       "3          Do you really think so  I dont  It will just ...\n",
       "4          I guess you are rightBut what shall we do  I ...\n",
       "                                ...                        \n",
       "102974      Oh  it must be very precious  Is it breakable  \n",
       "102975        No  if you take some care when you use them  \n",
       "102976                                     How much is it  \n",
       "102977                                       Two thousand  \n",
       "102978                          Oh  it is beyond my purse  \n",
       "Name: Clean_Text, Length: 102979, dtype: object"
      ]
     },
     "execution_count": 51,
     "metadata": {},
     "output_type": "execute_result"
    }
   ],
   "source": [
    "Xfeatures"
   ]
  },
  {
   "cell_type": "code",
   "execution_count": 52,
   "metadata": {},
   "outputs": [],
   "source": [
    "#Vectorizer\n",
    "#cv=CountVectorizer()\n",
    "cv=TfidfVectorizer()\n",
    "X=cv.fit_transform(Xfeatures)"
   ]
  },
  {
   "cell_type": "code",
   "execution_count": 53,
   "metadata": {
    "scrolled": true
   },
   "outputs": [
    {
     "data": {
      "text/plain": [
       "['00',\n",
       " '000',\n",
       " '007',\n",
       " '0085',\n",
       " '01',\n",
       " '010',\n",
       " '01088256798',\n",
       " '011',\n",
       " '0112',\n",
       " '013',\n",
       " '01563',\n",
       " '01705',\n",
       " '02',\n",
       " '0411',\n",
       " '042',\n",
       " '05',\n",
       " '0508',\n",
       " '050920',\n",
       " '059',\n",
       " '06230221',\n",
       " '07',\n",
       " '075',\n",
       " '08',\n",
       " '082',\n",
       " '09112223',\n",
       " '0h',\n",
       " '0k',\n",
       " '0kay',\n",
       " '0ksee',\n",
       " '0n',\n",
       " '10',\n",
       " '100',\n",
       " '1000',\n",
       " '10000',\n",
       " '100000',\n",
       " '1005',\n",
       " '100715',\n",
       " '1008',\n",
       " '10086',\n",
       " '100m',\n",
       " '100ml',\n",
       " '100rmb',\n",
       " '100th',\n",
       " '101',\n",
       " '1010',\n",
       " '1012',\n",
       " '1015',\n",
       " '1019',\n",
       " '10198',\n",
       " '102',\n",
       " '1020',\n",
       " '1021',\n",
       " '1021it',\n",
       " '1025',\n",
       " '103',\n",
       " '1030',\n",
       " '1032',\n",
       " '104',\n",
       " '1045',\n",
       " '10499',\n",
       " '105',\n",
       " '1050',\n",
       " '1050ft',\n",
       " '1053',\n",
       " '106',\n",
       " '108',\n",
       " '1088',\n",
       " '109',\n",
       " '1099',\n",
       " '10am',\n",
       " '10kg',\n",
       " '10s',\n",
       " '10stay',\n",
       " '10th',\n",
       " '11',\n",
       " '110',\n",
       " '1100',\n",
       " '11000',\n",
       " '110000',\n",
       " '1106',\n",
       " '1109',\n",
       " '110cm',\n",
       " '1115',\n",
       " '112',\n",
       " '1127',\n",
       " '113',\n",
       " '1130',\n",
       " '1135',\n",
       " '1145',\n",
       " '115',\n",
       " '1150',\n",
       " '1155',\n",
       " '117',\n",
       " '1177',\n",
       " '1199866',\n",
       " '1199886',\n",
       " '11am',\n",
       " '11th',\n",
       " '12',\n",
       " '120',\n",
       " '1200',\n",
       " '12000',\n",
       " '120000',\n",
       " '1201',\n",
       " '1202',\n",
       " '120376',\n",
       " '1205',\n",
       " '1205our',\n",
       " '120cm',\n",
       " '120mm',\n",
       " '120the',\n",
       " '1210',\n",
       " '1212',\n",
       " '1215',\n",
       " '1218',\n",
       " '1220',\n",
       " '123',\n",
       " '1230',\n",
       " '12300',\n",
       " '1234',\n",
       " '124',\n",
       " '1245',\n",
       " '125',\n",
       " '1250',\n",
       " '1267',\n",
       " '12704',\n",
       " '129',\n",
       " '12c',\n",
       " '12how',\n",
       " '12th',\n",
       " '13',\n",
       " '130',\n",
       " '1300',\n",
       " '13000',\n",
       " '1305',\n",
       " '1308',\n",
       " '1314',\n",
       " '1315',\n",
       " '132',\n",
       " '1325',\n",
       " '1336',\n",
       " '134986',\n",
       " '135',\n",
       " '1350',\n",
       " '13661306917',\n",
       " '137',\n",
       " '138',\n",
       " '13811658',\n",
       " '1388',\n",
       " '139',\n",
       " '13924774026',\n",
       " '1394',\n",
       " '139xxxxx345',\n",
       " '13th',\n",
       " '14',\n",
       " '140',\n",
       " '1400',\n",
       " '1400rmb',\n",
       " '1405',\n",
       " '1405the',\n",
       " '1408',\n",
       " '1415',\n",
       " '1419',\n",
       " '1425',\n",
       " '1425we',\n",
       " '1433',\n",
       " '1446',\n",
       " '145',\n",
       " '14500',\n",
       " '1492',\n",
       " '14th',\n",
       " '15',\n",
       " '150',\n",
       " '1500',\n",
       " '15000',\n",
       " '150000',\n",
       " '15066688866',\n",
       " '150keep',\n",
       " '151',\n",
       " '1510',\n",
       " '1516',\n",
       " '15273478841',\n",
       " '1532',\n",
       " '1552',\n",
       " '1564',\n",
       " '15699324873',\n",
       " '158',\n",
       " '1588',\n",
       " '15880',\n",
       " '158cm',\n",
       " '15and',\n",
       " '15mins',\n",
       " '15minutes',\n",
       " '15th',\n",
       " '16',\n",
       " '160',\n",
       " '1600',\n",
       " '16000',\n",
       " '160000',\n",
       " '161',\n",
       " '1611',\n",
       " '1615',\n",
       " '1616',\n",
       " '162',\n",
       " '162009',\n",
       " '16211469',\n",
       " '1635',\n",
       " '1639',\n",
       " '164',\n",
       " '1644',\n",
       " '1645',\n",
       " '165',\n",
       " '1650',\n",
       " '166',\n",
       " '167',\n",
       " '168',\n",
       " '16th',\n",
       " '17',\n",
       " '1700',\n",
       " '17000',\n",
       " '1705',\n",
       " '1710',\n",
       " '1730',\n",
       " '175',\n",
       " '175000',\n",
       " '176',\n",
       " '1780',\n",
       " '17th',\n",
       " '18',\n",
       " '180',\n",
       " '1800',\n",
       " '18000',\n",
       " '1805',\n",
       " '1808',\n",
       " '180c',\n",
       " '1818',\n",
       " '1825',\n",
       " '1830',\n",
       " '184796',\n",
       " '185',\n",
       " '18500',\n",
       " '1855',\n",
       " '1856',\n",
       " '1862',\n",
       " '1867',\n",
       " '1879',\n",
       " '1886',\n",
       " '1889',\n",
       " '189',\n",
       " '1890',\n",
       " '1892',\n",
       " '1893',\n",
       " '18cm',\n",
       " '18k',\n",
       " '18th',\n",
       " '19',\n",
       " '190',\n",
       " '1900',\n",
       " '1910',\n",
       " '1911',\n",
       " '1916',\n",
       " '1917',\n",
       " '1920',\n",
       " '1920s',\n",
       " '1930',\n",
       " '1932people',\n",
       " '1940',\n",
       " '1944',\n",
       " '1949',\n",
       " '19500',\n",
       " '1955',\n",
       " '1960',\n",
       " '1963',\n",
       " '1965',\n",
       " '1969',\n",
       " '1970',\n",
       " '1976',\n",
       " '1977',\n",
       " '1978',\n",
       " '198',\n",
       " '1980',\n",
       " '1980s',\n",
       " '1984',\n",
       " '1985',\n",
       " '1986',\n",
       " '1987',\n",
       " '1988',\n",
       " '1989',\n",
       " '199',\n",
       " '19900',\n",
       " '1991',\n",
       " '1992',\n",
       " '1993',\n",
       " '1994',\n",
       " '1995',\n",
       " '1996',\n",
       " '1997',\n",
       " '1998',\n",
       " '1999',\n",
       " '19th',\n",
       " '1e',\n",
       " '1poj7403',\n",
       " '1st',\n",
       " '1stwhen',\n",
       " '1y',\n",
       " '20',\n",
       " '200',\n",
       " '2000',\n",
       " '20000',\n",
       " '200000',\n",
       " '200085',\n",
       " '2001',\n",
       " '2002',\n",
       " '2003',\n",
       " '2004',\n",
       " '2005',\n",
       " '2006',\n",
       " '2007',\n",
       " '2008',\n",
       " '2009',\n",
       " '200yuan',\n",
       " '201',\n",
       " '2010',\n",
       " '2012',\n",
       " '2015',\n",
       " '202',\n",
       " '2020',\n",
       " '2022',\n",
       " '203',\n",
       " '2030',\n",
       " '20310',\n",
       " '20350',\n",
       " '204',\n",
       " '205',\n",
       " '2065',\n",
       " '207',\n",
       " '208',\n",
       " '209',\n",
       " '20am',\n",
       " '20kgyours',\n",
       " '20s',\n",
       " '20seasier',\n",
       " '20th',\n",
       " '20tha',\n",
       " '20thand',\n",
       " '20x',\n",
       " '21',\n",
       " '210',\n",
       " '2100',\n",
       " '2101',\n",
       " '212',\n",
       " '2123317600',\n",
       " '2123456',\n",
       " '21290',\n",
       " '213',\n",
       " '21353668',\n",
       " '2135367',\n",
       " '21353678',\n",
       " '215',\n",
       " '2150',\n",
       " '215000',\n",
       " '216',\n",
       " '218',\n",
       " '21st',\n",
       " '21stis',\n",
       " '22',\n",
       " '2200',\n",
       " '22000',\n",
       " '220150',\n",
       " '221',\n",
       " '222',\n",
       " '2244',\n",
       " '225',\n",
       " '2250',\n",
       " '226',\n",
       " '22nd',\n",
       " '23',\n",
       " '230',\n",
       " '2300',\n",
       " '231',\n",
       " '232002',\n",
       " '2322453',\n",
       " '2322456',\n",
       " '2323',\n",
       " '23317600',\n",
       " '2333318828',\n",
       " '235',\n",
       " '23513',\n",
       " '2356',\n",
       " '236',\n",
       " '2365',\n",
       " '23679960',\n",
       " '2368',\n",
       " '238',\n",
       " '23is',\n",
       " '23rd',\n",
       " '23rdmy',\n",
       " '23th',\n",
       " '24',\n",
       " '240',\n",
       " '2400',\n",
       " '24000',\n",
       " '24060',\n",
       " '241',\n",
       " '242',\n",
       " '245',\n",
       " '2450',\n",
       " '247',\n",
       " '2477',\n",
       " '248',\n",
       " '249',\n",
       " '24it',\n",
       " '24th',\n",
       " '25',\n",
       " '250',\n",
       " '2500',\n",
       " '25000',\n",
       " '250000',\n",
       " '250nt',\n",
       " '2517758',\n",
       " '2517759',\n",
       " '256',\n",
       " '2564367',\n",
       " '2567797',\n",
       " '256mb',\n",
       " '257',\n",
       " '25rmb',\n",
       " '25th',\n",
       " '26',\n",
       " '260',\n",
       " '261',\n",
       " '264',\n",
       " '2650',\n",
       " '267',\n",
       " '268',\n",
       " '2699',\n",
       " '26th',\n",
       " '27',\n",
       " '2700',\n",
       " '275',\n",
       " '278',\n",
       " '2781703',\n",
       " '278bus',\n",
       " '27th',\n",
       " '28',\n",
       " '280',\n",
       " '2800',\n",
       " '282',\n",
       " '287',\n",
       " '2876543',\n",
       " '2891234',\n",
       " '2896919',\n",
       " '28mm',\n",
       " '28th',\n",
       " '28tri',\n",
       " '29',\n",
       " '29745328',\n",
       " '298000',\n",
       " '2995',\n",
       " '2999',\n",
       " '29c',\n",
       " '29j',\n",
       " '29k',\n",
       " '29th',\n",
       " '2a',\n",
       " '2kg',\n",
       " '2nd',\n",
       " '2pm',\n",
       " '30',\n",
       " '300',\n",
       " '3000',\n",
       " '30000',\n",
       " '300000',\n",
       " '300m',\n",
       " '301',\n",
       " '301982',\n",
       " '302',\n",
       " '304',\n",
       " '305',\n",
       " '306',\n",
       " '3075',\n",
       " '308',\n",
       " '309',\n",
       " '30am',\n",
       " '30b',\n",
       " '30nt',\n",
       " '30pm',\n",
       " '30th',\n",
       " '31',\n",
       " '310',\n",
       " '3106',\n",
       " '312',\n",
       " '313',\n",
       " '314',\n",
       " '315',\n",
       " '31st',\n",
       " '32',\n",
       " '320',\n",
       " '3200',\n",
       " '320214',\n",
       " '320m',\n",
       " '3219887',\n",
       " '3219987',\n",
       " '3220',\n",
       " '323',\n",
       " '3235556840',\n",
       " '3242',\n",
       " '32425827',\n",
       " '325',\n",
       " '3250',\n",
       " '328',\n",
       " '33',\n",
       " '330',\n",
       " '3300',\n",
       " '330nt',\n",
       " '33234',\n",
       " '332440',\n",
       " '3362',\n",
       " '3367',\n",
       " '3372',\n",
       " '34',\n",
       " '34000',\n",
       " '34482691',\n",
       " '345',\n",
       " '3452',\n",
       " '346',\n",
       " '34995',\n",
       " '35',\n",
       " '350',\n",
       " '3500',\n",
       " '35000',\n",
       " '350000',\n",
       " '350400',\n",
       " '35351818',\n",
       " '3550',\n",
       " '3562210',\n",
       " '357',\n",
       " '358',\n",
       " '35mm',\n",
       " '35nt',\n",
       " '36',\n",
       " '360',\n",
       " '3600',\n",
       " '36000',\n",
       " '367',\n",
       " '3678',\n",
       " '36this',\n",
       " '37',\n",
       " '3725015281',\n",
       " '3725019281',\n",
       " '373',\n",
       " '374',\n",
       " '379you',\n",
       " '38',\n",
       " '380',\n",
       " '3800',\n",
       " '38000yuan',\n",
       " '3811658',\n",
       " '385',\n",
       " '3854295',\n",
       " '387',\n",
       " '38th',\n",
       " '39',\n",
       " '392',\n",
       " '3999',\n",
       " '3ation',\n",
       " '3b',\n",
       " '3d',\n",
       " '3g',\n",
       " '3land',\n",
       " '3m',\n",
       " '3p',\n",
       " '3pm',\n",
       " '3rd',\n",
       " '3s',\n",
       " '40',\n",
       " '400',\n",
       " '4000',\n",
       " '40000',\n",
       " '400000',\n",
       " '400m',\n",
       " '400rmb',\n",
       " '401',\n",
       " '40169988',\n",
       " '401k',\n",
       " '402',\n",
       " '4026',\n",
       " '403',\n",
       " '4040',\n",
       " '405',\n",
       " '4050',\n",
       " '406',\n",
       " '407',\n",
       " '408',\n",
       " '409',\n",
       " '40a',\n",
       " '40c',\n",
       " '41',\n",
       " '413',\n",
       " '4134479662',\n",
       " '415',\n",
       " '4167901256',\n",
       " '419',\n",
       " '4196',\n",
       " '41cm',\n",
       " '42',\n",
       " '420',\n",
       " '4235',\n",
       " '4236631',\n",
       " '4236681',\n",
       " '425',\n",
       " '4250',\n",
       " '4283',\n",
       " '43',\n",
       " '430',\n",
       " '4320',\n",
       " '4326748',\n",
       " '436',\n",
       " '44',\n",
       " '440',\n",
       " '4434',\n",
       " '4479626',\n",
       " '4482098',\n",
       " '45',\n",
       " '450',\n",
       " '4500',\n",
       " '45000',\n",
       " '45132',\n",
       " '455',\n",
       " '455623',\n",
       " '456',\n",
       " '4562325',\n",
       " '46',\n",
       " '47',\n",
       " '470',\n",
       " '476',\n",
       " '48',\n",
       " '480',\n",
       " '4800',\n",
       " '4837625',\n",
       " '486',\n",
       " '489',\n",
       " '48c',\n",
       " '4945939',\n",
       " '49cm',\n",
       " '4b7',\n",
       " '4n9',\n",
       " '4p',\n",
       " '4th',\n",
       " '4x100',\n",
       " '50',\n",
       " '500',\n",
       " '5000',\n",
       " '50000',\n",
       " '500000',\n",
       " '500per',\n",
       " '501',\n",
       " '502',\n",
       " '5022',\n",
       " '503',\n",
       " '504the',\n",
       " '505',\n",
       " '5050',\n",
       " '506',\n",
       " '507',\n",
       " '508',\n",
       " '50ml',\n",
       " '50mldkny',\n",
       " '50nt',\n",
       " '50s',\n",
       " '50th',\n",
       " '51',\n",
       " '510',\n",
       " '512',\n",
       " '512mb',\n",
       " '513',\n",
       " '5133284',\n",
       " '514',\n",
       " '516',\n",
       " '519',\n",
       " '51998',\n",
       " '52',\n",
       " '520',\n",
       " '5211678',\n",
       " '522',\n",
       " '5264453',\n",
       " '529',\n",
       " '5294870',\n",
       " '530',\n",
       " '538',\n",
       " '5395',\n",
       " '5400',\n",
       " '541',\n",
       " '543210',\n",
       " '5448799087',\n",
       " '545',\n",
       " '5458897',\n",
       " '548',\n",
       " '549',\n",
       " '55',\n",
       " '550',\n",
       " '551',\n",
       " '5532213',\n",
       " '5552345',\n",
       " '5554321',\n",
       " '5554653',\n",
       " '5557658',\n",
       " '5558929',\n",
       " '556',\n",
       " '558',\n",
       " '56',\n",
       " '560',\n",
       " '56000',\n",
       " '5600x3200',\n",
       " '5604368976',\n",
       " '5634',\n",
       " '565',\n",
       " '566',\n",
       " '5678',\n",
       " '56th',\n",
       " '57',\n",
       " '5735647',\n",
       " '578',\n",
       " '579649',\n",
       " '58',\n",
       " '590',\n",
       " '5900',\n",
       " '5929',\n",
       " '599',\n",
       " '5995',\n",
       " '5am',\n",
       " '5o',\n",
       " '5pm',\n",
       " '5th',\n",
       " '5they',\n",
       " '5xzoom',\n",
       " '60',\n",
       " '600',\n",
       " '6000',\n",
       " '60000',\n",
       " '600000',\n",
       " '600rmb',\n",
       " '601',\n",
       " '6020',\n",
       " '603',\n",
       " '606',\n",
       " '609',\n",
       " '60days',\n",
       " '60the',\n",
       " '61',\n",
       " '610',\n",
       " '6100',\n",
       " '6105551234',\n",
       " '6109349901',\n",
       " '611',\n",
       " '611273',\n",
       " '615',\n",
       " '6172282289',\n",
       " '62',\n",
       " '6212',\n",
       " '6215',\n",
       " '623',\n",
       " '6265551739',\n",
       " '627',\n",
       " '6275551234',\n",
       " '630',\n",
       " '636',\n",
       " '64',\n",
       " '640',\n",
       " '6420422',\n",
       " '642934',\n",
       " '64392',\n",
       " '645',\n",
       " '64mb',\n",
       " '65',\n",
       " '650',\n",
       " '6500',\n",
       " '6521684',\n",
       " '6581',\n",
       " '6594',\n",
       " '66',\n",
       " '660',\n",
       " '6666777',\n",
       " '6667777',\n",
       " '67',\n",
       " '6710121',\n",
       " '671029',\n",
       " '672910',\n",
       " '6739792',\n",
       " '675',\n",
       " '6765',\n",
       " '678',\n",
       " '6786',\n",
       " '6789777',\n",
       " '679',\n",
       " '68',\n",
       " '680',\n",
       " '685',\n",
       " '6850',\n",
       " '687',\n",
       " '69',\n",
       " '698',\n",
       " '6as',\n",
       " '6my',\n",
       " '6pm',\n",
       " '6th',\n",
       " '70',\n",
       " '700',\n",
       " '7000',\n",
       " '70000',\n",
       " '700000',\n",
       " '701',\n",
       " '705',\n",
       " '707',\n",
       " '709',\n",
       " '70cm',\n",
       " '70s',\n",
       " '70th',\n",
       " '71',\n",
       " '710',\n",
       " '711',\n",
       " '712',\n",
       " '713',\n",
       " '7137860234',\n",
       " '715',\n",
       " '72',\n",
       " '720',\n",
       " '725',\n",
       " '72yuan',\n",
       " '73',\n",
       " '730',\n",
       " '735will',\n",
       " '7364565',\n",
       " '73882424',\n",
       " '740',\n",
       " '745',\n",
       " '745rmbif',\n",
       " '75',\n",
       " '750',\n",
       " '7500',\n",
       " '75000',\n",
       " '7539738',\n",
       " '7576385',\n",
       " '759',\n",
       " '75th',\n",
       " '7634565',\n",
       " '7674512',\n",
       " '770',\n",
       " '776',\n",
       " '7779344',\n",
       " '7779345',\n",
       " '78',\n",
       " '781',\n",
       " '7834623464',\n",
       " '7880',\n",
       " '789',\n",
       " '789051',\n",
       " '79',\n",
       " '79a',\n",
       " '7a',\n",
       " '7b',\n",
       " '7pm',\n",
       " '7th',\n",
       " '80',\n",
       " '800',\n",
       " '8000',\n",
       " '80000',\n",
       " '801',\n",
       " '802',\n",
       " '804',\n",
       " '805',\n",
       " '808',\n",
       " '80kg',\n",
       " '80s',\n",
       " '81',\n",
       " '812',\n",
       " '815',\n",
       " '8185551234',\n",
       " '82132',\n",
       " '823',\n",
       " '8234342',\n",
       " '824',\n",
       " '825',\n",
       " '826',\n",
       " '827',\n",
       " '82823',\n",
       " '82nd',\n",
       " '83',\n",
       " '83043',\n",
       " '8357688',\n",
       " '83bridge',\n",
       " '84',\n",
       " '840',\n",
       " '845',\n",
       " '846',\n",
       " '8468972',\n",
       " '85',\n",
       " '850',\n",
       " '8520388',\n",
       " '856674',\n",
       " '86',\n",
       " '8610',\n",
       " '8657',\n",
       " '87',\n",
       " '8704',\n",
       " '8736',\n",
       " '8742',\n",
       " '876',\n",
       " '8772',\n",
       " '878',\n",
       " '88',\n",
       " '880',\n",
       " '8801if',\n",
       " '8803',\n",
       " '8821',\n",
       " '8824578',\n",
       " '8825',\n",
       " '8826789',\n",
       " '8844',\n",
       " '886',\n",
       " '888',\n",
       " '89',\n",
       " '8901',\n",
       " '8902365',\n",
       " '8962105',\n",
       " '898007',\n",
       " '8983423',\n",
       " '8a',\n",
       " '8am',\n",
       " '8b',\n",
       " '8c',\n",
       " '8p',\n",
       " '8th',\n",
       " '90',\n",
       " '900',\n",
       " '9000',\n",
       " '905',\n",
       " '906',\n",
       " '908',\n",
       " '90s',\n",
       " '91',\n",
       " '910',\n",
       " '911',\n",
       " '91170',\n",
       " '912',\n",
       " '913',\n",
       " '915',\n",
       " '918',\n",
       " '9182',\n",
       " '92',\n",
       " '920',\n",
       " '92320',\n",
       " '925',\n",
       " '927',\n",
       " '93',\n",
       " '930',\n",
       " '936',\n",
       " '94',\n",
       " '940',\n",
       " '9435',\n",
       " '945',\n",
       " '95',\n",
       " '955',\n",
       " '966',\n",
       " '98',\n",
       " '985',\n",
       " '9869',\n",
       " '987',\n",
       " '9870',\n",
       " '98830',\n",
       " '9902',\n",
       " '995',\n",
       " '9980',\n",
       " '99816432',\n",
       " '9999',\n",
       " '9a',\n",
       " '9am',\n",
       " '9mm',\n",
       " '9p',\n",
       " '9pm',\n",
       " '9th',\n",
       " 'a120',\n",
       " 'a3',\n",
       " 'a4',\n",
       " 'a5',\n",
       " 'a943',\n",
       " 'aa',\n",
       " 'aaaaahh',\n",
       " 'aaal',\n",
       " 'aah',\n",
       " 'aaron',\n",
       " 'ab',\n",
       " 'aback',\n",
       " 'abacuses',\n",
       " 'abandon',\n",
       " 'abbey',\n",
       " 'abbreviations',\n",
       " 'abby',\n",
       " 'abbys',\n",
       " 'abc',\n",
       " ...]"
      ]
     },
     "execution_count": 53,
     "metadata": {},
     "output_type": "execute_result"
    }
   ],
   "source": [
    "# Get Features by Name\n",
    "cv.get_feature_names()"
   ]
  },
  {
   "cell_type": "code",
   "execution_count": 54,
   "metadata": {},
   "outputs": [],
   "source": [
    "X=X.toarray()"
   ]
  },
  {
   "cell_type": "code",
   "execution_count": 55,
   "metadata": {},
   "outputs": [],
   "source": [
    "for train_index, test_index in folds.split(X,ylabels):\n",
    "    X_train,X_test, y_train,y_test = X[train_index],X[test_index],\\\n",
    "                                     ylabels[train_index],ylabels[test_index]"
   ]
  },
  {
   "cell_type": "code",
   "execution_count": 72,
   "metadata": {},
   "outputs": [
    {
     "data": {
      "text/plain": [
       "RandomForestClassifier(n_estimators=50)"
      ]
     },
     "execution_count": 72,
     "metadata": {},
     "output_type": "execute_result"
    }
   ],
   "source": [
    "#model = xgb.XGBClassifier()\n",
    "#model = SGDClassifier(loss='modified_huber', random_state=101)\n",
    "#model = LogisticRegression()\n",
    "#model = SVC()\n",
    "#, oob_score = True, n_jobs=1, random_state=101, max_features=None, min_samples_leaf=30) RANDOM FOREST\n",
    "model= RandomForestClassifier(n_estimators=50)\n",
    "\n",
    "#model = DecisionTreeClassifier(max_depth=10, random_state=101, max_features = None, min_samples_leaf = 15)\n",
    "#model = LinearDiscriminantAnalysis()\n",
    "#model = GaussianNB()\n",
    "#model = MultinomialNB()\n",
    "#model = lgb.LGBMClassifier(min_child_weight= 0.1,num_iterations=1000, max_bin = 200,min_split_gain= 0.01,max_depth= 100, num_leaves=110, learning_rate=0.01,verbosity= -1,)\n",
    "model.fit(X_train,y_train)\n"
   ]
  },
  {
   "cell_type": "code",
   "execution_count": 73,
   "metadata": {},
   "outputs": [
    {
     "data": {
      "text/plain": [
       "0.853646693211615"
      ]
     },
     "execution_count": 73,
     "metadata": {},
     "output_type": "execute_result"
    }
   ],
   "source": [
    "model.score(X_test,y_test)"
   ]
  },
  {
   "cell_type": "code",
   "execution_count": 74,
   "metadata": {},
   "outputs": [],
   "source": [
    "#predictions\n",
    "y_pred_for_model=model.predict(X_test)"
   ]
  },
  {
   "cell_type": "code",
   "execution_count": 75,
   "metadata": {},
   "outputs": [
    {
     "data": {
      "text/plain": [
       "array([0, 0, 4, ..., 4, 0, 0], dtype=int64)"
      ]
     },
     "execution_count": 75,
     "metadata": {},
     "output_type": "execute_result"
    }
   ],
   "source": [
    "y_pred_for_model"
   ]
  },
  {
   "cell_type": "code",
   "execution_count": 76,
   "metadata": {},
   "outputs": [],
   "source": [
    "sample_text=['I love machine learning ']"
   ]
  },
  {
   "cell_type": "code",
   "execution_count": 77,
   "metadata": {},
   "outputs": [],
   "source": [
    "vect=cv.transform(sample_text).toarray()"
   ]
  },
  {
   "cell_type": "code",
   "execution_count": 78,
   "metadata": {},
   "outputs": [
    {
     "data": {
      "text/plain": [
       "array([4], dtype=int64)"
      ]
     },
     "execution_count": 78,
     "metadata": {},
     "output_type": "execute_result"
    }
   ],
   "source": [
    "model.predict(vect)"
   ]
  },
  {
   "cell_type": "code",
   "execution_count": 79,
   "metadata": {},
   "outputs": [
    {
     "data": {
      "text/plain": [
       "array([[0.38, 0.  , 0.  , 0.  , 0.6 , 0.02, 0.  ]])"
      ]
     },
     "execution_count": 79,
     "metadata": {},
     "output_type": "execute_result"
    }
   ],
   "source": [
    "#prediction probability\n",
    "model.predict_proba(vect)"
   ]
  },
  {
   "cell_type": "code",
   "execution_count": 80,
   "metadata": {},
   "outputs": [
    {
     "data": {
      "text/plain": [
       "array([0, 1, 2, 3, 4, 5, 6], dtype=int64)"
      ]
     },
     "execution_count": 80,
     "metadata": {},
     "output_type": "execute_result"
    }
   ],
   "source": [
    "model.classes_"
   ]
  },
  {
   "cell_type": "code",
   "execution_count": 81,
   "metadata": {},
   "outputs": [
    {
     "data": {
      "text/plain": [
       "0.6"
      ]
     },
     "execution_count": 81,
     "metadata": {},
     "output_type": "execute_result"
    }
   ],
   "source": [
    "np.max(model.predict_proba(vect))"
   ]
  },
  {
   "cell_type": "code",
   "execution_count": 82,
   "metadata": {},
   "outputs": [],
   "source": [
    "def predict_emotion(sample_text,model):\n",
    "    myvect=cv.transform(sample_text).toarray()\n",
    "    prediction= model.predict(myvect)\n",
    "    pred_proba=model.predict_proba(myvect)\n",
    "    pred_per_for_all= dict(zip(model.classes_,pred_proba[0]))\n",
    "    print(\"predicition:{}, Prediction Score:{}\".format(prediction[0],np.max(pred_proba)))\n",
    "   \n",
    "    return  pred_per_for_all"
   ]
  },
  {
   "cell_type": "code",
   "execution_count": null,
   "metadata": {},
   "outputs": [],
   "source": []
  },
  {
   "cell_type": "code",
   "execution_count": 83,
   "metadata": {},
   "outputs": [
    {
     "name": "stdout",
     "output_type": "stream",
     "text": [
      "predicition:4, Prediction Score:0.6\n"
     ]
    },
    {
     "data": {
      "text/plain": [
       "{0: 0.38, 1: 0.0, 2: 0.0, 3: 0.0, 4: 0.6, 5: 0.02, 6: 0.0}"
      ]
     },
     "execution_count": 83,
     "metadata": {},
     "output_type": "execute_result"
    }
   ],
   "source": [
    "predict_emotion(sample_text,model)"
   ]
  },
  {
   "cell_type": "code",
   "execution_count": 84,
   "metadata": {},
   "outputs": [
    {
     "name": "stdout",
     "output_type": "stream",
     "text": [
      "predicition:0, Prediction Score:0.6047619047619048\n"
     ]
    },
    {
     "data": {
      "text/plain": [
       "{0: 0.6047619047619048,\n",
       " 1: 0.04,\n",
       " 2: 0.15,\n",
       " 3: 0.15523809523809523,\n",
       " 4: 0.0,\n",
       " 5: 0.05,\n",
       " 6: 0.0}"
      ]
     },
     "execution_count": 84,
     "metadata": {},
     "output_type": "execute_result"
    }
   ],
   "source": [
    "predict_emotion([\"I hate Machine learning\"],model)"
   ]
  },
  {
   "cell_type": "code",
   "execution_count": 85,
   "metadata": {},
   "outputs": [
    {
     "name": "stdout",
     "output_type": "stream",
     "text": [
      "predicition:0, Prediction Score:0.53\n"
     ]
    },
    {
     "data": {
      "text/plain": [
       "{0: 0.53, 1: 0.04, 2: 0.0, 3: 0.0, 4: 0.42, 5: 0.01, 6: 0.0}"
      ]
     },
     "execution_count": 85,
     "metadata": {},
     "output_type": "execute_result"
    }
   ],
   "source": [
    "predict_emotion([\"I love playing cricket\"],model)"
   ]
  },
  {
   "cell_type": "code",
   "execution_count": 86,
   "metadata": {},
   "outputs": [
    {
     "name": "stdout",
     "output_type": "stream",
     "text": [
      "predicition:0, Prediction Score:0.8566666666666666\n"
     ]
    },
    {
     "data": {
      "text/plain": [
       "{0: 0.8566666666666666,\n",
       " 1: 0.0,\n",
       " 2: 0.013333333333333332,\n",
       " 3: 0.0,\n",
       " 4: 0.0,\n",
       " 5: 0.09,\n",
       " 6: 0.04}"
      ]
     },
     "execution_count": 86,
     "metadata": {},
     "output_type": "execute_result"
    }
   ],
   "source": [
    "predict_emotion([\"i am afraid he will kill me\"],model)"
   ]
  },
  {
   "cell_type": "code",
   "execution_count": 87,
   "metadata": {},
   "outputs": [
    {
     "name": "stdout",
     "output_type": "stream",
     "text": [
      "              precision    recall  f1-score   support\n",
      "\n",
      "           0       0.88      0.96      0.92      8557\n",
      "           1       0.53      0.19      0.28       102\n",
      "           2       0.55      0.17      0.26        35\n",
      "           3       0.50      0.06      0.11        17\n",
      "           4       0.62      0.35      0.45      1288\n",
      "           5       0.47      0.13      0.20       115\n",
      "           6       0.66      0.26      0.37       183\n",
      "\n",
      "    accuracy                           0.85     10297\n",
      "   macro avg       0.60      0.30      0.37     10297\n",
      "weighted avg       0.83      0.85      0.83     10297\n",
      "\n"
     ]
    }
   ],
   "source": [
    "print(classification_report(y_test,y_pred_for_model))"
   ]
  },
  {
   "cell_type": "code",
   "execution_count": 88,
   "metadata": {},
   "outputs": [
    {
     "data": {
      "text/plain": [
       "array([[8252,   12,    4,    1,  256,   14,   18],\n",
       "       [  78,   19,    1,    0,    1,    2,    1],\n",
       "       [  25,    2,    6,    0,    1,    1,    0],\n",
       "       [  13,    1,    0,    1,    1,    0,    1],\n",
       "       [ 835,    0,    0,    0,  450,    0,    3],\n",
       "       [  97,    1,    0,    0,    1,   15,    1],\n",
       "       [ 125,    1,    0,    0,   10,    0,   47]], dtype=int64)"
      ]
     },
     "execution_count": 88,
     "metadata": {},
     "output_type": "execute_result"
    }
   ],
   "source": [
    "confusion_matrix(y_test,y_pred_for_model)"
   ]
  },
  {
   "cell_type": "code",
   "execution_count": 89,
   "metadata": {},
   "outputs": [
    {
     "data": {
      "text/plain": [
       "<sklearn.metrics._plot.confusion_matrix.ConfusionMatrixDisplay at 0x25740678460>"
      ]
     },
     "execution_count": 89,
     "metadata": {},
     "output_type": "execute_result"
    },
    {
     "data": {
      "image/png": "[encoded data removed]",
      "text/plain": [
       "<Figure size 432x288 with 2 Axes>"
      ]
     },
     "metadata": {
      "needs_background": "light"
     },
     "output_type": "display_data"
    }
   ],
   "source": [
    "plot_confusion_matrix(model,X_test,y_test)"
   ]
  },
  {
   "cell_type": "code",
   "execution_count": null,
   "metadata": {},
   "outputs": [],
   "source": [
    "\n"
   ]
  },
  {
   "cell_type": "code",
   "execution_count": null,
   "metadata": {},
   "outputs": [],
   "source": []
  },
  {
   "cell_type": "code",
   "execution_count": null,
   "metadata": {},
   "outputs": [],
   "source": []
  }
 ],
 "metadata": {
  "kernelspec": {
   "display_name": "Python 3 (ipykernel)",
   "language": "python",
   "name": "python3"
  },
  "language_info": {
   "codemirror_mode": {
    "name": "ipython",
    "version": 3
   },
   "file_extension": ".py",
   "mimetype": "text/x-python",
   "name": "python",
   "nbconvert_exporter": "python",
   "pygments_lexer": "ipython3",
   "version": "3.9.7"
  }
 },
 "nbformat": 4,
 "nbformat_minor": 4
}
