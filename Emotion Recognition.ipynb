{
 "cells": [
  {
   "cell_type": "code",
   "execution_count": 549,
   "metadata": {},
   "outputs": [],
   "source": [
    "import pandas as pd\n",
    "import numpy as np\n",
    "\n",
    "\n",
    "\n"
   ]
  },
  {
   "cell_type": "code",
   "execution_count": 550,
   "metadata": {},
   "outputs": [],
   "source": [
    "import matplotlib.pyplot as plt \n",
    "import seaborn as sns "
   ]
  },
  {
   "cell_type": "code",
   "execution_count": 551,
   "metadata": {},
   "outputs": [],
   "source": [
    "import neattext.functions as nfx"
   ]
  },
  {
   "cell_type": "code",
   "execution_count": null,
   "metadata": {},
   "outputs": [],
   "source": []
  },
  {
   "cell_type": "code",
   "execution_count": 553,
   "metadata": {},
   "outputs": [],
   "source": [
    "# df_train = pd.read_csv('data_train.csv')\n",
    "#df_test = pd.read_csv('data_test.csv')\n",
    "\n",
    "#X_train = df_train.Text\n",
    "#X_test = df_test.Text\n",
    "\n",
    "#y_train = df_train.Emotion\n",
    "#y_test = df_test.Emotion\n",
    "\n",
    "#class_names = ['joy', 'sadness', 'anger', 'neutral', 'fear']\n",
    "#df = pd.concat([df_train, df_test])\n",
    "\n",
    "#print('size of training set: %s' % (len(df_train['Text'])))\n",
    "#print('size of validation set: %s' % (len(df_test['Text'])))\n",
    "#print(df.Emotion.value_counts())\n",
    "\n",
    "#df.head()\n",
    "#df=pd.read_csv('dataset/tweet_emotions.csv')\n",
    "df=pd.read_csv('dataset/text_emotion.csv')\n",
    "#df=pd.read_csv('merged.csv')\n",
    "#df=pd.read_csv('dataset/isear.csv')\n",
    "#df=pd.read_csv('dataset/emotion-stimulus.csv')\n",
    "#df=pd.read_csv('dataset/dailydialog.csv')"
   ]
  },
  {
   "cell_type": "code",
   "execution_count": null,
   "metadata": {},
   "outputs": [],
   "source": [
    "\n"
   ]
  },
  {
   "cell_type": "code",
   "execution_count": 554,
   "metadata": {},
   "outputs": [
    {
     "data": {
      "text/html": [
       "<div>\n",
       "<style scoped>\n",
       "    .dataframe tbody tr th:only-of-type {\n",
       "        vertical-align: middle;\n",
       "    }\n",
       "\n",
       "    .dataframe tbody tr th {\n",
       "        vertical-align: top;\n",
       "    }\n",
       "\n",
       "    .dataframe thead th {\n",
       "        text-align: right;\n",
       "    }\n",
       "</style>\n",
       "<table border=\"1\" class=\"dataframe\">\n",
       "  <thead>\n",
       "    <tr style=\"text-align: right;\">\n",
       "      <th></th>\n",
       "      <th>tweet_id</th>\n",
       "      <th>sentiment</th>\n",
       "      <th>author</th>\n",
       "      <th>content</th>\n",
       "    </tr>\n",
       "  </thead>\n",
       "  <tbody>\n",
       "    <tr>\n",
       "      <th>0</th>\n",
       "      <td>1956967341</td>\n",
       "      <td>empty</td>\n",
       "      <td>xoshayzers</td>\n",
       "      <td>@tiffanylue i know  i was listenin to bad habi...</td>\n",
       "    </tr>\n",
       "    <tr>\n",
       "      <th>1</th>\n",
       "      <td>1956967666</td>\n",
       "      <td>sadness</td>\n",
       "      <td>wannamama</td>\n",
       "      <td>Layin n bed with a headache  ughhhh...waitin o...</td>\n",
       "    </tr>\n",
       "    <tr>\n",
       "      <th>2</th>\n",
       "      <td>1956967696</td>\n",
       "      <td>sadness</td>\n",
       "      <td>coolfunky</td>\n",
       "      <td>Funeral ceremony...gloomy friday...</td>\n",
       "    </tr>\n",
       "    <tr>\n",
       "      <th>3</th>\n",
       "      <td>1956967789</td>\n",
       "      <td>enthusiasm</td>\n",
       "      <td>czareaquino</td>\n",
       "      <td>wants to hang out with friends SOON!</td>\n",
       "    </tr>\n",
       "    <tr>\n",
       "      <th>4</th>\n",
       "      <td>1956968416</td>\n",
       "      <td>neutral</td>\n",
       "      <td>xkilljoyx</td>\n",
       "      <td>@dannycastillo We want to trade with someone w...</td>\n",
       "    </tr>\n",
       "  </tbody>\n",
       "</table>\n",
       "</div>"
      ],
      "text/plain": [
       "     tweet_id   sentiment       author  \\\n",
       "0  1956967341       empty   xoshayzers   \n",
       "1  1956967666     sadness    wannamama   \n",
       "2  1956967696     sadness    coolfunky   \n",
       "3  1956967789  enthusiasm  czareaquino   \n",
       "4  1956968416     neutral    xkilljoyx   \n",
       "\n",
       "                                             content  \n",
       "0  @tiffanylue i know  i was listenin to bad habi...  \n",
       "1  Layin n bed with a headache  ughhhh...waitin o...  \n",
       "2                Funeral ceremony...gloomy friday...  \n",
       "3               wants to hang out with friends SOON!  \n",
       "4  @dannycastillo We want to trade with someone w...  "
      ]
     },
     "execution_count": 554,
     "metadata": {},
     "output_type": "execute_result"
    }
   ],
   "source": [
    "df.head()"
   ]
  },
  {
   "cell_type": "code",
   "execution_count": null,
   "metadata": {},
   "outputs": [],
   "source": []
  },
  {
   "cell_type": "code",
   "execution_count": 555,
   "metadata": {},
   "outputs": [
    {
     "data": {
      "text/plain": [
       "(40000, 4)"
      ]
     },
     "execution_count": 555,
     "metadata": {},
     "output_type": "execute_result"
    }
   ],
   "source": [
    "df.shape"
   ]
  },
  {
   "cell_type": "code",
   "execution_count": 556,
   "metadata": {},
   "outputs": [
    {
     "data": {
      "text/plain": [
       "tweet_id      int64\n",
       "sentiment    object\n",
       "author       object\n",
       "content      object\n",
       "dtype: object"
      ]
     },
     "execution_count": 556,
     "metadata": {},
     "output_type": "execute_result"
    }
   ],
   "source": [
    "df.dtypes"
   ]
  },
  {
   "cell_type": "code",
   "execution_count": 557,
   "metadata": {},
   "outputs": [
    {
     "data": {
      "text/plain": [
       "tweet_id     0\n",
       "sentiment    0\n",
       "author       0\n",
       "content      0\n",
       "dtype: int64"
      ]
     },
     "execution_count": 557,
     "metadata": {},
     "output_type": "execute_result"
    }
   ],
   "source": [
    "df.isnull().sum()"
   ]
  },
  {
   "cell_type": "code",
   "execution_count": null,
   "metadata": {},
   "outputs": [],
   "source": []
  },
  {
   "cell_type": "code",
   "execution_count": 559,
   "metadata": {},
   "outputs": [
    {
     "data": {
      "text/plain": [
       "neutral       8638\n",
       "worry         8459\n",
       "happiness     5209\n",
       "sadness       5165\n",
       "love          3842\n",
       "surprise      2187\n",
       "fun           1776\n",
       "relief        1526\n",
       "hate          1323\n",
       "empty          827\n",
       "enthusiasm     759\n",
       "boredom        179\n",
       "anger          110\n",
       "Name: sentiment, dtype: int64"
      ]
     },
     "execution_count": 559,
     "metadata": {},
     "output_type": "execute_result"
    }
   ],
   "source": [
    "#value count of emotions\n",
    "df['sentiment'].value_counts()"
   ]
  },
  {
   "cell_type": "code",
   "execution_count": 560,
   "metadata": {},
   "outputs": [],
   "source": [
    "#plt.figure(figsize=(15,5))\n",
    "#sns.countplot(x='Emotion',data=df)\n",
    "#plt.show"
   ]
  },
  {
   "cell_type": "code",
   "execution_count": null,
   "metadata": {},
   "outputs": [],
   "source": [
    "\n"
   ]
  },
  {
   "cell_type": "code",
   "execution_count": 561,
   "metadata": {},
   "outputs": [],
   "source": [
    "#Sentiment Analysis\n",
    "#from textblob import TextBlob"
   ]
  },
  {
   "cell_type": "code",
   "execution_count": 562,
   "metadata": {},
   "outputs": [],
   "source": [
    "#def get_sentiment(text):\n",
    "  #  blob =TextBlob(text)\n",
    "  #  sentiment= blob.sentiment.polarity\n",
    "  #  if sentiment >0:\n",
    "   #     result='Positive'\n",
    "   # elif sentiment <0:\n",
    "   #     result ='Negative'\n",
    "  #  else:\n",
    "     #   result=\"Neutral\"\n",
    "  #  return result"
   ]
  },
  {
   "cell_type": "code",
   "execution_count": 563,
   "metadata": {},
   "outputs": [],
   "source": [
    "#testing \n",
    "#get_sentiment(\"I love coding\")"
   ]
  },
  {
   "cell_type": "code",
   "execution_count": 564,
   "metadata": {},
   "outputs": [],
   "source": [
    "#df['Sentiment']=df['Text'].apply(get_sentiment)"
   ]
  },
  {
   "cell_type": "code",
   "execution_count": 565,
   "metadata": {},
   "outputs": [],
   "source": [
    "#df.head()"
   ]
  },
  {
   "cell_type": "code",
   "execution_count": 566,
   "metadata": {},
   "outputs": [],
   "source": [
    "#Comparing Emotion and Sentiments\n",
    "#df.groupby(['Emotion','Sentiment']).size()"
   ]
  },
  {
   "cell_type": "code",
   "execution_count": 567,
   "metadata": {},
   "outputs": [],
   "source": [
    "#df.groupby(['Emotion','Sentiment']).size().plot(kind='bar')"
   ]
  },
  {
   "cell_type": "code",
   "execution_count": 568,
   "metadata": {},
   "outputs": [],
   "source": [
    "#sns.catplot(x='Emotion',hue='Sentiment',data=df, kind='count', aspect=1.5)"
   ]
  },
  {
   "cell_type": "code",
   "execution_count": 569,
   "metadata": {},
   "outputs": [],
   "source": [
    "#Text Cleaning\n"
   ]
  },
  {
   "cell_type": "code",
   "execution_count": 579,
   "metadata": {},
   "outputs": [
    {
     "data": {
      "text/plain": [
       "['BTC_ADDRESS_REGEX',\n",
       " 'CURRENCY_REGEX',\n",
       " 'CURRENCY_SYMB_REGEX',\n",
       " 'Counter',\n",
       " 'DATE_REGEX',\n",
       " 'EMAIL_REGEX',\n",
       " 'EMOJI_REGEX',\n",
       " 'HASTAG_REGEX',\n",
       " 'MASTERCard_REGEX',\n",
       " 'MD5_SHA_REGEX',\n",
       " 'MOST_COMMON_PUNCT_REGEX',\n",
       " 'NUMBERS_REGEX',\n",
       " 'PHONE_REGEX',\n",
       " 'PoBOX_REGEX',\n",
       " 'SPECIAL_CHARACTERS_REGEX',\n",
       " 'STOPWORDS',\n",
       " 'STOPWORDS_de',\n",
       " 'STOPWORDS_en',\n",
       " 'STOPWORDS_es',\n",
       " 'STOPWORDS_fr',\n",
       " 'STOPWORDS_ru',\n",
       " 'STOPWORDS_yo',\n",
       " 'STREET_ADDRESS_REGEX',\n",
       " 'TextFrame',\n",
       " 'URL_PATTERN',\n",
       " 'USER_HANDLES_REGEX',\n",
       " 'VISACard_REGEX',\n",
       " '__builtins__',\n",
       " '__cached__',\n",
       " '__doc__',\n",
       " '__file__',\n",
       " '__generate_text',\n",
       " '__loader__',\n",
       " '__name__',\n",
       " '__numbers_dict',\n",
       " '__package__',\n",
       " '__spec__',\n",
       " '_lex_richness_herdan',\n",
       " '_lex_richness_maas_ttr',\n",
       " 'clean_text',\n",
       " 'defaultdict',\n",
       " 'digit2words',\n",
       " 'extract_btc_address',\n",
       " 'extract_currencies',\n",
       " 'extract_currency_symbols',\n",
       " 'extract_dates',\n",
       " 'extract_emails',\n",
       " 'extract_emojis',\n",
       " 'extract_hashtags',\n",
       " 'extract_html_tags',\n",
       " 'extract_mastercard_addr',\n",
       " 'extract_md5sha',\n",
       " 'extract_numbers',\n",
       " 'extract_pattern',\n",
       " 'extract_phone_numbers',\n",
       " 'extract_postoffice_box',\n",
       " 'extract_shortwords',\n",
       " 'extract_special_characters',\n",
       " 'extract_stopwords',\n",
       " 'extract_street_address',\n",
       " 'extract_terms_in_bracket',\n",
       " 'extract_urls',\n",
       " 'extract_userhandles',\n",
       " 'extract_visacard_addr',\n",
       " 'fix_contractions',\n",
       " 'generate_sentence',\n",
       " 'hamming_distance',\n",
       " 'inverse_df',\n",
       " 'lexical_richness',\n",
       " 'markov_chain',\n",
       " 'math',\n",
       " 'nlargest',\n",
       " 'normalize',\n",
       " 'num2words',\n",
       " 'random',\n",
       " 're',\n",
       " 'read_txt',\n",
       " 'remove_bad_quotes',\n",
       " 'remove_btc_address',\n",
       " 'remove_currencies',\n",
       " 'remove_currency_symbols',\n",
       " 'remove_custom_pattern',\n",
       " 'remove_custom_words',\n",
       " 'remove_dates',\n",
       " 'remove_emails',\n",
       " 'remove_emojis',\n",
       " 'remove_hashtags',\n",
       " 'remove_html_tags',\n",
       " 'remove_mastercard_addr',\n",
       " 'remove_md5sha',\n",
       " 'remove_multiple_spaces',\n",
       " 'remove_non_ascii',\n",
       " 'remove_numbers',\n",
       " 'remove_phone_numbers',\n",
       " 'remove_postoffice_box',\n",
       " 'remove_puncts',\n",
       " 'remove_punctuations',\n",
       " 'remove_shortwords',\n",
       " 'remove_special_characters',\n",
       " 'remove_stopwords',\n",
       " 'remove_street_address',\n",
       " 'remove_terms_in_bracket',\n",
       " 'remove_urls',\n",
       " 'remove_userhandles',\n",
       " 'remove_visacard_addr',\n",
       " 'replace_bad_quotes',\n",
       " 'replace_currencies',\n",
       " 'replace_currency_symbols',\n",
       " 'replace_dates',\n",
       " 'replace_emails',\n",
       " 'replace_emojis',\n",
       " 'replace_numbers',\n",
       " 'replace_phone_numbers',\n",
       " 'replace_special_characters',\n",
       " 'replace_term',\n",
       " 'replace_urls',\n",
       " 'string',\n",
       " 'term_freq',\n",
       " 'to_txt',\n",
       " 'word_freq',\n",
       " 'word_length_freq']"
      ]
     },
     "execution_count": 579,
     "metadata": {},
     "output_type": "execute_result"
    }
   ],
   "source": [
    "dir(nfx)"
   ]
  },
  {
   "cell_type": "code",
   "execution_count": 580,
   "metadata": {},
   "outputs": [],
   "source": [
    "df['Clean_Text']=df['content'].apply(nfx.remove_special_characters)\n"
   ]
  },
  {
   "cell_type": "code",
   "execution_count": 582,
   "metadata": {},
   "outputs": [],
   "source": [
    "df['Clean_Text']=df['Clean_Text'].apply(nfx.remove_punctuations)"
   ]
  },
  {
   "cell_type": "code",
   "execution_count": 583,
   "metadata": {},
   "outputs": [],
   "source": [
    "df['Clean_Text']=df['Clean_Text'].apply(nfx.remove_stopwords)"
   ]
  },
  {
   "cell_type": "code",
   "execution_count": 585,
   "metadata": {},
   "outputs": [],
   "source": [
    "df['Clean_Text']=df['Clean_Text'].apply(nfx.remove_userhandles)"
   ]
  },
  {
   "cell_type": "code",
   "execution_count": 588,
   "metadata": {},
   "outputs": [
    {
     "data": {
      "text/html": [
       "<div>\n",
       "<style scoped>\n",
       "    .dataframe tbody tr th:only-of-type {\n",
       "        vertical-align: middle;\n",
       "    }\n",
       "\n",
       "    .dataframe tbody tr th {\n",
       "        vertical-align: top;\n",
       "    }\n",
       "\n",
       "    .dataframe thead th {\n",
       "        text-align: right;\n",
       "    }\n",
       "</style>\n",
       "<table border=\"1\" class=\"dataframe\">\n",
       "  <thead>\n",
       "    <tr style=\"text-align: right;\">\n",
       "      <th></th>\n",
       "      <th>content</th>\n",
       "      <th>Clean_Text</th>\n",
       "    </tr>\n",
       "  </thead>\n",
       "  <tbody>\n",
       "    <tr>\n",
       "      <th>0</th>\n",
       "      <td>@tiffanylue i know  i was listenin to bad habi...</td>\n",
       "      <td>tiffanylue know listenin bad habit earlier sta...</td>\n",
       "    </tr>\n",
       "    <tr>\n",
       "      <th>1</th>\n",
       "      <td>Layin n bed with a headache  ughhhh...waitin o...</td>\n",
       "      <td>Layin n bed headache ughhhhwaitin</td>\n",
       "    </tr>\n",
       "    <tr>\n",
       "      <th>2</th>\n",
       "      <td>Funeral ceremony...gloomy friday...</td>\n",
       "      <td>Funeral ceremonygloomy friday</td>\n",
       "    </tr>\n",
       "    <tr>\n",
       "      <th>3</th>\n",
       "      <td>wants to hang out with friends SOON!</td>\n",
       "      <td>wants hang friends SOON</td>\n",
       "    </tr>\n",
       "    <tr>\n",
       "      <th>4</th>\n",
       "      <td>@dannycastillo We want to trade with someone w...</td>\n",
       "      <td>dannycastillo want trade Houston tickets</td>\n",
       "    </tr>\n",
       "    <tr>\n",
       "      <th>...</th>\n",
       "      <td>...</td>\n",
       "      <td>...</td>\n",
       "    </tr>\n",
       "    <tr>\n",
       "      <th>39995</th>\n",
       "      <td>@JohnLloydTaylor</td>\n",
       "      <td>JohnLloydTaylor</td>\n",
       "    </tr>\n",
       "    <tr>\n",
       "      <th>39996</th>\n",
       "      <td>Happy Mothers Day  All my love</td>\n",
       "      <td>Happy Mothers Day love</td>\n",
       "    </tr>\n",
       "    <tr>\n",
       "      <th>39997</th>\n",
       "      <td>Happy Mother's Day to all the mommies out ther...</td>\n",
       "      <td>Happy Mothers Day mommies woman man long youre...</td>\n",
       "    </tr>\n",
       "    <tr>\n",
       "      <th>39998</th>\n",
       "      <td>@niariley WASSUP BEAUTIFUL!!! FOLLOW ME!!  PEE...</td>\n",
       "      <td>niariley WASSUP BEAUTIFUL FOLLOW PEEP NEW HIT ...</td>\n",
       "    </tr>\n",
       "    <tr>\n",
       "      <th>39999</th>\n",
       "      <td>@mopedronin bullet train from tokyo    the gf ...</td>\n",
       "      <td>mopedronin bullet train tokyo gf visiting japa...</td>\n",
       "    </tr>\n",
       "  </tbody>\n",
       "</table>\n",
       "<p>40000 rows × 2 columns</p>\n",
       "</div>"
      ],
      "text/plain": [
       "                                                 content  \\\n",
       "0      @tiffanylue i know  i was listenin to bad habi...   \n",
       "1      Layin n bed with a headache  ughhhh...waitin o...   \n",
       "2                    Funeral ceremony...gloomy friday...   \n",
       "3                   wants to hang out with friends SOON!   \n",
       "4      @dannycastillo We want to trade with someone w...   \n",
       "...                                                  ...   \n",
       "39995                                   @JohnLloydTaylor   \n",
       "39996                     Happy Mothers Day  All my love   \n",
       "39997  Happy Mother's Day to all the mommies out ther...   \n",
       "39998  @niariley WASSUP BEAUTIFUL!!! FOLLOW ME!!  PEE...   \n",
       "39999  @mopedronin bullet train from tokyo    the gf ...   \n",
       "\n",
       "                                              Clean_Text  \n",
       "0      tiffanylue know listenin bad habit earlier sta...  \n",
       "1                      Layin n bed headache ughhhhwaitin  \n",
       "2                          Funeral ceremonygloomy friday  \n",
       "3                                wants hang friends SOON  \n",
       "4               dannycastillo want trade Houston tickets  \n",
       "...                                                  ...  \n",
       "39995                                    JohnLloydTaylor  \n",
       "39996                             Happy Mothers Day love  \n",
       "39997  Happy Mothers Day mommies woman man long youre...  \n",
       "39998  niariley WASSUP BEAUTIFUL FOLLOW PEEP NEW HIT ...  \n",
       "39999  mopedronin bullet train tokyo gf visiting japa...  \n",
       "\n",
       "[40000 rows x 2 columns]"
      ]
     },
     "execution_count": 588,
     "metadata": {},
     "output_type": "execute_result"
    }
   ],
   "source": [
    "df[['content','Clean_Text']]"
   ]
  },
  {
   "cell_type": "code",
   "execution_count": 589,
   "metadata": {},
   "outputs": [
    {
     "data": {
      "text/plain": [
       "0        tiffanylue know listenin bad habit earlier sta...\n",
       "1                        Layin n bed headache ughhhhwaitin\n",
       "2                            Funeral ceremonygloomy friday\n",
       "3                                  wants hang friends SOON\n",
       "4                 dannycastillo want trade Houston tickets\n",
       "                               ...                        \n",
       "39995                                      JohnLloydTaylor\n",
       "39996                               Happy Mothers Day love\n",
       "39997    Happy Mothers Day mommies woman man long youre...\n",
       "39998    niariley WASSUP BEAUTIFUL FOLLOW PEEP NEW HIT ...\n",
       "39999    mopedronin bullet train tokyo gf visiting japa...\n",
       "Name: Clean_Text, Length: 40000, dtype: object"
      ]
     },
     "execution_count": 589,
     "metadata": {},
     "output_type": "execute_result"
    }
   ],
   "source": [
    "df['Clean_Text']"
   ]
  },
  {
   "cell_type": "code",
   "execution_count": null,
   "metadata": {},
   "outputs": [],
   "source": []
  },
  {
   "cell_type": "code",
   "execution_count": 590,
   "metadata": {},
   "outputs": [],
   "source": [
    "# KEyword Extraction\n"
   ]
  },
  {
   "cell_type": "code",
   "execution_count": 591,
   "metadata": {},
   "outputs": [],
   "source": [
    "#from collections import Counter"
   ]
  },
  {
   "cell_type": "code",
   "execution_count": null,
   "metadata": {},
   "outputs": [],
   "source": []
  },
  {
   "cell_type": "code",
   "execution_count": 592,
   "metadata": {},
   "outputs": [],
   "source": [
    "#def extract_keywords(text,num=50):\n",
    "  #  tokens=[tok for tok in text.split()]\n",
    "   # most_common_tokens =Counter(tokens).most_common(num)\n",
    "   # return dict(most_common_tokens)"
   ]
  },
  {
   "cell_type": "code",
   "execution_count": null,
   "metadata": {},
   "outputs": [],
   "source": []
  },
  {
   "cell_type": "code",
   "execution_count": 593,
   "metadata": {},
   "outputs": [],
   "source": [
    "#list of emotions\n",
    "#emotion_list =df['Emotion'].unique().tolist()"
   ]
  },
  {
   "cell_type": "code",
   "execution_count": 594,
   "metadata": {},
   "outputs": [],
   "source": [
    "#emotion_list"
   ]
  },
  {
   "cell_type": "code",
   "execution_count": 595,
   "metadata": {},
   "outputs": [],
   "source": [
    "#joy_list=df[df['Emotion']=='joy']['Clean_Text'].tolist()"
   ]
  },
  {
   "cell_type": "code",
   "execution_count": null,
   "metadata": {},
   "outputs": [],
   "source": []
  },
  {
   "cell_type": "code",
   "execution_count": 596,
   "metadata": {},
   "outputs": [],
   "source": [
    "#joy_docx=''.join(joy_list)"
   ]
  },
  {
   "cell_type": "code",
   "execution_count": 597,
   "metadata": {},
   "outputs": [],
   "source": [
    "#joy_docx"
   ]
  },
  {
   "cell_type": "code",
   "execution_count": 598,
   "metadata": {},
   "outputs": [],
   "source": [
    "#keyword_joy=extract_keywords(joy_docx)"
   ]
  },
  {
   "cell_type": "code",
   "execution_count": 599,
   "metadata": {},
   "outputs": [],
   "source": [
    "#keyword_joy"
   ]
  },
  {
   "cell_type": "code",
   "execution_count": 600,
   "metadata": {},
   "outputs": [],
   "source": [
    "#def plot_most_common_words(mydict,emotion_name):\n",
    "  #  df_01 = pd.DataFrame(mydict.items(),columns=['token','count'])\n",
    "  #  plt.figure(figsize=(20,10))\n",
    "   # plt.title(\"Plot of {} Most Common Keywords\".format(emotion_name))\n",
    "  #  sns.barplot(x='token',y='count',data=df_01)\n",
    "  #  plt.xticks(rotation=45)\n",
    "    #plt.show()"
   ]
  },
  {
   "cell_type": "code",
   "execution_count": 601,
   "metadata": {},
   "outputs": [],
   "source": [
    "#plot_most_common_words(keyword_joy,\"joy\")"
   ]
  },
  {
   "cell_type": "code",
   "execution_count": 602,
   "metadata": {},
   "outputs": [],
   "source": [
    "##for sadness"
   ]
  },
  {
   "cell_type": "code",
   "execution_count": 603,
   "metadata": {},
   "outputs": [],
   "source": [
    "#sadness_list=df[df['Emotion']=='sadness']['Clean_Text'].tolist()\n",
    "#documnet creation\n",
    "#sadness_docx=''.join(joy_list)\n",
    "#keyeord extravtion\n",
    "#keyword_sadness=extract_keywords(sadness_docx)"
   ]
  },
  {
   "cell_type": "code",
   "execution_count": 604,
   "metadata": {},
   "outputs": [],
   "source": [
    "#plot_most_common_words(keyword_sadness,\"sadness\")"
   ]
  },
  {
   "cell_type": "code",
   "execution_count": 605,
   "metadata": {},
   "outputs": [],
   "source": [
    "#Machine Learning\n"
   ]
  },
  {
   "cell_type": "code",
   "execution_count": 606,
   "metadata": {},
   "outputs": [],
   "source": [
    "from sklearn.neighbors import KNeighborsClassifier\n",
    "from sklearn.ensemble import RandomForestClassifier\n",
    "from sklearn.svm import SVC\n",
    "from sklearn import svm\n",
    "#import lightgbm as lgb\n",
    "from sklearn.metrics import classification_report,confusion_matrix,plot_confusion_matrix,accuracy_score,matthews_corrcoef,f1_score,precision_score, recall_score\n",
    "from sklearn.tree import DecisionTreeClassifier\n",
    "from sklearn.discriminant_analysis import LinearDiscriminantAnalysis\n",
    "from sklearn.neighbors import KNeighborsClassifier\n",
    "from sklearn.naive_bayes import GaussianNB\n",
    "from sklearn.linear_model import LogisticRegression, SGDClassifier\n",
    "\n",
    "import seaborn as sns\n",
    "from sklearn.ensemble import RandomForestClassifier\n",
    "from sklearn.preprocessing import StandardScaler\n",
    "from sklearn.preprocessing import LabelEncoder\n",
    "#import xgboost as xgb\n",
    "#Vectorizer\n",
    "from sklearn.feature_extraction.text import CountVectorizer,TfidfVectorizer\n",
    "from sklearn.naive_bayes import MultinomialNB"
   ]
  },
  {
   "cell_type": "code",
   "execution_count": 607,
   "metadata": {},
   "outputs": [],
   "source": [
    " from sklearn.model_selection import StratifiedKFold\n",
    "folds= StratifiedKFold(n_splits=10,shuffle=True,random_state=42)"
   ]
  },
  {
   "cell_type": "code",
   "execution_count": 608,
   "metadata": {},
   "outputs": [],
   "source": [
    "#from sklearn.model_selection import train_test_split"
   ]
  },
  {
   "cell_type": "code",
   "execution_count": 609,
   "metadata": {},
   "outputs": [],
   "source": [
    "## Features Building"
   ]
  },
  {
   "cell_type": "code",
   "execution_count": 610,
   "metadata": {},
   "outputs": [],
   "source": [
    "Xfeatures=df['Clean_Text']\n",
    "ylabels=df['sentiment']"
   ]
  },
  {
   "cell_type": "code",
   "execution_count": 611,
   "metadata": {},
   "outputs": [
    {
     "data": {
      "text/plain": [
       "0        tiffanylue know listenin bad habit earlier sta...\n",
       "1                        Layin n bed headache ughhhhwaitin\n",
       "2                            Funeral ceremonygloomy friday\n",
       "3                                  wants hang friends SOON\n",
       "4                 dannycastillo want trade Houston tickets\n",
       "                               ...                        \n",
       "39995                                      JohnLloydTaylor\n",
       "39996                               Happy Mothers Day love\n",
       "39997    Happy Mothers Day mommies woman man long youre...\n",
       "39998    niariley WASSUP BEAUTIFUL FOLLOW PEEP NEW HIT ...\n",
       "39999    mopedronin bullet train tokyo gf visiting japa...\n",
       "Name: Clean_Text, Length: 40000, dtype: object"
      ]
     },
     "execution_count": 611,
     "metadata": {},
     "output_type": "execute_result"
    }
   ],
   "source": [
    "Xfeatures"
   ]
  },
  {
   "cell_type": "code",
   "execution_count": 695,
   "metadata": {},
   "outputs": [],
   "source": [
    "#Vectorizer\n",
    "cv=CountVectorizer()\n",
    "#cv=TfidfVectorizer()\n",
    "X=cv.fit_transform(Xfeatures)"
   ]
  },
  {
   "cell_type": "code",
   "execution_count": 696,
   "metadata": {
    "scrolled": true
   },
   "outputs": [
    {
     "data": {
      "text/plain": [
       "['00',\n",
       " '000',\n",
       " '0003',\n",
       " '002',\n",
       " '006',\n",
       " '01',\n",
       " '010',\n",
       " '0128',\n",
       " '01theone',\n",
       " '02',\n",
       " '023',\n",
       " '024',\n",
       " '0255',\n",
       " '03',\n",
       " '04',\n",
       " '0405',\n",
       " '04182012154',\n",
       " '0430',\n",
       " '05',\n",
       " '050',\n",
       " '050809',\n",
       " '0530',\n",
       " '0531',\n",
       " '06',\n",
       " '0600',\n",
       " '062709',\n",
       " '0630',\n",
       " '07',\n",
       " '079',\n",
       " '07i',\n",
       " '08',\n",
       " '080509',\n",
       " '080809',\n",
       " '09',\n",
       " '0909',\n",
       " '0930',\n",
       " '09casper',\n",
       " '0f',\n",
       " '0kenjoy',\n",
       " '0n',\n",
       " '0o',\n",
       " '0omiriamo0',\n",
       " '0oze',\n",
       " '0quot',\n",
       " '0rpm',\n",
       " '0s',\n",
       " '0ut',\n",
       " '0xcafebabe',\n",
       " '10',\n",
       " '100',\n",
       " '1000',\n",
       " '10000',\n",
       " '100000',\n",
       " '10000000000',\n",
       " '100000000000000000000000000000000000',\n",
       " '10000th',\n",
       " '1000th',\n",
       " '1000x',\n",
       " '1008',\n",
       " '100msgsecond',\n",
       " '100rabh',\n",
       " '100th',\n",
       " '100word',\n",
       " '100x',\n",
       " '101',\n",
       " '1010',\n",
       " '1011',\n",
       " '1011pm',\n",
       " '1012',\n",
       " '1015',\n",
       " '1017',\n",
       " '102',\n",
       " '1024',\n",
       " '1027',\n",
       " '1027kiisfm',\n",
       " '1029',\n",
       " '103',\n",
       " '1030',\n",
       " '1030am',\n",
       " '1030lammmeeee',\n",
       " '1030pm',\n",
       " '103ffevered',\n",
       " '104',\n",
       " '1040',\n",
       " '1045',\n",
       " '1045chumfm',\n",
       " '105',\n",
       " '1050i',\n",
       " '1057',\n",
       " '105744',\n",
       " '105all',\n",
       " '106',\n",
       " '106jackfm',\n",
       " '1073',\n",
       " '1075',\n",
       " '108',\n",
       " '109',\n",
       " '1095',\n",
       " '10am',\n",
       " '10and',\n",
       " '10c',\n",
       " '10days',\n",
       " '10dolla',\n",
       " '10gb',\n",
       " '10hour',\n",
       " '10jaffa',\n",
       " '10k',\n",
       " '10m',\n",
       " '10min',\n",
       " '10mins',\n",
       " '10mm',\n",
       " '10p',\n",
       " '10pm',\n",
       " '10th',\n",
       " '10ty',\n",
       " '10veisonitsway',\n",
       " '10yearold',\n",
       " '10yr',\n",
       " '11',\n",
       " '110',\n",
       " '1100',\n",
       " '1102',\n",
       " '1105',\n",
       " '1106',\n",
       " '1109',\n",
       " '111',\n",
       " '1110pm',\n",
       " '1111',\n",
       " '1111make',\n",
       " '1115',\n",
       " '1116',\n",
       " '1118',\n",
       " '111am',\n",
       " '1120now',\n",
       " '113',\n",
       " '1130',\n",
       " '114',\n",
       " '1140',\n",
       " '1145',\n",
       " '115',\n",
       " '1150',\n",
       " '1155hours',\n",
       " '115am',\n",
       " '116',\n",
       " '117th',\n",
       " '118',\n",
       " '11830',\n",
       " '11am',\n",
       " '11e',\n",
       " '11hunabku11',\n",
       " '11pm',\n",
       " '11stupid',\n",
       " '11th',\n",
       " '11yo',\n",
       " '12',\n",
       " '120',\n",
       " '1200',\n",
       " '1202',\n",
       " '1206am',\n",
       " '120amheading',\n",
       " '120mm',\n",
       " '1215',\n",
       " '121908inlove',\n",
       " '1220',\n",
       " '123',\n",
       " '1230',\n",
       " '12306',\n",
       " '1230am',\n",
       " '1230pm',\n",
       " '123243342',\n",
       " '123pricecheck',\n",
       " '1243',\n",
       " '1245',\n",
       " '1245am',\n",
       " '1245pm',\n",
       " '1246am',\n",
       " '125',\n",
       " '1267',\n",
       " '128',\n",
       " '128600',\n",
       " '129',\n",
       " '1299',\n",
       " '12am',\n",
       " '12beat',\n",
       " '12ghz',\n",
       " '12hr',\n",
       " '12k',\n",
       " '12lbs',\n",
       " '12pm',\n",
       " '12s',\n",
       " '12seconds',\n",
       " '12st',\n",
       " '12th',\n",
       " '12thplease',\n",
       " '12yr',\n",
       " '13',\n",
       " '130',\n",
       " '1300',\n",
       " '13055',\n",
       " '130am',\n",
       " '131',\n",
       " '1313',\n",
       " '13155',\n",
       " '13200',\n",
       " '13225',\n",
       " '1330',\n",
       " '13341015518',\n",
       " '135',\n",
       " '13527',\n",
       " '135am',\n",
       " '136',\n",
       " '1386am',\n",
       " '13gig',\n",
       " '13gigs',\n",
       " '13quot',\n",
       " '13riandavis',\n",
       " '13th',\n",
       " '13twelve',\n",
       " '14',\n",
       " '140',\n",
       " '1401',\n",
       " '140lover',\n",
       " '1414',\n",
       " '1424',\n",
       " '142staircases',\n",
       " '143',\n",
       " '143presents',\n",
       " '145',\n",
       " '145km',\n",
       " '147',\n",
       " '147pm',\n",
       " '148',\n",
       " '1488',\n",
       " '14950',\n",
       " '14m',\n",
       " '14mph',\n",
       " '14s',\n",
       " '14th',\n",
       " '14yr',\n",
       " '15',\n",
       " '150',\n",
       " '1500',\n",
       " '1500ft',\n",
       " '1500rpm',\n",
       " '1505',\n",
       " '151',\n",
       " '1520',\n",
       " '153bpm',\n",
       " '155',\n",
       " '156',\n",
       " '15but',\n",
       " '15c',\n",
       " '15gb',\n",
       " '15h30',\n",
       " '15hrs',\n",
       " '15min',\n",
       " '15mins',\n",
       " '15minsofmetal',\n",
       " '15minutes',\n",
       " '15quot',\n",
       " '15tb',\n",
       " '15th',\n",
       " '16',\n",
       " '160',\n",
       " '1600milesaway',\n",
       " '1600th',\n",
       " '160hp',\n",
       " '1620h',\n",
       " '1630',\n",
       " '165',\n",
       " '1667',\n",
       " '167',\n",
       " '168',\n",
       " '16c',\n",
       " '16hes',\n",
       " '16hour',\n",
       " '16k',\n",
       " '16lbs',\n",
       " '16mileycyrus',\n",
       " '16th',\n",
       " '16yo',\n",
       " '17',\n",
       " '1700',\n",
       " '1701no',\n",
       " '170th',\n",
       " '1710',\n",
       " '1720',\n",
       " '1750',\n",
       " '175mths',\n",
       " '177',\n",
       " '17709',\n",
       " '17again',\n",
       " '17lb',\n",
       " '17quot',\n",
       " '17th',\n",
       " '17yearold',\n",
       " '18',\n",
       " '180',\n",
       " '1800',\n",
       " '18000',\n",
       " '181',\n",
       " '182',\n",
       " '1820pm',\n",
       " '1824',\n",
       " '1825remnant',\n",
       " '1828x1556',\n",
       " '182s',\n",
       " '183',\n",
       " '1841',\n",
       " '1842',\n",
       " '186',\n",
       " '187',\n",
       " '18hrs',\n",
       " '18mos',\n",
       " '18s',\n",
       " '18th',\n",
       " '18thh',\n",
       " '19',\n",
       " '190',\n",
       " '1930s',\n",
       " '1939',\n",
       " '194',\n",
       " '1945champions',\n",
       " '1946',\n",
       " '1948',\n",
       " '1960s',\n",
       " '1970s',\n",
       " '1971',\n",
       " '1973',\n",
       " '1975',\n",
       " '198',\n",
       " '1980s',\n",
       " '1984',\n",
       " '1986',\n",
       " '1987',\n",
       " '1991',\n",
       " '1992',\n",
       " '1994',\n",
       " '1995',\n",
       " '1995shand',\n",
       " '1996',\n",
       " '1997',\n",
       " '1999',\n",
       " '19age',\n",
       " '19christopher92',\n",
       " '19femaleatl',\n",
       " '19fischi75',\n",
       " '19th',\n",
       " '1am',\n",
       " '1amand',\n",
       " '1capplegate',\n",
       " '1cor1613',\n",
       " '1critic',\n",
       " '1direction',\n",
       " '1e15',\n",
       " '1fav',\n",
       " '1gb',\n",
       " '1h33mn',\n",
       " '1hour',\n",
       " '1hr',\n",
       " '1jaredpadalecki',\n",
       " '1k',\n",
       " '1km',\n",
       " '1lol',\n",
       " '1m',\n",
       " '1man',\n",
       " '1mgoldstars',\n",
       " '1million',\n",
       " '1minute',\n",
       " '1mo',\n",
       " '1ofmy',\n",
       " '1outside',\n",
       " '1password',\n",
       " '1pendulum',\n",
       " '1pm',\n",
       " '1pmdoesnt',\n",
       " '1s',\n",
       " '1shan',\n",
       " '1st',\n",
       " '1sweetwhirl',\n",
       " '1tb',\n",
       " '1tiffany',\n",
       " '1txsage1957',\n",
       " '1x',\n",
       " '1x2610',\n",
       " '1yeah',\n",
       " '20',\n",
       " '200',\n",
       " '2000',\n",
       " '20000',\n",
       " '20000000',\n",
       " '2001',\n",
       " '2002',\n",
       " '2003',\n",
       " '2005',\n",
       " '2006',\n",
       " '2006amp2007',\n",
       " '2007',\n",
       " '2008',\n",
       " '2008s',\n",
       " '2009',\n",
       " '20092010',\n",
       " '2009quothmmhave',\n",
       " '2009the',\n",
       " '200andsome60',\n",
       " '200f2',\n",
       " '200km',\n",
       " '200lbs',\n",
       " '200m',\n",
       " '2010',\n",
       " '20102011',\n",
       " '2011',\n",
       " '2015',\n",
       " '201th',\n",
       " '202',\n",
       " '2020',\n",
       " '2025',\n",
       " '2026',\n",
       " '2035',\n",
       " '2050',\n",
       " '208',\n",
       " '209205',\n",
       " '20ghz',\n",
       " '20ish',\n",
       " '20min',\n",
       " '20mins',\n",
       " '20somethingnl20somethin',\n",
       " '20th',\n",
       " '20thhmmm',\n",
       " '20xs',\n",
       " '20yes',\n",
       " '20yrs',\n",
       " '21',\n",
       " '214',\n",
       " '2164',\n",
       " '2185',\n",
       " '21five',\n",
       " '21life',\n",
       " '21month',\n",
       " '21st',\n",
       " '21you',\n",
       " '22',\n",
       " '220',\n",
       " '221',\n",
       " '221mo',\n",
       " '222222',\n",
       " '2231',\n",
       " '225',\n",
       " '225quot',\n",
       " '227',\n",
       " '2290',\n",
       " '2296',\n",
       " '22hrs',\n",
       " '22jenny',\n",
       " '22nd',\n",
       " '22quot',\n",
       " '23',\n",
       " '230',\n",
       " '230pm',\n",
       " '234',\n",
       " '2345',\n",
       " '23600',\n",
       " '236am',\n",
       " '237',\n",
       " '238',\n",
       " '238pm',\n",
       " '239k',\n",
       " '23b',\n",
       " '23rd',\n",
       " '23rdany',\n",
       " '24',\n",
       " '240',\n",
       " '242',\n",
       " '242am',\n",
       " '243',\n",
       " '244',\n",
       " '2448',\n",
       " '245am',\n",
       " '247',\n",
       " '247quot',\n",
       " '249',\n",
       " '24hours',\n",
       " '24hr',\n",
       " '24hrs',\n",
       " '24kphotography',\n",
       " '24quot',\n",
       " '24th',\n",
       " '25',\n",
       " '250',\n",
       " '2500',\n",
       " '250e',\n",
       " '250gb',\n",
       " '250gs',\n",
       " '250k',\n",
       " '251',\n",
       " '253',\n",
       " '255',\n",
       " '256',\n",
       " '25c',\n",
       " '25d',\n",
       " '25ft',\n",
       " '25ghz',\n",
       " '25i',\n",
       " '25kyr',\n",
       " '25man',\n",
       " '25mbps',\n",
       " '26',\n",
       " '260',\n",
       " '261c',\n",
       " '2630',\n",
       " '2630rc4',\n",
       " '264',\n",
       " '26498457',\n",
       " '26733333',\n",
       " '2697',\n",
       " '26th',\n",
       " '27',\n",
       " '275',\n",
       " '27th',\n",
       " '28',\n",
       " '280lbsyippee',\n",
       " '2833',\n",
       " '2837',\n",
       " '286',\n",
       " '2888mo',\n",
       " '28c',\n",
       " '28deg',\n",
       " '28doomdoom28',\n",
       " '28th',\n",
       " '29',\n",
       " '291kms',\n",
       " '2923848932',\n",
       " '295',\n",
       " '299',\n",
       " '29ers',\n",
       " '29on',\n",
       " '29th',\n",
       " '29thtonight',\n",
       " '29yr',\n",
       " '2a',\n",
       " '2am',\n",
       " '2amits',\n",
       " '2ampampetc',\n",
       " '2and',\n",
       " '2b',\n",
       " '2cal',\n",
       " '2ce',\n",
       " '2d',\n",
       " '2daii',\n",
       " '2day',\n",
       " '2daybake',\n",
       " '2daybeat',\n",
       " '2dayjust',\n",
       " '2daylets',\n",
       " '2dayme',\n",
       " '2daytrip',\n",
       " '2dayweatherwise',\n",
       " '2dimples2',\n",
       " '2dives',\n",
       " '2do',\n",
       " '2field',\n",
       " '2flutterby',\n",
       " '2for1',\n",
       " '2ft',\n",
       " '2gather',\n",
       " '2getha',\n",
       " '2gether',\n",
       " '2goin',\n",
       " '2goodbyes',\n",
       " '2hear',\n",
       " '2hours',\n",
       " '2hrs',\n",
       " '2indya',\n",
       " '2jobs',\n",
       " '2k',\n",
       " '2k6',\n",
       " '2k9',\n",
       " '2kidsmy',\n",
       " '2l',\n",
       " '2listen',\n",
       " '2lmao',\n",
       " '2m',\n",
       " '2maro',\n",
       " '2mbs',\n",
       " '2me',\n",
       " '2moro',\n",
       " '2morro',\n",
       " '2morrow',\n",
       " '2morrowi',\n",
       " '2morrows',\n",
       " '2moz',\n",
       " '2mrw',\n",
       " '2my',\n",
       " '2mz',\n",
       " '2nd',\n",
       " '2nd30th100th',\n",
       " '2ndary',\n",
       " '2night',\n",
       " '2nightand',\n",
       " '2nit',\n",
       " '2nite',\n",
       " '2niteampi',\n",
       " '2nitei',\n",
       " '2nitex',\n",
       " '2nte',\n",
       " '2nyt',\n",
       " '2oceansvibe',\n",
       " '2oo',\n",
       " '2or',\n",
       " '2orw',\n",
       " '2people',\n",
       " '2pm',\n",
       " '2pm4pm',\n",
       " '2pmagain',\n",
       " '2reading',\n",
       " '2serenity',\n",
       " '2stop',\n",
       " '2tuffdc',\n",
       " '2twitter',\n",
       " '2u2',\n",
       " '2w2v',\n",
       " '2would',\n",
       " '2x',\n",
       " '2x2924',\n",
       " '2year',\n",
       " '2yr',\n",
       " '30',\n",
       " '300',\n",
       " '3000',\n",
       " '3000quot',\n",
       " '300th',\n",
       " '3010',\n",
       " '302',\n",
       " '3040',\n",
       " '306000',\n",
       " '30b5',\n",
       " '30c',\n",
       " '30day',\n",
       " '30mins',\n",
       " '30p',\n",
       " '30rock',\n",
       " '30s',\n",
       " '30sec',\n",
       " '30secondstomars',\n",
       " '30stmfan',\n",
       " '30th',\n",
       " '30yo',\n",
       " '31',\n",
       " '310',\n",
       " '311',\n",
       " '312',\n",
       " '3144',\n",
       " '315',\n",
       " '315pm',\n",
       " '317',\n",
       " '31quot',\n",
       " '31st',\n",
       " '31th',\n",
       " '32',\n",
       " '320',\n",
       " '320gb',\n",
       " '32665',\n",
       " '32mb',\n",
       " '33',\n",
       " '330',\n",
       " '330am',\n",
       " '330p',\n",
       " '330pm',\n",
       " '331',\n",
       " '334',\n",
       " '335',\n",
       " '337',\n",
       " '338am',\n",
       " '34',\n",
       " '3440',\n",
       " '3499',\n",
       " '34mbs',\n",
       " '34s',\n",
       " '34th',\n",
       " '35',\n",
       " '3500',\n",
       " '350am',\n",
       " '35138',\n",
       " '3540',\n",
       " '3550',\n",
       " '355am',\n",
       " '356pm',\n",
       " '35hours',\n",
       " '35mins',\n",
       " '35th',\n",
       " '36',\n",
       " '360',\n",
       " '3630pm',\n",
       " '3647',\n",
       " '365',\n",
       " '365days',\n",
       " '367',\n",
       " '368558682',\n",
       " '37',\n",
       " '371',\n",
       " '374',\n",
       " '38',\n",
       " '3800it',\n",
       " '38th',\n",
       " '39',\n",
       " '3907',\n",
       " '394',\n",
       " '395',\n",
       " '39th',\n",
       " '3aaah',\n",
       " '3alaiiik',\n",
       " '3alexx',\n",
       " '3am',\n",
       " '3aref',\n",
       " '3asa',\n",
       " '3breakupwords',\n",
       " '3bt',\n",
       " '3cb',\n",
       " '3d',\n",
       " '3days',\n",
       " '3ds',\n",
       " '3easy',\n",
       " '3g',\n",
       " '3gguy',\n",
       " '3guser',\n",
       " '3hour',\n",
       " '3hours',\n",
       " '3hrs',\n",
       " '3indi',\n",
       " '3intro',\n",
       " '3it',\n",
       " '3k',\n",
       " '3late',\n",
       " '3lbs',\n",
       " '3magpies',\n",
       " '3mb',\n",
       " '3milk',\n",
       " '3min',\n",
       " '3minds',\n",
       " '3mramr',\n",
       " '3oh3',\n",
       " '3oth',\n",
       " '3pg',\n",
       " '3pm',\n",
       " '3point',\n",
       " '3quot',\n",
       " '3rd',\n",
       " '3rdbrain',\n",
       " '3rdegree09',\n",
       " '3run',\n",
       " '3s',\n",
       " '3shut',\n",
       " '3spur',\n",
       " '3squares',\n",
       " '3stripe',\n",
       " '3then',\n",
       " '3to7',\n",
       " '3v3ry',\n",
       " '3ware',\n",
       " '3wordsaftersex',\n",
       " '3x',\n",
       " '3x2500',\n",
       " '3x3',\n",
       " '3xasif',\n",
       " '3yo',\n",
       " '3yp',\n",
       " '40',\n",
       " '400',\n",
       " '4000',\n",
       " '40000',\n",
       " '400e',\n",
       " '400mb',\n",
       " '400pm',\n",
       " '400th',\n",
       " '401',\n",
       " '404',\n",
       " '40404',\n",
       " '404d',\n",
       " '405',\n",
       " '4050',\n",
       " '409',\n",
       " '4096',\n",
       " '40cm',\n",
       " '40ish',\n",
       " '40k',\n",
       " '40min',\n",
       " '40mins',\n",
       " '40omglol',\n",
       " '40s',\n",
       " '40something',\n",
       " '40th',\n",
       " '41',\n",
       " '410',\n",
       " '41000',\n",
       " '411',\n",
       " '415',\n",
       " '416',\n",
       " '418',\n",
       " '418am',\n",
       " '42',\n",
       " '420',\n",
       " '420thoughts',\n",
       " '425',\n",
       " '42nd',\n",
       " '43',\n",
       " '430',\n",
       " '430845',\n",
       " '430am',\n",
       " '430pm',\n",
       " '43416',\n",
       " '438',\n",
       " '44',\n",
       " '445',\n",
       " '445am',\n",
       " '44secs',\n",
       " '45',\n",
       " '450',\n",
       " '450am',\n",
       " '45h13y',\n",
       " '45th',\n",
       " '46',\n",
       " '460',\n",
       " '461',\n",
       " '47',\n",
       " '47000nice',\n",
       " '47060',\n",
       " '4719',\n",
       " '48',\n",
       " '480',\n",
       " '4817',\n",
       " '483',\n",
       " '4879',\n",
       " '48hours',\n",
       " '48hoursnz',\n",
       " '49er',\n",
       " '4a',\n",
       " '4am',\n",
       " '4amp5',\n",
       " '4boys4now',\n",
       " '4d',\n",
       " '4day',\n",
       " '4days',\n",
       " '4e',\n",
       " '4eva',\n",
       " '4evaafanofpaula',\n",
       " '4ever',\n",
       " '4everbrandy',\n",
       " '4g',\n",
       " '4gb',\n",
       " '4get',\n",
       " '4give',\n",
       " '4got',\n",
       " '4h',\n",
       " '4hour',\n",
       " '4hours',\n",
       " '4hrs',\n",
       " '4idiots',\n",
       " '4ish',\n",
       " '4k',\n",
       " '4km',\n",
       " '4legged',\n",
       " '4listening',\n",
       " '4me',\n",
       " '4more',\n",
       " '4n',\n",
       " '4piece',\n",
       " '4pm',\n",
       " '4real',\n",
       " '4rm',\n",
       " '4rom',\n",
       " '4th',\n",
       " '4the',\n",
       " '4thquot',\n",
       " '4toy',\n",
       " '4u',\n",
       " '4us',\n",
       " '4ut',\n",
       " '4ward',\n",
       " '4weeks',\n",
       " '4x1',\n",
       " '4x4s',\n",
       " '4yearold',\n",
       " '4yr',\n",
       " '50',\n",
       " '500',\n",
       " '5000',\n",
       " '5000th',\n",
       " '500am',\n",
       " '500d',\n",
       " '500kb',\n",
       " '501',\n",
       " '502',\n",
       " '503',\n",
       " '504chucky',\n",
       " '507am',\n",
       " '5085',\n",
       " '50k',\n",
       " '50mm',\n",
       " '50p',\n",
       " '50x',\n",
       " '51',\n",
       " '510am',\n",
       " '512',\n",
       " '515',\n",
       " '516',\n",
       " '518',\n",
       " '51p',\n",
       " '52',\n",
       " '522',\n",
       " '525',\n",
       " '525600',\n",
       " '528',\n",
       " '53',\n",
       " '530',\n",
       " '530am',\n",
       " '530i',\n",
       " '530p',\n",
       " '530pm',\n",
       " '531',\n",
       " '5350',\n",
       " '539',\n",
       " '539not',\n",
       " '54',\n",
       " '5405',\n",
       " '5409',\n",
       " '545',\n",
       " '545am',\n",
       " '546',\n",
       " '5468',\n",
       " '547days',\n",
       " '54pqa',\n",
       " '54quot',\n",
       " '55',\n",
       " '550',\n",
       " '5500',\n",
       " '5529634599',\n",
       " '554',\n",
       " '555',\n",
       " '556',\n",
       " '557am',\n",
       " '55c',\n",
       " '56',\n",
       " '57',\n",
       " '58',\n",
       " '58quot',\n",
       " '59',\n",
       " '590',\n",
       " '5900',\n",
       " '599',\n",
       " '5am',\n",
       " '5and',\n",
       " '5d',\n",
       " '5daysl',\n",
       " '5drawer',\n",
       " '5figuretweeter',\n",
       " '5ish',\n",
       " '5jb',\n",
       " '5k',\n",
       " '5km',\n",
       " '5mins',\n",
       " '5mm',\n",
       " '5oclock',\n",
       " '5plus',\n",
       " '5pm',\n",
       " '5pmvisiting',\n",
       " '5quot',\n",
       " '5s',\n",
       " '5sec',\n",
       " '5t3rnch3n',\n",
       " '5th',\n",
       " '5why',\n",
       " '60',\n",
       " '600',\n",
       " '60000',\n",
       " '600k',\n",
       " '600mile',\n",
       " '600th',\n",
       " '6040',\n",
       " '605',\n",
       " '60660',\n",
       " '60gb',\n",
       " '60hrs',\n",
       " '60k',\n",
       " '60minsnobigdeal',\n",
       " '60s',\n",
       " '60th',\n",
       " '61',\n",
       " '610',\n",
       " '612',\n",
       " '613',\n",
       " '61322',\n",
       " '614',\n",
       " '615',\n",
       " '6172622220',\n",
       " '620',\n",
       " '62023',\n",
       " '626',\n",
       " '626aicitrom',\n",
       " '629',\n",
       " '63',\n",
       " ...]"
      ]
     },
     "execution_count": 696,
     "metadata": {},
     "output_type": "execute_result"
    }
   ],
   "source": [
    "# Get Features by Name\n",
    "cv.get_feature_names()"
   ]
  },
  {
   "cell_type": "code",
   "execution_count": 697,
   "metadata": {},
   "outputs": [],
   "source": [
    "X=X.toarray()"
   ]
  },
  {
   "cell_type": "code",
   "execution_count": 698,
   "metadata": {},
   "outputs": [],
   "source": [
    "for train_index, test_index in folds.split(X,ylabels):\n",
    "    X_train,X_test, y_train,y_test = X[train_index],X[test_index],\\\n",
    "                                     ylabels[train_index],ylabels[test_index]"
   ]
  },
  {
   "cell_type": "code",
   "execution_count": 718,
   "metadata": {},
   "outputs": [
    {
     "data": {
      "text/plain": [
       "MultinomialNB()"
      ]
     },
     "execution_count": 718,
     "metadata": {},
     "output_type": "execute_result"
    }
   ],
   "source": [
    "#model = xgb.XGBClassifier()\n",
    "#model = SGDClassifier(loss='modified_huber', random_state=101)\n",
    "#model = LogisticRegression()\n",
    "#model = SVC()\n",
    "#, oob_score = True, n_jobs=1, random_state=101, max_features=None, min_samples_leaf=30) RANDOM FOREST\n",
    "#model= RandomForestClassifier(n_estimators=50)\n",
    "\n",
    "#model = DecisionTreeClassifier(max_depth=10, random_state=101, max_features = None, min_samples_leaf = 15)\n",
    "#model = LinearDiscriminantAnalysis()\n",
    "#model = GaussianNB()\n",
    "model = MultinomialNB()\n",
    "#model = lgb.LGBMClassifier(min_child_weight= 0.1,num_iterations=1000, max_bin = 200,min_split_gain= 0.01,max_depth= 100, num_leaves=110, learning_rate=0.01,verbosity= -1,)\n",
    "model.fit(X_train,y_train)\n"
   ]
  },
  {
   "cell_type": "code",
   "execution_count": 719,
   "metadata": {},
   "outputs": [
    {
     "data": {
      "text/plain": [
       "0.31575"
      ]
     },
     "execution_count": 719,
     "metadata": {},
     "output_type": "execute_result"
    }
   ],
   "source": [
    "model.score(X_test,y_test)"
   ]
  },
  {
   "cell_type": "code",
   "execution_count": 720,
   "metadata": {},
   "outputs": [],
   "source": [
    "#predictions\n",
    "y_pred_for_model=model.predict(X_test)"
   ]
  },
  {
   "cell_type": "code",
   "execution_count": 721,
   "metadata": {},
   "outputs": [
    {
     "data": {
      "text/plain": [
       "array(['worry', 'sadness', 'worry', ..., 'neutral', 'neutral', 'love'],\n",
       "      dtype='<U10')"
      ]
     },
     "execution_count": 721,
     "metadata": {},
     "output_type": "execute_result"
    }
   ],
   "source": [
    "y_pred_for_model"
   ]
  },
  {
   "cell_type": "code",
   "execution_count": 722,
   "metadata": {},
   "outputs": [],
   "source": [
    "sample_text=['I love machine learning ']"
   ]
  },
  {
   "cell_type": "code",
   "execution_count": 723,
   "metadata": {},
   "outputs": [],
   "source": [
    "vect=cv.transform(sample_text).toarray()"
   ]
  },
  {
   "cell_type": "code",
   "execution_count": 724,
   "metadata": {},
   "outputs": [
    {
     "data": {
      "text/plain": [
       "array(['neutral'], dtype='<U10')"
      ]
     },
     "execution_count": 724,
     "metadata": {},
     "output_type": "execute_result"
    }
   ],
   "source": [
    "model.predict(vect)"
   ]
  },
  {
   "cell_type": "code",
   "execution_count": 725,
   "metadata": {},
   "outputs": [
    {
     "data": {
      "text/plain": [
       "array([[5.73136624e-06, 1.36485679e-05, 8.81688907e-05, 3.50353230e-04,\n",
       "        1.88803630e-02, 1.37895066e-01, 1.08471771e-03, 5.14975330e-02,\n",
       "        4.39041783e-01, 9.15105685e-03, 2.95135785e-02, 2.87886037e-02,\n",
       "        2.83689396e-01]])"
      ]
     },
     "execution_count": 725,
     "metadata": {},
     "output_type": "execute_result"
    }
   ],
   "source": [
    "#prediction probability\n",
    "model.predict_proba(vect)"
   ]
  },
  {
   "cell_type": "code",
   "execution_count": 726,
   "metadata": {},
   "outputs": [
    {
     "data": {
      "text/plain": [
       "array(['anger', 'boredom', 'empty', 'enthusiasm', 'fun', 'happiness',\n",
       "       'hate', 'love', 'neutral', 'relief', 'sadness', 'surprise',\n",
       "       'worry'], dtype='<U10')"
      ]
     },
     "execution_count": 726,
     "metadata": {},
     "output_type": "execute_result"
    }
   ],
   "source": [
    "model.classes_"
   ]
  },
  {
   "cell_type": "code",
   "execution_count": 727,
   "metadata": {},
   "outputs": [
    {
     "data": {
      "text/plain": [
       "0.4390417826190148"
      ]
     },
     "execution_count": 727,
     "metadata": {},
     "output_type": "execute_result"
    }
   ],
   "source": [
    "np.max(model.predict_proba(vect))"
   ]
  },
  {
   "cell_type": "code",
   "execution_count": 728,
   "metadata": {},
   "outputs": [],
   "source": [
    "def predict_emotion(sample_text,model):\n",
    "    myvect=cv.transform(sample_text).toarray()\n",
    "    prediction= model.predict(myvect)\n",
    "    pred_proba=model.predict_proba(myvect)\n",
    "    pred_per_for_all= dict(zip(model.classes_,pred_proba[0]))\n",
    "    print(\"predicition:{}, Prediction Score:{}\".format(prediction[0],np.max(pred_proba)))\n",
    "   \n",
    "    return  pred_per_for_all"
   ]
  },
  {
   "cell_type": "code",
   "execution_count": null,
   "metadata": {},
   "outputs": [],
   "source": []
  },
  {
   "cell_type": "code",
   "execution_count": 729,
   "metadata": {},
   "outputs": [
    {
     "name": "stdout",
     "output_type": "stream",
     "text": [
      "predicition:neutral, Prediction Score:0.4390417826190148\n"
     ]
    },
    {
     "data": {
      "text/plain": [
       "{'anger': 5.731366238423366e-06,\n",
       " 'boredom': 1.3648567906580205e-05,\n",
       " 'empty': 8.816889068667964e-05,\n",
       " 'enthusiasm': 0.0003503532300256296,\n",
       " 'fun': 0.01888036303186816,\n",
       " 'happiness': 0.13789506623244824,\n",
       " 'hate': 0.001084717710156632,\n",
       " 'love': 0.0514975329844795,\n",
       " 'neutral': 0.4390417826190148,\n",
       " 'relief': 0.009151056845987271,\n",
       " 'sadness': 0.02951357847557003,\n",
       " 'surprise': 0.02878860367403657,\n",
       " 'worry': 0.2836893963715827}"
      ]
     },
     "execution_count": 729,
     "metadata": {},
     "output_type": "execute_result"
    }
   ],
   "source": [
    "predict_emotion(sample_text,model)"
   ]
  },
  {
   "cell_type": "code",
   "execution_count": 730,
   "metadata": {},
   "outputs": [
    {
     "name": "stdout",
     "output_type": "stream",
     "text": [
      "predicition:worry, Prediction Score:0.49911877877567157\n"
     ]
    },
    {
     "data": {
      "text/plain": [
       "{'anger': 1.6109290421813325e-05,\n",
       " 'boredom': 2.5574907750607876e-05,\n",
       " 'empty': 0.00019825475562441878,\n",
       " 'enthusiasm': 0.0002685671839321653,\n",
       " 'fun': 0.0032490303290780773,\n",
       " 'happiness': 0.011201879047170044,\n",
       " 'hate': 0.04674891739115252,\n",
       " 'love': 0.0033274797222548583,\n",
       " 'neutral': 0.35432412818935505,\n",
       " 'relief': 0.0037640631144483104,\n",
       " 'sadness': 0.06427107925522006,\n",
       " 'surprise': 0.013486138037920772,\n",
       " 'worry': 0.49911877877567157}"
      ]
     },
     "execution_count": 730,
     "metadata": {},
     "output_type": "execute_result"
    }
   ],
   "source": [
    "predict_emotion([\"I hate Machine learning\"],model)"
   ]
  },
  {
   "cell_type": "code",
   "execution_count": 731,
   "metadata": {},
   "outputs": [
    {
     "name": "stdout",
     "output_type": "stream",
     "text": [
      "predicition:love, Prediction Score:0.3661676819050203\n"
     ]
    },
    {
     "data": {
      "text/plain": [
       "{'anger': 1.0867270556072047e-05,\n",
       " 'boredom': 1.2939556989864478e-05,\n",
       " 'empty': 0.00033435489894097616,\n",
       " 'enthusiasm': 0.0004982298088923427,\n",
       " 'fun': 0.03341253569920876,\n",
       " 'happiness': 0.16210736097974254,\n",
       " 'hate': 0.0015425537746403637,\n",
       " 'love': 0.3661676819050203,\n",
       " 'neutral': 0.1169584819026944,\n",
       " 'relief': 0.0028918936742819705,\n",
       " 'sadness': 0.05596083534527562,\n",
       " 'surprise': 0.039423371870147425,\n",
       " 'worry': 0.22067889331360938}"
      ]
     },
     "execution_count": 731,
     "metadata": {},
     "output_type": "execute_result"
    }
   ],
   "source": [
    "predict_emotion([\"I love playing cricket\"],model)"
   ]
  },
  {
   "cell_type": "code",
   "execution_count": 732,
   "metadata": {},
   "outputs": [
    {
     "name": "stdout",
     "output_type": "stream",
     "text": [
      "predicition:worry, Prediction Score:0.7864633199059577\n"
     ]
    },
    {
     "data": {
      "text/plain": [
       "{'anger': 0.00017693390589286639,\n",
       " 'boredom': 0.00028316075947207005,\n",
       " 'empty': 0.0017464419495245695,\n",
       " 'enthusiasm': 0.0005283800665498516,\n",
       " 'fun': 0.007718178299427882,\n",
       " 'happiness': 0.0031902018902973932,\n",
       " 'hate': 0.00883413765194282,\n",
       " 'love': 0.011770059415319865,\n",
       " 'neutral': 0.05724551462249015,\n",
       " 'relief': 0.0008959229558554086,\n",
       " 'sadness': 0.11773647614847732,\n",
       " 'surprise': 0.003411272428793235,\n",
       " 'worry': 0.7864633199059577}"
      ]
     },
     "execution_count": 732,
     "metadata": {},
     "output_type": "execute_result"
    }
   ],
   "source": [
    "predict_emotion([\"i am afraid he will kill me\"],model)"
   ]
  },
  {
   "cell_type": "code",
   "execution_count": 733,
   "metadata": {},
   "outputs": [
    {
     "name": "stdout",
     "output_type": "stream",
     "text": [
      "              precision    recall  f1-score   support\n",
      "\n",
      "       anger       0.00      0.00      0.00        11\n",
      "     boredom       0.00      0.00      0.00        18\n",
      "       empty       0.00      0.00      0.00        82\n",
      "  enthusiasm       0.00      0.00      0.00        76\n",
      "         fun       0.00      0.00      0.00       178\n",
      "   happiness       0.33      0.35      0.34       521\n",
      "        hate       0.25      0.01      0.01       132\n",
      "        love       0.48      0.30      0.37       384\n",
      "     neutral       0.35      0.39      0.37       863\n",
      "      relief       0.00      0.00      0.00       153\n",
      "     sadness       0.29      0.14      0.19       517\n",
      "    surprise       0.00      0.00      0.00       219\n",
      "       worry       0.28      0.66      0.39       846\n",
      "\n",
      "    accuracy                           0.32      4000\n",
      "   macro avg       0.15      0.14      0.13      4000\n",
      "weighted avg       0.27      0.32      0.27      4000\n",
      "\n"
     ]
    },
    {
     "name": "stderr",
     "output_type": "stream",
     "text": [
      "D:\\Anaconda\\lib\\site-packages\\sklearn\\metrics\\_classification.py:1248: UndefinedMetricWarning: Precision and F-score are ill-defined and being set to 0.0 in labels with no predicted samples. Use `zero_division` parameter to control this behavior.\n",
      "  _warn_prf(average, modifier, msg_start, len(result))\n",
      "D:\\Anaconda\\lib\\site-packages\\sklearn\\metrics\\_classification.py:1248: UndefinedMetricWarning: Precision and F-score are ill-defined and being set to 0.0 in labels with no predicted samples. Use `zero_division` parameter to control this behavior.\n",
      "  _warn_prf(average, modifier, msg_start, len(result))\n",
      "D:\\Anaconda\\lib\\site-packages\\sklearn\\metrics\\_classification.py:1248: UndefinedMetricWarning: Precision and F-score are ill-defined and being set to 0.0 in labels with no predicted samples. Use `zero_division` parameter to control this behavior.\n",
      "  _warn_prf(average, modifier, msg_start, len(result))\n"
     ]
    }
   ],
   "source": [
    "print(classification_report(y_test,y_pred_for_model))"
   ]
  },
  {
   "cell_type": "code",
   "execution_count": 734,
   "metadata": {},
   "outputs": [
    {
     "data": {
      "text/plain": [
       "array([[  0,   0,   0,   0,   1,   0,   0,   0,   1,   0,   1,   0,   8],\n",
       "       [  0,   0,   0,   0,   0,   1,   0,   0,   3,   0,   4,   0,  10],\n",
       "       [  0,   0,   0,   0,   0,   5,   0,   2,  31,   0,   3,   0,  41],\n",
       "       [  0,   0,   0,   0,   0,  16,   0,   3,  17,   0,   3,   0,  37],\n",
       "       [  0,   0,   0,   0,   0,  51,   0,   6,  46,   0,   3,   0,  72],\n",
       "       [  0,   0,   0,   0,   2, 183,   1,  37, 106,   1,  14,   1, 176],\n",
       "       [  0,   0,   0,   0,   0,   2,   1,   4,  18,   0,  17,   1,  89],\n",
       "       [  0,   0,   0,   0,   0,  88,   0, 115,  64,   0,   8,   2, 107],\n",
       "       [  0,   0,   0,   1,   0,  81,   0,  32, 333,   2,  41,   0, 373],\n",
       "       [  0,   0,   0,   0,   0,  28,   0,   9,  41,   0,   9,   0,  66],\n",
       "       [  0,   0,   0,   0,   0,  18,   2,   2,  73,   0,  71,   0, 351],\n",
       "       [  0,   0,   0,   0,   0,  41,   0,  11,  46,   0,  10,   0, 111],\n",
       "       [  0,   0,   0,   0,   1,  38,   0,  18, 162,   1,  64,   2, 560]],\n",
       "      dtype=int64)"
      ]
     },
     "execution_count": 734,
     "metadata": {},
     "output_type": "execute_result"
    }
   ],
   "source": [
    "confusion_matrix(y_test,y_pred_for_model)"
   ]
  },
  {
   "cell_type": "code",
   "execution_count": 735,
   "metadata": {},
   "outputs": [
    {
     "data": {
      "text/plain": [
       "<sklearn.metrics._plot.confusion_matrix.ConfusionMatrixDisplay at 0x1f09ec1f190>"
      ]
     },
     "execution_count": 735,
     "metadata": {},
     "output_type": "execute_result"
    },
    {
     "data": {
      "image/png": "[encoded data removed]",
      "text/plain": [
       "<Figure size 432x288 with 2 Axes>"
      ]
     },
     "metadata": {
      "needs_background": "light"
     },
     "output_type": "display_data"
    }
   ],
   "source": [
    "plot_confusion_matrix(model,X_test,y_test)"
   ]
  },
  {
   "cell_type": "code",
   "execution_count": 736,
   "metadata": {},
   "outputs": [
    {
     "data": {
      "text/plain": [
       "0.6225020339250781"
      ]
     },
     "execution_count": 736,
     "metadata": {},
     "output_type": "execute_result"
    }
   ],
   "source": [
    "import sklearn.metrics as metrics\n",
    "from sklearn import metrics\n",
    "from sklearn.metrics import roc_auc_score\n",
    "\n",
    "y_pred = model.predict_proba(X_test)\n",
    "#preds = probs[:,1]\n",
    "\n",
    "roc_auc_score(y_test,y_pred,multi_class=\"ovr\")\n",
    "\n"
   ]
  },
  {
   "cell_type": "code",
   "execution_count": 694,
   "metadata": {},
   "outputs": [],
   "source": [
    "\n",
    "\n",
    "from scipy import interp\n",
    "import matplotlib.pyplot as plt\n",
    "from sklearn.metrics import roc_curve, auc\n",
    "# Learn to predict each class against the other\n",
    "\n",
    "new_label = ['sad','anger','happy','fear','surprise','shame','disgust']\n",
    "final_label = new_label\n",
    "new_class = 7\n",
    "\n",
    "y_pred_ravel = y_pred.ravel()\n",
    "lw = 2"
   ]
  },
  {
   "cell_type": "code",
   "execution_count": 403,
   "metadata": {},
   "outputs": [
    {
     "ename": "KeyError",
     "evalue": "'key of type tuple not found and not a MultiIndex'",
     "output_type": "error",
     "traceback": [
      "\u001b[1;31m---------------------------------------------------------------------------\u001b[0m",
      "\u001b[1;31mKeyError\u001b[0m                                  Traceback (most recent call last)",
      "\u001b[1;32m~\\AppData\\Local\\Temp/ipykernel_6364/1723139702.py\u001b[0m in \u001b[0;36m<module>\u001b[1;34m\u001b[0m\n\u001b[0;32m      4\u001b[0m \u001b[1;33m\u001b[0m\u001b[0m\n\u001b[0;32m      5\u001b[0m \u001b[1;32mfor\u001b[0m \u001b[0mi\u001b[0m \u001b[1;32min\u001b[0m \u001b[0mrange\u001b[0m\u001b[1;33m(\u001b[0m\u001b[0mnew_class\u001b[0m\u001b[1;33m)\u001b[0m\u001b[1;33m:\u001b[0m\u001b[1;33m\u001b[0m\u001b[1;33m\u001b[0m\u001b[0m\n\u001b[1;32m----> 6\u001b[1;33m     \u001b[0mfpr\u001b[0m\u001b[1;33m[\u001b[0m\u001b[0mi\u001b[0m\u001b[1;33m]\u001b[0m\u001b[1;33m,\u001b[0m \u001b[0mtpr\u001b[0m\u001b[1;33m[\u001b[0m\u001b[0mi\u001b[0m\u001b[1;33m]\u001b[0m\u001b[1;33m,\u001b[0m \u001b[0m_\u001b[0m \u001b[1;33m=\u001b[0m \u001b[0mroc_curve\u001b[0m\u001b[1;33m(\u001b[0m\u001b[0my_test\u001b[0m\u001b[1;33m[\u001b[0m\u001b[1;33m:\u001b[0m\u001b[1;33m,\u001b[0m\u001b[0mi\u001b[0m\u001b[1;33m]\u001b[0m\u001b[1;33m,\u001b[0m \u001b[0my_pred\u001b[0m\u001b[1;33m[\u001b[0m\u001b[1;33m:\u001b[0m\u001b[1;33m,\u001b[0m\u001b[0mi\u001b[0m\u001b[1;33m]\u001b[0m\u001b[1;33m)\u001b[0m\u001b[1;33m\u001b[0m\u001b[1;33m\u001b[0m\u001b[0m\n\u001b[0m\u001b[0;32m      7\u001b[0m     \u001b[0mroc_auc\u001b[0m\u001b[1;33m[\u001b[0m\u001b[0mi\u001b[0m\u001b[1;33m]\u001b[0m \u001b[1;33m=\u001b[0m \u001b[0mauc\u001b[0m\u001b[1;33m(\u001b[0m\u001b[0mfpr\u001b[0m\u001b[1;33m[\u001b[0m\u001b[0mi\u001b[0m\u001b[1;33m]\u001b[0m\u001b[1;33m,\u001b[0m \u001b[0mtpr\u001b[0m\u001b[1;33m[\u001b[0m\u001b[0mi\u001b[0m\u001b[1;33m]\u001b[0m\u001b[1;33m)\u001b[0m\u001b[1;33m\u001b[0m\u001b[1;33m\u001b[0m\u001b[0m\n\u001b[0;32m      8\u001b[0m \u001b[1;33m\u001b[0m\u001b[0m\n",
      "\u001b[1;32mD:\\Anaconda\\lib\\site-packages\\pandas\\core\\series.py\u001b[0m in \u001b[0;36m__getitem__\u001b[1;34m(self, key)\u001b[0m\n\u001b[0;32m    964\u001b[0m             \u001b[1;32mreturn\u001b[0m \u001b[0mself\u001b[0m\u001b[1;33m.\u001b[0m\u001b[0m_get_values\u001b[0m\u001b[1;33m(\u001b[0m\u001b[0mkey\u001b[0m\u001b[1;33m)\u001b[0m\u001b[1;33m\u001b[0m\u001b[1;33m\u001b[0m\u001b[0m\n\u001b[0;32m    965\u001b[0m \u001b[1;33m\u001b[0m\u001b[0m\n\u001b[1;32m--> 966\u001b[1;33m         \u001b[1;32mreturn\u001b[0m \u001b[0mself\u001b[0m\u001b[1;33m.\u001b[0m\u001b[0m_get_with\u001b[0m\u001b[1;33m(\u001b[0m\u001b[0mkey\u001b[0m\u001b[1;33m)\u001b[0m\u001b[1;33m\u001b[0m\u001b[1;33m\u001b[0m\u001b[0m\n\u001b[0m\u001b[0;32m    967\u001b[0m \u001b[1;33m\u001b[0m\u001b[0m\n\u001b[0;32m    968\u001b[0m     \u001b[1;32mdef\u001b[0m \u001b[0m_get_with\u001b[0m\u001b[1;33m(\u001b[0m\u001b[0mself\u001b[0m\u001b[1;33m,\u001b[0m \u001b[0mkey\u001b[0m\u001b[1;33m)\u001b[0m\u001b[1;33m:\u001b[0m\u001b[1;33m\u001b[0m\u001b[1;33m\u001b[0m\u001b[0m\n",
      "\u001b[1;32mD:\\Anaconda\\lib\\site-packages\\pandas\\core\\series.py\u001b[0m in \u001b[0;36m_get_with\u001b[1;34m(self, key)\u001b[0m\n\u001b[0;32m    979\u001b[0m             )\n\u001b[0;32m    980\u001b[0m         \u001b[1;32melif\u001b[0m \u001b[0misinstance\u001b[0m\u001b[1;33m(\u001b[0m\u001b[0mkey\u001b[0m\u001b[1;33m,\u001b[0m \u001b[0mtuple\u001b[0m\u001b[1;33m)\u001b[0m\u001b[1;33m:\u001b[0m\u001b[1;33m\u001b[0m\u001b[1;33m\u001b[0m\u001b[0m\n\u001b[1;32m--> 981\u001b[1;33m             \u001b[1;32mreturn\u001b[0m \u001b[0mself\u001b[0m\u001b[1;33m.\u001b[0m\u001b[0m_get_values_tuple\u001b[0m\u001b[1;33m(\u001b[0m\u001b[0mkey\u001b[0m\u001b[1;33m)\u001b[0m\u001b[1;33m\u001b[0m\u001b[1;33m\u001b[0m\u001b[0m\n\u001b[0m\u001b[0;32m    982\u001b[0m \u001b[1;33m\u001b[0m\u001b[0m\n\u001b[0;32m    983\u001b[0m         \u001b[1;32melif\u001b[0m \u001b[1;32mnot\u001b[0m \u001b[0mis_list_like\u001b[0m\u001b[1;33m(\u001b[0m\u001b[0mkey\u001b[0m\u001b[1;33m)\u001b[0m\u001b[1;33m:\u001b[0m\u001b[1;33m\u001b[0m\u001b[1;33m\u001b[0m\u001b[0m\n",
      "\u001b[1;32mD:\\Anaconda\\lib\\site-packages\\pandas\\core\\series.py\u001b[0m in \u001b[0;36m_get_values_tuple\u001b[1;34m(self, key)\u001b[0m\n\u001b[0;32m   1014\u001b[0m \u001b[1;33m\u001b[0m\u001b[0m\n\u001b[0;32m   1015\u001b[0m         \u001b[1;32mif\u001b[0m \u001b[1;32mnot\u001b[0m \u001b[0misinstance\u001b[0m\u001b[1;33m(\u001b[0m\u001b[0mself\u001b[0m\u001b[1;33m.\u001b[0m\u001b[0mindex\u001b[0m\u001b[1;33m,\u001b[0m \u001b[0mMultiIndex\u001b[0m\u001b[1;33m)\u001b[0m\u001b[1;33m:\u001b[0m\u001b[1;33m\u001b[0m\u001b[1;33m\u001b[0m\u001b[0m\n\u001b[1;32m-> 1016\u001b[1;33m             \u001b[1;32mraise\u001b[0m \u001b[0mKeyError\u001b[0m\u001b[1;33m(\u001b[0m\u001b[1;34m\"key of type tuple not found and not a MultiIndex\"\u001b[0m\u001b[1;33m)\u001b[0m\u001b[1;33m\u001b[0m\u001b[1;33m\u001b[0m\u001b[0m\n\u001b[0m\u001b[0;32m   1017\u001b[0m \u001b[1;33m\u001b[0m\u001b[0m\n\u001b[0;32m   1018\u001b[0m         \u001b[1;31m# If key is contained, would have returned by now\u001b[0m\u001b[1;33m\u001b[0m\u001b[1;33m\u001b[0m\u001b[0m\n",
      "\u001b[1;31mKeyError\u001b[0m: 'key of type tuple not found and not a MultiIndex'"
     ]
    }
   ],
   "source": [
    "fpr = dict()\n",
    "tpr = dict()\n",
    "roc_auc = dict()\n",
    "\n",
    "for i in range(new_class):\n",
    "    fpr[i], tpr[i], _ = roc_curve(y_test[:,i], y_pred[:,i])\n",
    "    roc_auc[i] = auc(fpr[i], tpr[i])\n",
    "    \n",
    "#colors = cycle(['red', 'green','black'])\n",
    "colors = cycle(['red', 'green','black','blue', 'yellow','purple','orange'])\n",
    "for i, color in zip(range(new_class), colors):\n",
    "    plt.plot(fpr[i], tpr[i], color=color, lw=lw,\n",
    "             label='ROC curve of class {0}'''.format(final_label[i]))\n",
    "    \n",
    "\n",
    "plt.plot([0, 1], [0, 1], 'k--', lw=lw)\n",
    "plt.xlim([0, 1.0])\n",
    "plt.ylim([0.0, 1.05])\n",
    "plt.xlabel('False Positive Rate')\n",
    "plt.ylabel('True Positive Rate')\n",
    "plt.title('Receiver Operating Characteristic')\n",
    "plt.legend(loc=\"lower right\")\n",
    "plt.show()\n",
    "\n",
    "\n",
    "\n",
    "\n",
    "\n",
    "\n",
    "\n",
    "\n",
    "\n"
   ]
  },
  {
   "cell_type": "code",
   "execution_count": 81,
   "metadata": {},
   "outputs": [
    {
     "ename": "NameError",
     "evalue": "name 'dt_gini_score' is not defined",
     "output_type": "error",
     "traceback": [
      "\u001b[1;31m---------------------------------------------------------------------------\u001b[0m",
      "\u001b[1;31mNameError\u001b[0m                                 Traceback (most recent call last)",
      "\u001b[1;32m~\\AppData\\Local\\Temp/ipykernel_9664/631378691.py\u001b[0m in \u001b[0;36m<module>\u001b[1;34m\u001b[0m\n\u001b[1;32m----> 1\u001b[1;33m \u001b[0mplot_roc\u001b[0m\u001b[1;33m(\u001b[0m\u001b[0my_test\u001b[0m\u001b[1;33m,\u001b[0m \u001b[0mdt_gini_score\u001b[0m\u001b[1;33m)\u001b[0m\u001b[1;33m\u001b[0m\u001b[1;33m\u001b[0m\u001b[0m\n\u001b[0m",
      "\u001b[1;31mNameError\u001b[0m: name 'dt_gini_score' is not defined"
     ]
    }
   ],
   "source": []
  },
  {
   "cell_type": "code",
   "execution_count": null,
   "metadata": {},
   "outputs": [],
   "source": []
  }
 ],
 "metadata": {
  "kernelspec": {
   "display_name": "Python 3 (ipykernel)",
   "language": "python",
   "name": "python3"
  },
  "language_info": {
   "codemirror_mode": {
    "name": "ipython",
    "version": 3
   },
   "file_extension": ".py",
   "mimetype": "text/x-python",
   "name": "python",
   "nbconvert_exporter": "python",
   "pygments_lexer": "ipython3",
   "version": "3.9.7"
  }
 },
 "nbformat": 4,
 "nbformat_minor": 4
}
