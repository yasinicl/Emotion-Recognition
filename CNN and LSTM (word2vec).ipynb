{
 "cells": [
  {
   "cell_type": "code",
   "execution_count": 65,
   "id": "b10f6abb",
   "metadata": {},
   "outputs": [],
   "source": [
    "import pandas as pd\n",
    "import numpy as np\n",
    "\n",
    "# text preprocessing\n",
    "from nltk.tokenize import word_tokenize\n",
    "import re\n",
    "import neattext.functions as nfx\n",
    "# plots and metrics\n",
    "import matplotlib.pyplot as plt\n",
    "from sklearn.metrics import accuracy_score, f1_score, confusion_matrix\n",
    "\n",
    "# preparing input to our model\n",
    "from keras.preprocessing.text import Tokenizer\n",
    "from keras.preprocessing.sequence import pad_sequences\n",
    "from tensorflow.keras.utils import to_categorical\n",
    "\n",
    "# keras layers\n",
    "from keras.models import Sequential\n",
    "from keras.layers import Embedding, Conv1D, GlobalMaxPooling1D, Dense\n"
   ]
  },
  {
   "cell_type": "code",
   "execution_count": 66,
   "id": "e0535d19",
   "metadata": {},
   "outputs": [],
   "source": [
    "\n",
    "\n",
    "\n",
    "# Number of dimensions for word embedding\n",
    "embed_num_dims = 300\n",
    "\n",
    "# Max input length (max number of words) \n",
    "max_seq_len = 80\n",
    "\n"
   ]
  },
  {
   "cell_type": "code",
   "execution_count": 67,
   "id": "98b520f4",
   "metadata": {},
   "outputs": [],
   "source": [
    "#data=pd.read_csv('dataset/isear.csv')\n",
    "#data=pd.read_csv('dataset/dailydialog.csv')\n",
    "data=pd.read_csv('dataset/emotion-stimulus.csv')\n",
    "#data=pd.read_csv('dataset/text_emotion.csv')"
   ]
  },
  {
   "cell_type": "code",
   "execution_count": 68,
   "id": "c49c7114",
   "metadata": {},
   "outputs": [
    {
     "data": {
      "text/plain": [
       "sad         575\n",
       "anger       483\n",
       "happy       479\n",
       "fear        423\n",
       "surprise    213\n",
       "shame       146\n",
       "disgust      95\n",
       "Name: Emotion, dtype: int64"
      ]
     },
     "execution_count": 68,
     "metadata": {},
     "output_type": "execute_result"
    }
   ],
   "source": [
    "data['Emotion'].value_counts()"
   ]
  },
  {
   "cell_type": "code",
   "execution_count": 69,
   "id": "91968eb7",
   "metadata": {},
   "outputs": [
    {
     "data": {
      "text/plain": [
       "['BTC_ADDRESS_REGEX',\n",
       " 'CURRENCY_REGEX',\n",
       " 'CURRENCY_SYMB_REGEX',\n",
       " 'Counter',\n",
       " 'DATE_REGEX',\n",
       " 'EMAIL_REGEX',\n",
       " 'EMOJI_REGEX',\n",
       " 'HASTAG_REGEX',\n",
       " 'MASTERCard_REGEX',\n",
       " 'MD5_SHA_REGEX',\n",
       " 'MOST_COMMON_PUNCT_REGEX',\n",
       " 'NUMBERS_REGEX',\n",
       " 'PHONE_REGEX',\n",
       " 'PoBOX_REGEX',\n",
       " 'SPECIAL_CHARACTERS_REGEX',\n",
       " 'STOPWORDS',\n",
       " 'STOPWORDS_de',\n",
       " 'STOPWORDS_en',\n",
       " 'STOPWORDS_es',\n",
       " 'STOPWORDS_fr',\n",
       " 'STOPWORDS_ru',\n",
       " 'STOPWORDS_yo',\n",
       " 'STREET_ADDRESS_REGEX',\n",
       " 'TextFrame',\n",
       " 'URL_PATTERN',\n",
       " 'USER_HANDLES_REGEX',\n",
       " 'VISACard_REGEX',\n",
       " '__builtins__',\n",
       " '__cached__',\n",
       " '__doc__',\n",
       " '__file__',\n",
       " '__generate_text',\n",
       " '__loader__',\n",
       " '__name__',\n",
       " '__numbers_dict',\n",
       " '__package__',\n",
       " '__spec__',\n",
       " '_lex_richness_herdan',\n",
       " '_lex_richness_maas_ttr',\n",
       " 'clean_text',\n",
       " 'defaultdict',\n",
       " 'digit2words',\n",
       " 'extract_btc_address',\n",
       " 'extract_currencies',\n",
       " 'extract_currency_symbols',\n",
       " 'extract_dates',\n",
       " 'extract_emails',\n",
       " 'extract_emojis',\n",
       " 'extract_hashtags',\n",
       " 'extract_html_tags',\n",
       " 'extract_mastercard_addr',\n",
       " 'extract_md5sha',\n",
       " 'extract_numbers',\n",
       " 'extract_pattern',\n",
       " 'extract_phone_numbers',\n",
       " 'extract_postoffice_box',\n",
       " 'extract_shortwords',\n",
       " 'extract_special_characters',\n",
       " 'extract_stopwords',\n",
       " 'extract_street_address',\n",
       " 'extract_terms_in_bracket',\n",
       " 'extract_urls',\n",
       " 'extract_userhandles',\n",
       " 'extract_visacard_addr',\n",
       " 'fix_contractions',\n",
       " 'generate_sentence',\n",
       " 'hamming_distance',\n",
       " 'inverse_df',\n",
       " 'lexical_richness',\n",
       " 'markov_chain',\n",
       " 'math',\n",
       " 'nlargest',\n",
       " 'normalize',\n",
       " 'num2words',\n",
       " 'random',\n",
       " 're',\n",
       " 'read_txt',\n",
       " 'remove_bad_quotes',\n",
       " 'remove_btc_address',\n",
       " 'remove_currencies',\n",
       " 'remove_currency_symbols',\n",
       " 'remove_custom_pattern',\n",
       " 'remove_custom_words',\n",
       " 'remove_dates',\n",
       " 'remove_emails',\n",
       " 'remove_emojis',\n",
       " 'remove_hashtags',\n",
       " 'remove_html_tags',\n",
       " 'remove_mastercard_addr',\n",
       " 'remove_md5sha',\n",
       " 'remove_multiple_spaces',\n",
       " 'remove_non_ascii',\n",
       " 'remove_numbers',\n",
       " 'remove_phone_numbers',\n",
       " 'remove_postoffice_box',\n",
       " 'remove_puncts',\n",
       " 'remove_punctuations',\n",
       " 'remove_shortwords',\n",
       " 'remove_special_characters',\n",
       " 'remove_stopwords',\n",
       " 'remove_street_address',\n",
       " 'remove_terms_in_bracket',\n",
       " 'remove_urls',\n",
       " 'remove_userhandles',\n",
       " 'remove_visacard_addr',\n",
       " 'replace_bad_quotes',\n",
       " 'replace_currencies',\n",
       " 'replace_currency_symbols',\n",
       " 'replace_dates',\n",
       " 'replace_emails',\n",
       " 'replace_emojis',\n",
       " 'replace_numbers',\n",
       " 'replace_phone_numbers',\n",
       " 'replace_special_characters',\n",
       " 'replace_term',\n",
       " 'replace_urls',\n",
       " 'string',\n",
       " 'term_freq',\n",
       " 'to_txt',\n",
       " 'word_freq',\n",
       " 'word_length_freq']"
      ]
     },
     "execution_count": 69,
     "metadata": {},
     "output_type": "execute_result"
    }
   ],
   "source": [
    "\n",
    "dir(nfx)\n",
    "\n",
    "\n"
   ]
  },
  {
   "cell_type": "code",
   "execution_count": 70,
   "id": "b91ba503",
   "metadata": {},
   "outputs": [],
   "source": [
    "\n",
    "data['Clean_Text']=data['Text'].apply(nfx.remove_special_characters)"
   ]
  },
  {
   "cell_type": "code",
   "execution_count": 71,
   "id": "434d7ffc",
   "metadata": {},
   "outputs": [],
   "source": [
    "data['Clean_Text']=data['Clean_Text'].apply(nfx.remove_punctuations)"
   ]
  },
  {
   "cell_type": "code",
   "execution_count": 72,
   "id": "b4f812c6",
   "metadata": {},
   "outputs": [],
   "source": [
    "data['Clean_Text']=data['Clean_Text'].apply(nfx.remove_stopwords)"
   ]
  },
  {
   "cell_type": "code",
   "execution_count": 73,
   "id": "415ac033",
   "metadata": {},
   "outputs": [],
   "source": [
    "data['Clean_Text']=data['Clean_Text'].apply(nfx.remove_userhandles)"
   ]
  },
  {
   "cell_type": "code",
   "execution_count": 74,
   "id": "3d9d066d",
   "metadata": {},
   "outputs": [
    {
     "data": {
      "text/html": [
       "<div>\n",
       "<style scoped>\n",
       "    .dataframe tbody tr th:only-of-type {\n",
       "        vertical-align: middle;\n",
       "    }\n",
       "\n",
       "    .dataframe tbody tr th {\n",
       "        vertical-align: top;\n",
       "    }\n",
       "\n",
       "    .dataframe thead th {\n",
       "        text-align: right;\n",
       "    }\n",
       "</style>\n",
       "<table border=\"1\" class=\"dataframe\">\n",
       "  <thead>\n",
       "    <tr style=\"text-align: right;\">\n",
       "      <th></th>\n",
       "      <th>Text</th>\n",
       "      <th>Clean_Text</th>\n",
       "    </tr>\n",
       "  </thead>\n",
       "  <tbody>\n",
       "    <tr>\n",
       "      <th>0</th>\n",
       "      <td>I suppose I am happy being so ` tiny' ; it mea...</td>\n",
       "      <td>suppose happy tiny means able surprise people ...</td>\n",
       "    </tr>\n",
       "    <tr>\n",
       "      <th>1</th>\n",
       "      <td>Lennox has always truly wanted to fight for th...</td>\n",
       "      <td>Lennox truly wanted fight world title happy ta...</td>\n",
       "    </tr>\n",
       "    <tr>\n",
       "      <th>2</th>\n",
       "      <td>He was a professional musician now , still sen...</td>\n",
       "      <td>professional musician sensitive happy loved</td>\n",
       "    </tr>\n",
       "    <tr>\n",
       "      <th>3</th>\n",
       "      <td>Holmes is happy having the freedom of the hous...</td>\n",
       "      <td>Holmes happy freedom house</td>\n",
       "    </tr>\n",
       "    <tr>\n",
       "      <th>4</th>\n",
       "      <td>I had problems with tutors trying to encourage...</td>\n",
       "      <td>problems tutors trying encourage diversity wor...</td>\n",
       "    </tr>\n",
       "    <tr>\n",
       "      <th>...</th>\n",
       "      <td>...</td>\n",
       "      <td>...</td>\n",
       "    </tr>\n",
       "    <tr>\n",
       "      <th>2409</th>\n",
       "      <td>He gets real humiliated and has to leave .</td>\n",
       "      <td>gets real humiliated leave</td>\n",
       "    </tr>\n",
       "    <tr>\n",
       "      <th>2410</th>\n",
       "      <td>They aimed for higher status jobs and felt hum...</td>\n",
       "      <td>aimed higher status jobs felt humiliated unemp...</td>\n",
       "    </tr>\n",
       "    <tr>\n",
       "      <th>2411</th>\n",
       "      <td>He cursed his lack of self-control ; he knew t...</td>\n",
       "      <td>cursed lack selfcontrol knew old biddies seen ...</td>\n",
       "    </tr>\n",
       "    <tr>\n",
       "      <th>2412</th>\n",
       "      <td>Sometimes I've thought I 'll never forget wha...</td>\n",
       "      <td>Ive thought forget happened comes feel guilty ...</td>\n",
       "    </tr>\n",
       "    <tr>\n",
       "      <th>2413</th>\n",
       "      <td>GRAHAM TAYLOR will defy the fury of a humiliat...</td>\n",
       "      <td>GRAHAM TAYLOR defy fury humiliated nation risk...</td>\n",
       "    </tr>\n",
       "  </tbody>\n",
       "</table>\n",
       "<p>2414 rows × 2 columns</p>\n",
       "</div>"
      ],
      "text/plain": [
       "                                                   Text  \\\n",
       "0     I suppose I am happy being so ` tiny' ; it mea...   \n",
       "1     Lennox has always truly wanted to fight for th...   \n",
       "2     He was a professional musician now , still sen...   \n",
       "3     Holmes is happy having the freedom of the hous...   \n",
       "4     I had problems with tutors trying to encourage...   \n",
       "...                                                 ...   \n",
       "2409        He gets real humiliated and has to leave .    \n",
       "2410  They aimed for higher status jobs and felt hum...   \n",
       "2411  He cursed his lack of self-control ; he knew t...   \n",
       "2412   Sometimes I've thought I 'll never forget wha...   \n",
       "2413  GRAHAM TAYLOR will defy the fury of a humiliat...   \n",
       "\n",
       "                                             Clean_Text  \n",
       "0     suppose happy tiny means able surprise people ...  \n",
       "1     Lennox truly wanted fight world title happy ta...  \n",
       "2           professional musician sensitive happy loved  \n",
       "3                            Holmes happy freedom house  \n",
       "4     problems tutors trying encourage diversity wor...  \n",
       "...                                                 ...  \n",
       "2409                         gets real humiliated leave  \n",
       "2410  aimed higher status jobs felt humiliated unemp...  \n",
       "2411  cursed lack selfcontrol knew old biddies seen ...  \n",
       "2412  Ive thought forget happened comes feel guilty ...  \n",
       "2413  GRAHAM TAYLOR defy fury humiliated nation risk...  \n",
       "\n",
       "[2414 rows x 2 columns]"
      ]
     },
     "execution_count": 74,
     "metadata": {},
     "output_type": "execute_result"
    }
   ],
   "source": [
    "data[['Text','Clean_Text']]"
   ]
  },
  {
   "cell_type": "code",
   "execution_count": 75,
   "id": "14e1ebcc",
   "metadata": {},
   "outputs": [
    {
     "data": {
      "text/plain": [
       "sad         575\n",
       "anger       483\n",
       "happy       479\n",
       "fear        423\n",
       "surprise    213\n",
       "shame       146\n",
       "disgust      95\n",
       "Name: Emotion, dtype: int64"
      ]
     },
     "execution_count": 75,
     "metadata": {},
     "output_type": "execute_result"
    }
   ],
   "source": [
    "data['Emotion'].value_counts()"
   ]
  },
  {
   "cell_type": "code",
   "execution_count": 76,
   "id": "e8739e1d",
   "metadata": {},
   "outputs": [],
   "source": [
    "#Daily Dialog:\n",
    "\n",
    "sent_to_id  = {\"sad\":0, \"anger\":1, \"happy\":2, \"fear\":3, \"surprise\":4, \"shame\":5, \"disgust\":6}\n",
    "\n",
    "\n",
    "#Isear:\n",
    "#sent_to_id  = {\"joy\":0, \"fear\":1, \"anger\":2, \"sadness\":3, \"disgust\":4, \"shame\":5, \"guilt\":6}\n",
    "\n",
    "# Tweet Emotion:\n",
    " #sent_to_id  = {\"neutral\":0, \"worry\":1, \"happiness\":2, \"sadness\":3, \"love\":4, \"surprise\":5, \"fun\":6, \"relief\":7, \"hate\":8, \"empty\":9, \"enthusiasm\":10, \"boredom\":11, \"anger\":12}"
   ]
  },
  {
   "cell_type": "code",
   "execution_count": 77,
   "id": "2c2eda59",
   "metadata": {},
   "outputs": [],
   "source": [
    "data[\"sentiment_id\"] = data['Emotion'].map(sent_to_id)"
   ]
  },
  {
   "cell_type": "code",
   "execution_count": 78,
   "id": "b5185313",
   "metadata": {},
   "outputs": [
    {
     "data": {
      "text/plain": [
       "0       2\n",
       "1       2\n",
       "2       2\n",
       "3       2\n",
       "4       2\n",
       "       ..\n",
       "2409    5\n",
       "2410    5\n",
       "2411    5\n",
       "2412    5\n",
       "2413    5\n",
       "Name: sentiment_id, Length: 2414, dtype: int64"
      ]
     },
     "execution_count": 78,
     "metadata": {},
     "output_type": "execute_result"
    }
   ],
   "source": [
    "data[\"sentiment_id\"]"
   ]
  },
  {
   "cell_type": "code",
   "execution_count": 79,
   "id": "5be384c7",
   "metadata": {},
   "outputs": [
    {
     "data": {
      "text/html": [
       "<div>\n",
       "<style scoped>\n",
       "    .dataframe tbody tr th:only-of-type {\n",
       "        vertical-align: middle;\n",
       "    }\n",
       "\n",
       "    .dataframe tbody tr th {\n",
       "        vertical-align: top;\n",
       "    }\n",
       "\n",
       "    .dataframe thead th {\n",
       "        text-align: right;\n",
       "    }\n",
       "</style>\n",
       "<table border=\"1\" class=\"dataframe\">\n",
       "  <thead>\n",
       "    <tr style=\"text-align: right;\">\n",
       "      <th></th>\n",
       "      <th>Emotion</th>\n",
       "      <th>Text</th>\n",
       "      <th>Clean_Text</th>\n",
       "      <th>sentiment_id</th>\n",
       "    </tr>\n",
       "  </thead>\n",
       "  <tbody>\n",
       "    <tr>\n",
       "      <th>0</th>\n",
       "      <td>happy</td>\n",
       "      <td>I suppose I am happy being so ` tiny' ; it mea...</td>\n",
       "      <td>suppose happy tiny means able surprise people ...</td>\n",
       "      <td>2</td>\n",
       "    </tr>\n",
       "    <tr>\n",
       "      <th>1</th>\n",
       "      <td>happy</td>\n",
       "      <td>Lennox has always truly wanted to fight for th...</td>\n",
       "      <td>Lennox truly wanted fight world title happy ta...</td>\n",
       "      <td>2</td>\n",
       "    </tr>\n",
       "    <tr>\n",
       "      <th>2</th>\n",
       "      <td>happy</td>\n",
       "      <td>He was a professional musician now , still sen...</td>\n",
       "      <td>professional musician sensitive happy loved</td>\n",
       "      <td>2</td>\n",
       "    </tr>\n",
       "    <tr>\n",
       "      <th>3</th>\n",
       "      <td>happy</td>\n",
       "      <td>Holmes is happy having the freedom of the hous...</td>\n",
       "      <td>Holmes happy freedom house</td>\n",
       "      <td>2</td>\n",
       "    </tr>\n",
       "    <tr>\n",
       "      <th>4</th>\n",
       "      <td>happy</td>\n",
       "      <td>I had problems with tutors trying to encourage...</td>\n",
       "      <td>problems tutors trying encourage diversity wor...</td>\n",
       "      <td>2</td>\n",
       "    </tr>\n",
       "    <tr>\n",
       "      <th>...</th>\n",
       "      <td>...</td>\n",
       "      <td>...</td>\n",
       "      <td>...</td>\n",
       "      <td>...</td>\n",
       "    </tr>\n",
       "    <tr>\n",
       "      <th>2409</th>\n",
       "      <td>shame</td>\n",
       "      <td>He gets real humiliated and has to leave .</td>\n",
       "      <td>gets real humiliated leave</td>\n",
       "      <td>5</td>\n",
       "    </tr>\n",
       "    <tr>\n",
       "      <th>2410</th>\n",
       "      <td>shame</td>\n",
       "      <td>They aimed for higher status jobs and felt hum...</td>\n",
       "      <td>aimed higher status jobs felt humiliated unemp...</td>\n",
       "      <td>5</td>\n",
       "    </tr>\n",
       "    <tr>\n",
       "      <th>2411</th>\n",
       "      <td>shame</td>\n",
       "      <td>He cursed his lack of self-control ; he knew t...</td>\n",
       "      <td>cursed lack selfcontrol knew old biddies seen ...</td>\n",
       "      <td>5</td>\n",
       "    </tr>\n",
       "    <tr>\n",
       "      <th>2412</th>\n",
       "      <td>shame</td>\n",
       "      <td>Sometimes I've thought I 'll never forget wha...</td>\n",
       "      <td>Ive thought forget happened comes feel guilty ...</td>\n",
       "      <td>5</td>\n",
       "    </tr>\n",
       "    <tr>\n",
       "      <th>2413</th>\n",
       "      <td>shame</td>\n",
       "      <td>GRAHAM TAYLOR will defy the fury of a humiliat...</td>\n",
       "      <td>GRAHAM TAYLOR defy fury humiliated nation risk...</td>\n",
       "      <td>5</td>\n",
       "    </tr>\n",
       "  </tbody>\n",
       "</table>\n",
       "<p>2414 rows × 4 columns</p>\n",
       "</div>"
      ],
      "text/plain": [
       "     Emotion                                               Text  \\\n",
       "0      happy  I suppose I am happy being so ` tiny' ; it mea...   \n",
       "1      happy  Lennox has always truly wanted to fight for th...   \n",
       "2      happy  He was a professional musician now , still sen...   \n",
       "3      happy  Holmes is happy having the freedom of the hous...   \n",
       "4      happy  I had problems with tutors trying to encourage...   \n",
       "...      ...                                                ...   \n",
       "2409   shame        He gets real humiliated and has to leave .    \n",
       "2410   shame  They aimed for higher status jobs and felt hum...   \n",
       "2411   shame  He cursed his lack of self-control ; he knew t...   \n",
       "2412   shame   Sometimes I've thought I 'll never forget wha...   \n",
       "2413   shame  GRAHAM TAYLOR will defy the fury of a humiliat...   \n",
       "\n",
       "                                             Clean_Text  sentiment_id  \n",
       "0     suppose happy tiny means able surprise people ...             2  \n",
       "1     Lennox truly wanted fight world title happy ta...             2  \n",
       "2           professional musician sensitive happy loved             2  \n",
       "3                            Holmes happy freedom house             2  \n",
       "4     problems tutors trying encourage diversity wor...             2  \n",
       "...                                                 ...           ...  \n",
       "2409                         gets real humiliated leave             5  \n",
       "2410  aimed higher status jobs felt humiliated unemp...             5  \n",
       "2411  cursed lack selfcontrol knew old biddies seen ...             5  \n",
       "2412  Ive thought forget happened comes feel guilty ...             5  \n",
       "2413  GRAHAM TAYLOR defy fury humiliated nation risk...             5  \n",
       "\n",
       "[2414 rows x 4 columns]"
      ]
     },
     "execution_count": 79,
     "metadata": {},
     "output_type": "execute_result"
    }
   ],
   "source": [
    "data"
   ]
  },
  {
   "cell_type": "code",
   "execution_count": 80,
   "id": "d06629d5",
   "metadata": {},
   "outputs": [],
   "source": [
    "from sklearn.preprocessing import LabelEncoder,OneHotEncoder\n",
    "label_encoder = LabelEncoder()\n",
    "integer_encoded = label_encoder.fit_transform(data.Emotion)\n",
    "\n",
    "onehot_encoder = OneHotEncoder(sparse=False)\n",
    "integer_encoded = integer_encoded.reshape(len(integer_encoded), 1)\n",
    "Y = onehot_encoder.fit_transform(integer_encoded)"
   ]
  },
  {
   "cell_type": "code",
   "execution_count": 81,
   "id": "171a34a6",
   "metadata": {},
   "outputs": [
    {
     "data": {
      "text/plain": [
       "array([[0., 0., 0., ..., 0., 0., 0.],\n",
       "       [0., 0., 0., ..., 0., 0., 0.],\n",
       "       [0., 0., 0., ..., 0., 0., 0.],\n",
       "       ...,\n",
       "       [0., 0., 0., ..., 0., 1., 0.],\n",
       "       [0., 0., 0., ..., 0., 1., 0.],\n",
       "       [0., 0., 0., ..., 0., 1., 0.]])"
      ]
     },
     "execution_count": 81,
     "metadata": {},
     "output_type": "execute_result"
    }
   ],
   "source": [
    "Y"
   ]
  },
  {
   "cell_type": "code",
   "execution_count": 82,
   "id": "6440df8e",
   "metadata": {},
   "outputs": [],
   "source": [
    "Xfeatures=data['Clean_Text']"
   ]
  },
  {
   "cell_type": "code",
   "execution_count": 83,
   "id": "6cba88e4",
   "metadata": {},
   "outputs": [
    {
     "name": "stdout",
     "output_type": "stream",
     "text": [
      "Train DataFrame\n"
     ]
    },
    {
     "data": {
      "text/html": [
       "<div>\n",
       "<style scoped>\n",
       "    .dataframe tbody tr th:only-of-type {\n",
       "        vertical-align: middle;\n",
       "    }\n",
       "\n",
       "    .dataframe tbody tr th {\n",
       "        vertical-align: top;\n",
       "    }\n",
       "\n",
       "    .dataframe thead th {\n",
       "        text-align: right;\n",
       "    }\n",
       "</style>\n",
       "<table border=\"1\" class=\"dataframe\">\n",
       "  <thead>\n",
       "    <tr style=\"text-align: right;\">\n",
       "      <th></th>\n",
       "      <th>Clean_Text</th>\n",
       "      <th>Emotion</th>\n",
       "    </tr>\n",
       "  </thead>\n",
       "  <tbody>\n",
       "    <tr>\n",
       "      <th>0</th>\n",
       "      <td>suppose happy tiny means able surprise people ...</td>\n",
       "      <td>happy</td>\n",
       "    </tr>\n",
       "    <tr>\n",
       "      <th>1</th>\n",
       "      <td>Lennox truly wanted fight world title happy ta...</td>\n",
       "      <td>happy</td>\n",
       "    </tr>\n",
       "    <tr>\n",
       "      <th>2</th>\n",
       "      <td>professional musician sensitive happy loved</td>\n",
       "      <td>happy</td>\n",
       "    </tr>\n",
       "  </tbody>\n",
       "</table>\n",
       "</div>"
      ],
      "text/plain": [
       "                                          Clean_Text Emotion\n",
       "0  suppose happy tiny means able surprise people ...   happy\n",
       "1  Lennox truly wanted fight world title happy ta...   happy\n",
       "2        professional musician sensitive happy loved   happy"
      ]
     },
     "metadata": {},
     "output_type": "display_data"
    }
   ],
   "source": [
    "final = data[['Clean_Text', 'Emotion']]\n",
    "print(\"Train DataFrame\")\n",
    "display(final.head(3))"
   ]
  },
  {
   "cell_type": "code",
   "execution_count": 84,
   "id": "99ec04d8",
   "metadata": {},
   "outputs": [],
   "source": [
    "\n",
    "from sklearn.model_selection import train_test_split\n",
    "X_train, X_test, y_train, y_test = train_test_split(Xfeatures,Y, random_state=42, test_size=0.2, shuffle=True)"
   ]
  },
  {
   "cell_type": "code",
   "execution_count": 85,
   "id": "cbda662d",
   "metadata": {},
   "outputs": [
    {
     "name": "stdout",
     "output_type": "stream",
     "text": [
      "Number of unique words: 7327\n"
     ]
    }
   ],
   "source": [
    "from keras.preprocessing import sequence, text\n",
    "from tokenizers import Tokenizer, models, pre_tokenizers, decoders, processors\n",
    "token = text.Tokenizer()\n",
    "token.fit_on_texts(list(X_train) + list(X_test))\n",
    "\n",
    "index_of_words = token.word_index\n",
    "\n",
    "# vacab size is number of unique words + reserved 0 index for padding\n",
    "vocab_size = len(index_of_words) + 1\n",
    "\n",
    "print('Number of unique words: {}'.format(len(index_of_words)))\n",
    "\n",
    "X_train_pad = sequence.pad_sequences(token.texts_to_sequences(X_train), maxlen=max_seq_len)\n",
    "X_test_pad = sequence.pad_sequences(token.texts_to_sequences(X_test), maxlen=max_seq_len)"
   ]
  },
  {
   "cell_type": "code",
   "execution_count": 86,
   "id": "cc30b988",
   "metadata": {},
   "outputs": [],
   "source": [
    "def create_embedding_matrix(filepath, word_index, embedding_dim):\n",
    "    vocab_size = len(word_index) + 1  # Adding again 1 because of reserved 0 index\n",
    "    embedding_matrix = np.zeros((vocab_size, embedding_dim))\n",
    "    with open(filepath,encoding=\"utf8\") as f:\n",
    "        for line in f:\n",
    "            word, *vector = line.split()\n",
    "            if word in word_index:\n",
    "                idx = word_index[word] \n",
    "                embedding_matrix[idx] = np.array(\n",
    "                    vector, dtype=np.float32)[:embedding_dim]\n",
    "    return embedding_matrix"
   ]
  },
  {
   "cell_type": "code",
   "execution_count": 87,
   "id": "d23f18e2",
   "metadata": {},
   "outputs": [],
   "source": [
    "import urllib.request\n",
    "import zipfile\n",
    "import os\n",
    "\n",
    "fname = 'embeddings/wiki-news-300d-1M.vec'\n",
    "\n",
    "if not os.path.isfile(fname):\n",
    "    print('Downloading word vectors...')\n",
    "    urllib.request.urlretrieve('https://dl.fbaipublicfiles.com/fasttext/vectors-english/wiki-news-300d-1M.vec.zip',\n",
    "                              'wiki-news-300d-1M.vec.zip')\n",
    "    print('Unzipping...')\n",
    "    with zipfile.ZipFile('wiki-news-300d-1M.vec.zip', 'r',encoding=\"utf8\") as zip_ref:\n",
    "        zip_ref.extractall('embeddings')\n",
    "    print('done.')\n",
    "    \n",
    "    os.remove('wiki-news-300d-1M.vec.zip')"
   ]
  },
  {
   "cell_type": "code",
   "execution_count": 88,
   "id": "b462ff5d",
   "metadata": {},
   "outputs": [
    {
     "data": {
      "text/plain": [
       "(7328, 300)"
      ]
     },
     "execution_count": 88,
     "metadata": {},
     "output_type": "execute_result"
    }
   ],
   "source": [
    "embedd_matrix = create_embedding_matrix(fname, index_of_words, embed_num_dims)\n",
    "embedd_matrix.shape"
   ]
  },
  {
   "cell_type": "code",
   "execution_count": 89,
   "id": "68db97e8",
   "metadata": {},
   "outputs": [
    {
     "name": "stdout",
     "output_type": "stream",
     "text": [
      "Words found in wiki vocab: 6776\n",
      "New words found: 551\n"
     ]
    }
   ],
   "source": [
    "new_words = 0\n",
    "\n",
    "for word in index_of_words:\n",
    "    entry = embedd_matrix[index_of_words[word]]\n",
    "    if all(v == 0 for v in entry):\n",
    "        new_words = new_words + 1\n",
    "\n",
    "print('Words found in wiki vocab: ' + str(len(index_of_words) - new_words))\n",
    "print('New words found: ' + str(new_words))"
   ]
  },
  {
   "cell_type": "code",
   "execution_count": 90,
   "id": "f5b3a55b",
   "metadata": {},
   "outputs": [],
   "source": [
    "embedd_layer = Embedding(vocab_size,\n",
    "                         embed_num_dims,\n",
    "                         input_length = max_seq_len,\n",
    "                         weights = [embedd_matrix],\n",
    "                         trainable=False)"
   ]
  },
  {
   "cell_type": "code",
   "execution_count": 101,
   "id": "fcb474ce",
   "metadata": {},
   "outputs": [],
   "source": [
    "#LSTM\n",
    "from keras.layers import Embedding, Bidirectional, LSTM, GRU, Dense\n",
    "gru_output_size = 128\n",
    "bidirectional = False\n",
    "\n",
    "# Embedding Layer, LSTM or biLSTM, Dense, softmax\n",
    "model = Sequential()\n",
    "model.add(embedd_layer)\n",
    "\n",
    "if bidirectional:\n",
    "    model.add(Bidirectional(GRU(units=gru_output_size,\n",
    "                              dropout=0.2,\n",
    "                              recurrent_dropout=0.2)))\n",
    "else:\n",
    "     model.add(GRU(units=gru_output_size,\n",
    "                dropout=0.2, \n",
    "                recurrent_dropout=0.2))\n",
    "\n",
    "model.add(Dense(7, activation='softmax'))\n",
    "\n",
    "#cnn\n",
    "#kernel_size = 3\n",
    "#filters = 256\n",
    "\n",
    "#model = Sequential()\n",
    "#model.add(embedd_layer)\n",
    "#model.add(Conv1D(filters, kernel_size, activation='relu'))\n",
    "#model.add(GlobalMaxPooling1D())\n",
    "#model.add(Dense(256, activation='relu'))\n",
    "#model.add(Dense(13, activation='softmax'))"
   ]
  },
  {
   "cell_type": "code",
   "execution_count": 102,
   "id": "c18011f7",
   "metadata": {},
   "outputs": [
    {
     "name": "stdout",
     "output_type": "stream",
     "text": [
      "Model: \"sequential_9\"\n",
      "_________________________________________________________________\n",
      " Layer (type)                Output Shape              Param #   \n",
      "=================================================================\n",
      " embedding_2 (Embedding)     (None, 80, 300)           2198400   \n",
      "                                                                 \n",
      " gru_9 (GRU)                 (None, 128)               165120    \n",
      "                                                                 \n",
      " dense_9 (Dense)             (None, 7)                 903       \n",
      "                                                                 \n",
      "=================================================================\n",
      "Total params: 2,364,423\n",
      "Trainable params: 166,023\n",
      "Non-trainable params: 2,198,400\n",
      "_________________________________________________________________\n"
     ]
    }
   ],
   "source": [
    "model.compile(loss = 'categorical_crossentropy', optimizer = 'adam', metrics = ['accuracy'])\n",
    "model.summary()"
   ]
  },
  {
   "cell_type": "code",
   "execution_count": 106,
   "id": "23eeb859",
   "metadata": {},
   "outputs": [
    {
     "name": "stdout",
     "output_type": "stream",
     "text": [
      "Epoch 1/20\n",
      "16/16 [==============================] - 8s 494ms/step - loss: 0.0335 - accuracy: 0.9907 - val_loss: 0.1602 - val_accuracy: 0.9586\n",
      "Epoch 2/20\n",
      "16/16 [==============================] - 8s 481ms/step - loss: 0.0346 - accuracy: 0.9922 - val_loss: 0.1958 - val_accuracy: 0.9586\n",
      "Epoch 3/20\n",
      "16/16 [==============================] - 8s 484ms/step - loss: 0.0331 - accuracy: 0.9933 - val_loss: 0.1558 - val_accuracy: 0.9607\n",
      "Epoch 4/20\n",
      "16/16 [==============================] - 8s 480ms/step - loss: 0.0331 - accuracy: 0.9933 - val_loss: 0.1639 - val_accuracy: 0.9627\n",
      "Epoch 5/20\n",
      "16/16 [==============================] - 8s 483ms/step - loss: 0.0281 - accuracy: 0.9922 - val_loss: 0.1608 - val_accuracy: 0.9586\n",
      "Epoch 6/20\n",
      "16/16 [==============================] - 8s 478ms/step - loss: 0.0277 - accuracy: 0.9953 - val_loss: 0.1616 - val_accuracy: 0.9607\n",
      "Epoch 7/20\n",
      "16/16 [==============================] - 8s 488ms/step - loss: 0.0307 - accuracy: 0.9948 - val_loss: 0.1611 - val_accuracy: 0.9648\n",
      "Epoch 8/20\n",
      "16/16 [==============================] - 8s 481ms/step - loss: 0.0235 - accuracy: 0.9969 - val_loss: 0.1606 - val_accuracy: 0.9627\n",
      "Epoch 9/20\n",
      "16/16 [==============================] - 8s 486ms/step - loss: 0.0209 - accuracy: 0.9964 - val_loss: 0.1542 - val_accuracy: 0.9648\n",
      "Epoch 10/20\n",
      "16/16 [==============================] - 8s 479ms/step - loss: 0.0251 - accuracy: 0.9943 - val_loss: 0.1590 - val_accuracy: 0.9565\n",
      "Epoch 11/20\n",
      "16/16 [==============================] - 8s 490ms/step - loss: 0.0284 - accuracy: 0.9933 - val_loss: 0.1616 - val_accuracy: 0.9586\n",
      "Epoch 12/20\n",
      "16/16 [==============================] - 8s 485ms/step - loss: 0.0324 - accuracy: 0.9917 - val_loss: 0.1700 - val_accuracy: 0.9565\n",
      "Epoch 13/20\n",
      "16/16 [==============================] - 8s 488ms/step - loss: 0.0257 - accuracy: 0.9933 - val_loss: 0.1567 - val_accuracy: 0.9648\n",
      "Epoch 14/20\n",
      "16/16 [==============================] - 8s 479ms/step - loss: 0.0253 - accuracy: 0.9938 - val_loss: 0.1439 - val_accuracy: 0.9648\n",
      "Epoch 15/20\n",
      "16/16 [==============================] - 8s 488ms/step - loss: 0.0266 - accuracy: 0.9938 - val_loss: 0.1441 - val_accuracy: 0.9627\n",
      "Epoch 16/20\n",
      "16/16 [==============================] - 8s 480ms/step - loss: 0.0210 - accuracy: 0.9974 - val_loss: 0.1410 - val_accuracy: 0.9669\n",
      "Epoch 17/20\n",
      "16/16 [==============================] - 8s 485ms/step - loss: 0.0207 - accuracy: 0.9969 - val_loss: 0.1726 - val_accuracy: 0.9586\n",
      "Epoch 18/20\n",
      "16/16 [==============================] - 8s 477ms/step - loss: 0.0174 - accuracy: 0.9964 - val_loss: 0.1579 - val_accuracy: 0.9648\n",
      "Epoch 19/20\n",
      "16/16 [==============================] - 8s 489ms/step - loss: 0.0186 - accuracy: 0.9948 - val_loss: 0.1543 - val_accuracy: 0.9648\n",
      "Epoch 20/20\n",
      "16/16 [==============================] - 8s 494ms/step - loss: 0.0203 - accuracy: 0.9959 - val_loss: 0.1600 - val_accuracy: 0.9607\n"
     ]
    }
   ],
   "source": [
    "batch_size = 128\n",
    "epochs = 20\n",
    "\n",
    "hist = model.fit(X_train_pad, y_train, \n",
    "                 batch_size=batch_size,\n",
    "                 epochs=epochs,\n",
    "                 validation_data=(X_test_pad,y_test))"
   ]
  },
  {
   "cell_type": "code",
   "execution_count": 108,
   "id": "8635624b",
   "metadata": {},
   "outputs": [
    {
     "data": {
      "image/png": "[encoded data removed]",
      "text/plain": [
       "<Figure size 432x288 with 1 Axes>"
      ]
     },
     "metadata": {
      "needs_background": "light"
     },
     "output_type": "display_data"
    },
    {
     "data": {
      "image/png": "[encoded data removed]",
      "text/plain": [
       "<Figure size 432x288 with 1 Axes>"
      ]
     },
     "metadata": {
      "needs_background": "light"
     },
     "output_type": "display_data"
    }
   ],
   "source": [
    "# Accuracy plot\n",
    "plt.plot(hist.history['accuracy'])\n",
    "plt.plot(hist.history['val_accuracy'])\n",
    "plt.title('model accuracy')\n",
    "plt.ylabel('accuracy')\n",
    "plt.xlabel('epoch')\n",
    "plt.legend(['train', 'validation'], loc='upper left')\n",
    "plt.show()\n",
    "\n",
    "# Loss plot\n",
    "plt.plot(hist.history['loss'])\n",
    "plt.plot(hist.history['val_loss'])\n",
    "plt.title('model loss')\n",
    "plt.ylabel('loss')\n",
    "plt.xlabel('epoch')\n",
    "plt.legend(['train', 'validation'], loc='upper left')\n",
    "plt.show()"
   ]
  },
  {
   "cell_type": "code",
   "execution_count": 109,
   "id": "8423b644",
   "metadata": {},
   "outputs": [
    {
     "name": "stdout",
     "output_type": "stream",
     "text": [
      "Confusion Matrix\n",
      "              precision    recall  f1-score   support\n",
      "\n",
      "           0       0.97      0.97      0.97       116\n",
      "           1       1.00      0.77      0.87        22\n",
      "           2       0.91      0.93      0.92        76\n",
      "           3       1.00      0.96      0.98        79\n",
      "           4       0.94      0.99      0.97       118\n",
      "           5       0.94      1.00      0.97        29\n",
      "           6       1.00      0.95      0.98        43\n",
      "\n",
      "    accuracy                           0.96       483\n",
      "   macro avg       0.97      0.94      0.95       483\n",
      "weighted avg       0.96      0.96      0.96       483\n",
      "\n"
     ]
    }
   ],
   "source": [
    "from sklearn.preprocessing import StandardScaler\n",
    "from sklearn.metrics import classification_report\n",
    "\n",
    "from sklearn import metrics\n",
    "\n",
    "y_test_arg=np.argmax(y_test,axis=1)\n",
    "\n",
    "predicted = model.predict(X_test_pad)\n",
    "predict_classes=np.argmax(predicted,axis=1)\n",
    "predict_classes[1]                        \n",
    "print('Confusion Matrix')\n",
    "print(metrics.classification_report(y_test_arg, predict_classes))"
   ]
  },
  {
   "cell_type": "code",
   "execution_count": null,
   "id": "5c621b7b",
   "metadata": {},
   "outputs": [],
   "source": []
  },
  {
   "cell_type": "code",
   "execution_count": null,
   "id": "4b0001dc",
   "metadata": {},
   "outputs": [],
   "source": []
  }
 ],
 "metadata": {
  "kernelspec": {
   "display_name": "Python 3 (ipykernel)",
   "language": "python",
   "name": "python3"
  },
  "language_info": {
   "codemirror_mode": {
    "name": "ipython",
    "version": 3
   },
   "file_extension": ".py",
   "mimetype": "text/x-python",
   "name": "python",
   "nbconvert_exporter": "python",
   "pygments_lexer": "ipython3",
   "version": "3.9.7"
  }
 },
 "nbformat": 4,
 "nbformat_minor": 5
}
